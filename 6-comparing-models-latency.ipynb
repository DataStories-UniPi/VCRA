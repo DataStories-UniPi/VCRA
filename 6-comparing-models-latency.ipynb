{
 "cells": [
  {
   "cell_type": "code",
   "execution_count": 1,
   "metadata": {},
   "outputs": [],
   "source": [
    "import numpy as np\n",
    "import pandas as pd\n",
    "import geopandas as gpd\n",
    "import contextily as ctx\n",
    "\n",
    "import sys, os\n",
    "import sklearn\n",
    "import datetime\n",
    "\n",
    "import importlib\n",
    "import itertools\n",
    "from tqdm import tqdm\n",
    "import matplotlib.pyplot as plt\n",
    "\n",
    "from sklearn.neighbors import KDTree, BallTree"
   ]
  },
  {
   "cell_type": "code",
   "execution_count": 2,
   "metadata": {
    "tags": []
   },
   "outputs": [
    {
     "data": {
      "text/plain": [
       "<module 'nn_evaluation' from '/Users/andrewt/Documents/Univ. Piraeus Research Center/VCRA/nn_evaluation.py'>"
      ]
     },
     "execution_count": 2,
     "metadata": {},
     "output_type": "execute_result"
    }
   ],
   "source": [
    "import st_toolkit as geohl\n",
    "importlib.reload(geohl)\n",
    "\n",
    "import cri_calc as cri\n",
    "importlib.reload(cri)\n",
    "\n",
    "import cri_helper as helper\n",
    "importlib.reload(helper)"
   ]
  },
  {
   "cell_type": "code",
   "execution_count": null,
   "metadata": {
    "collapsed": false,
    "jupyter": {
     "outputs_hidden": false
    },
    "pycharm": {
     "name": "#%%\n"
    }
   },
   "outputs": [],
   "source": []
  },
  {
   "attachments": {},
   "cell_type": "markdown",
   "metadata": {},
   "source": [
    "## Load Models\n",
    "  * ### Pick the best performing models (w.r.t RMSL[og]E) per Fold"
   ]
  },
  {
   "cell_type": "code",
   "execution_count": 3,
   "metadata": {},
   "outputs": [],
   "source": [
    "vcra_skf_results_df = pd.read_pickle('./data/pickle/vcra_skf_results_df_v14.pickle')\n",
    "best_models = vcra_skf_results_df.groupby(level=0, sort=False).rmsle.idxmin()"
   ]
  },
  {
   "cell_type": "code",
   "execution_count": 4,
   "metadata": {},
   "outputs": [],
   "source": [
    "models = vcra_skf_results_df.loc[best_models].copy()"
   ]
  },
  {
   "cell_type": "code",
   "execution_count": 5,
   "metadata": {},
   "outputs": [
    {
     "data": {
      "text/html": [
       "<div>\n",
       "<style scoped>\n",
       "    .dataframe tbody tr th:only-of-type {\n",
       "        vertical-align: middle;\n",
       "    }\n",
       "\n",
       "    .dataframe tbody tr th {\n",
       "        vertical-align: top;\n",
       "    }\n",
       "\n",
       "    .dataframe thead th {\n",
       "        text-align: right;\n",
       "    }\n",
       "</style>\n",
       "<table border=\"1\" class=\"dataframe\">\n",
       "  <thead>\n",
       "    <tr style=\"text-align: right;\">\n",
       "      <th></th>\n",
       "      <th></th>\n",
       "      <th>instance</th>\n",
       "      <th>y_true</th>\n",
       "      <th>y_pred</th>\n",
       "      <th>acc</th>\n",
       "      <th>mae</th>\n",
       "      <th>rmse</th>\n",
       "      <th>rmsle</th>\n",
       "      <th>r2_score</th>\n",
       "    </tr>\n",
       "    <tr>\n",
       "      <th>model</th>\n",
       "      <th></th>\n",
       "      <th></th>\n",
       "      <th></th>\n",
       "      <th></th>\n",
       "      <th></th>\n",
       "      <th></th>\n",
       "      <th></th>\n",
       "      <th></th>\n",
       "      <th></th>\n",
       "    </tr>\n",
       "  </thead>\n",
       "  <tbody>\n",
       "    <tr>\n",
       "      <th>cart_vcra</th>\n",
       "      <th>2</th>\n",
       "      <td>(StandardScaler(), (DecisionTreeRegressor(max_...</td>\n",
       "      <td>[0.9386086811364309, 0.8531393744585727, 0.925...</td>\n",
       "      <td>[0.9386849135864637, 0.8546624509781502, 0.924...</td>\n",
       "      <td>0.855561</td>\n",
       "      <td>0.039232</td>\n",
       "      <td>0.115009</td>\n",
       "      <td>0.084237</td>\n",
       "      <td>0.855561</td>\n",
       "    </tr>\n",
       "    <tr>\n",
       "      <th>svm_vcra</th>\n",
       "      <th>3</th>\n",
       "      <td>(StandardScaler(), SVR(gamma='auto', verbose=T...</td>\n",
       "      <td>[0.9421287794930369, 0.9303150848403041, 0.937...</td>\n",
       "      <td>[1.0, 0.9274339036683672, 1.0, 0.9634113052502...</td>\n",
       "      <td>0.581359</td>\n",
       "      <td>0.118443</td>\n",
       "      <td>0.194147</td>\n",
       "      <td>0.143246</td>\n",
       "      <td>0.588275</td>\n",
       "    </tr>\n",
       "    <tr>\n",
       "      <th>rvm_vcra</th>\n",
       "      <th>0</th>\n",
       "      <td>(StandardScaler(), EMRVR(init_alpha=1.57582934...</td>\n",
       "      <td>[0.9386086811364309, 0.8939913491298078, 0.853...</td>\n",
       "      <td>[0.9730571392498675, 0.7508551282157878, 0.881...</td>\n",
       "      <td>0.575050</td>\n",
       "      <td>0.127419</td>\n",
       "      <td>0.192971</td>\n",
       "      <td>0.137354</td>\n",
       "      <td>0.593421</td>\n",
       "    </tr>\n",
       "    <tr>\n",
       "      <th>mlp_vcra</th>\n",
       "      <th>0</th>\n",
       "      <td>(StandardScaler(), MLPRegressor(early_stopping...</td>\n",
       "      <td>[0.9751822620069324, 0.7722869884296601, 0.0, ...</td>\n",
       "      <td>[0.9430493146245351, 0.7587157368294114, 0.0, ...</td>\n",
       "      <td>0.964867</td>\n",
       "      <td>0.022683</td>\n",
       "      <td>0.055928</td>\n",
       "      <td>0.040701</td>\n",
       "      <td>0.965836</td>\n",
       "    </tr>\n",
       "  </tbody>\n",
       "</table>\n",
       "</div>"
      ],
      "text/plain": [
       "                                                      instance  \\\n",
       "model                                                            \n",
       "cart_vcra 2  (StandardScaler(), (DecisionTreeRegressor(max_...   \n",
       "svm_vcra  3  (StandardScaler(), SVR(gamma='auto', verbose=T...   \n",
       "rvm_vcra  0  (StandardScaler(), EMRVR(init_alpha=1.57582934...   \n",
       "mlp_vcra  0  (StandardScaler(), MLPRegressor(early_stopping...   \n",
       "\n",
       "                                                        y_true  \\\n",
       "model                                                            \n",
       "cart_vcra 2  [0.9386086811364309, 0.8531393744585727, 0.925...   \n",
       "svm_vcra  3  [0.9421287794930369, 0.9303150848403041, 0.937...   \n",
       "rvm_vcra  0  [0.9386086811364309, 0.8939913491298078, 0.853...   \n",
       "mlp_vcra  0  [0.9751822620069324, 0.7722869884296601, 0.0, ...   \n",
       "\n",
       "                                                        y_pred       acc  \\\n",
       "model                                                                      \n",
       "cart_vcra 2  [0.9386849135864637, 0.8546624509781502, 0.924...  0.855561   \n",
       "svm_vcra  3  [1.0, 0.9274339036683672, 1.0, 0.9634113052502...  0.581359   \n",
       "rvm_vcra  0  [0.9730571392498675, 0.7508551282157878, 0.881...  0.575050   \n",
       "mlp_vcra  0  [0.9430493146245351, 0.7587157368294114, 0.0, ...  0.964867   \n",
       "\n",
       "                  mae      rmse     rmsle  r2_score  \n",
       "model                                                \n",
       "cart_vcra 2  0.039232  0.115009  0.084237  0.855561  \n",
       "svm_vcra  3  0.118443  0.194147  0.143246  0.588275  \n",
       "rvm_vcra  0  0.127419  0.192971  0.137354  0.593421  \n",
       "mlp_vcra  0  0.022683  0.055928  0.040701  0.965836  "
      ]
     },
     "execution_count": 5,
     "metadata": {},
     "output_type": "execute_result"
    }
   ],
   "source": [
    "models"
   ]
  },
  {
   "cell_type": "code",
   "execution_count": null,
   "metadata": {},
   "outputs": [],
   "source": []
  },
  {
   "attachments": {},
   "cell_type": "markdown",
   "metadata": {
    "tags": []
   },
   "source": [
    "## Check inference time on the busiest (in terms of concurrent encounters) timeslice of the Norway Dataset"
   ]
  },
  {
   "cell_type": "code",
   "execution_count": 6,
   "metadata": {},
   "outputs": [],
   "source": [
    "gdf_vcra = pd.read_pickle('./data/norway-dataset/oslo_jan_mar_2019_4w_prep_encountering.vcra_dataset_v14.pickle')"
   ]
  },
  {
   "cell_type": "code",
   "execution_count": 7,
   "metadata": {},
   "outputs": [],
   "source": [
    "timestamp_max_traffic = gdf_vcra.groupby(level=0).apply(len).idxmax()\n",
    "timeslice_max_traffic = gdf_vcra.xs((timestamp_max_traffic,), level=0)"
   ]
  },
  {
   "cell_type": "code",
   "execution_count": 9,
   "metadata": {},
   "outputs": [
    {
     "data": {
      "text/plain": [
       "Timestamp('2019-01-09 10:26:30')"
      ]
     },
     "execution_count": 9,
     "metadata": {},
     "output_type": "execute_result"
    }
   ],
   "source": [
    "timestamp_max_traffic"
   ]
  },
  {
   "cell_type": "code",
   "execution_count": null,
   "metadata": {},
   "outputs": [],
   "source": []
  },
  {
   "attachments": {},
   "cell_type": "markdown",
   "metadata": {},
   "source": [
    "  * ### CART-VCRA (Li et al.)"
   ]
  },
  {
   "cell_type": "code",
   "execution_count": 21,
   "metadata": {},
   "outputs": [],
   "source": [
    "# cart_vcra_features = ['dist_euclid', 'own_speed', 'target_speed', 'own_course', 'target_course', 'azimuth_angle_target_to_own']\n",
    "cart_vcra_features = ['dist_euclid', 'own_speed', 'target_speed', 'own_course_rad', 'target_course_rad', 'azimuth_angle_target_to_own']\n",
    "\n",
    "cart_vcra_samples = timeslice_max_traffic.loc[:, cart_vcra_features].copy()\n",
    "cart_vcra_model = models.loc['cart_vcra'].instance.values[0]"
   ]
  },
  {
   "cell_type": "code",
   "execution_count": 11,
   "metadata": {},
   "outputs": [
    {
     "data": {
      "text/html": [
       "<style>#sk-container-id-1 {color: black;background-color: white;}#sk-container-id-1 pre{padding: 0;}#sk-container-id-1 div.sk-toggleable {background-color: white;}#sk-container-id-1 label.sk-toggleable__label {cursor: pointer;display: block;width: 100%;margin-bottom: 0;padding: 0.3em;box-sizing: border-box;text-align: center;}#sk-container-id-1 label.sk-toggleable__label-arrow:before {content: \"▸\";float: left;margin-right: 0.25em;color: #696969;}#sk-container-id-1 label.sk-toggleable__label-arrow:hover:before {color: black;}#sk-container-id-1 div.sk-estimator:hover label.sk-toggleable__label-arrow:before {color: black;}#sk-container-id-1 div.sk-toggleable__content {max-height: 0;max-width: 0;overflow: hidden;text-align: left;background-color: #f0f8ff;}#sk-container-id-1 div.sk-toggleable__content pre {margin: 0.2em;color: black;border-radius: 0.25em;background-color: #f0f8ff;}#sk-container-id-1 input.sk-toggleable__control:checked~div.sk-toggleable__content {max-height: 200px;max-width: 100%;overflow: auto;}#sk-container-id-1 input.sk-toggleable__control:checked~label.sk-toggleable__label-arrow:before {content: \"▾\";}#sk-container-id-1 div.sk-estimator input.sk-toggleable__control:checked~label.sk-toggleable__label {background-color: #d4ebff;}#sk-container-id-1 div.sk-label input.sk-toggleable__control:checked~label.sk-toggleable__label {background-color: #d4ebff;}#sk-container-id-1 input.sk-hidden--visually {border: 0;clip: rect(1px 1px 1px 1px);clip: rect(1px, 1px, 1px, 1px);height: 1px;margin: -1px;overflow: hidden;padding: 0;position: absolute;width: 1px;}#sk-container-id-1 div.sk-estimator {font-family: monospace;background-color: #f0f8ff;border: 1px dotted black;border-radius: 0.25em;box-sizing: border-box;margin-bottom: 0.5em;}#sk-container-id-1 div.sk-estimator:hover {background-color: #d4ebff;}#sk-container-id-1 div.sk-parallel-item::after {content: \"\";width: 100%;border-bottom: 1px solid gray;flex-grow: 1;}#sk-container-id-1 div.sk-label:hover label.sk-toggleable__label {background-color: #d4ebff;}#sk-container-id-1 div.sk-serial::before {content: \"\";position: absolute;border-left: 1px solid gray;box-sizing: border-box;top: 0;bottom: 0;left: 50%;z-index: 0;}#sk-container-id-1 div.sk-serial {display: flex;flex-direction: column;align-items: center;background-color: white;padding-right: 0.2em;padding-left: 0.2em;position: relative;}#sk-container-id-1 div.sk-item {position: relative;z-index: 1;}#sk-container-id-1 div.sk-parallel {display: flex;align-items: stretch;justify-content: center;background-color: white;position: relative;}#sk-container-id-1 div.sk-item::before, #sk-container-id-1 div.sk-parallel-item::before {content: \"\";position: absolute;border-left: 1px solid gray;box-sizing: border-box;top: 0;bottom: 0;left: 50%;z-index: -1;}#sk-container-id-1 div.sk-parallel-item {display: flex;flex-direction: column;z-index: 1;position: relative;background-color: white;}#sk-container-id-1 div.sk-parallel-item:first-child::after {align-self: flex-end;width: 50%;}#sk-container-id-1 div.sk-parallel-item:last-child::after {align-self: flex-start;width: 50%;}#sk-container-id-1 div.sk-parallel-item:only-child::after {width: 0;}#sk-container-id-1 div.sk-dashed-wrapped {border: 1px dashed gray;margin: 0 0.4em 0.5em 0.4em;box-sizing: border-box;padding-bottom: 0.4em;background-color: white;}#sk-container-id-1 div.sk-label label {font-family: monospace;font-weight: bold;display: inline-block;line-height: 1.2em;}#sk-container-id-1 div.sk-label-container {text-align: center;}#sk-container-id-1 div.sk-container {/* jupyter's `normalize.less` sets `[hidden] { display: none; }` but bootstrap.min.css set `[hidden] { display: none !important; }` so we also need the `!important` here to be able to override the default hidden behavior on the sphinx rendered scikit-learn.org. See: https://github.com/scikit-learn/scikit-learn/issues/21755 */display: inline-block !important;position: relative;}#sk-container-id-1 div.sk-text-repr-fallback {display: none;}</style><div id=\"sk-container-id-1\" class=\"sk-top-container\"><div class=\"sk-text-repr-fallback\"><pre>Pipeline(steps=[(&#x27;standardscaler&#x27;, StandardScaler()),\n",
       "                (&#x27;randomforestregressor&#x27;,\n",
       "                 RandomForestRegressor(n_jobs=1, random_state=10,\n",
       "                                       verbose=False))])</pre><b>In a Jupyter environment, please rerun this cell to show the HTML representation or trust the notebook. <br />On GitHub, the HTML representation is unable to render, please try loading this page with nbviewer.org.</b></div><div class=\"sk-container\" hidden><div class=\"sk-item sk-dashed-wrapped\"><div class=\"sk-label-container\"><div class=\"sk-label sk-toggleable\"><input class=\"sk-toggleable__control sk-hidden--visually\" id=\"sk-estimator-id-1\" type=\"checkbox\" ><label for=\"sk-estimator-id-1\" class=\"sk-toggleable__label sk-toggleable__label-arrow\">Pipeline</label><div class=\"sk-toggleable__content\"><pre>Pipeline(steps=[(&#x27;standardscaler&#x27;, StandardScaler()),\n",
       "                (&#x27;randomforestregressor&#x27;,\n",
       "                 RandomForestRegressor(n_jobs=1, random_state=10,\n",
       "                                       verbose=False))])</pre></div></div></div><div class=\"sk-serial\"><div class=\"sk-item\"><div class=\"sk-estimator sk-toggleable\"><input class=\"sk-toggleable__control sk-hidden--visually\" id=\"sk-estimator-id-2\" type=\"checkbox\" ><label for=\"sk-estimator-id-2\" class=\"sk-toggleable__label sk-toggleable__label-arrow\">StandardScaler</label><div class=\"sk-toggleable__content\"><pre>StandardScaler()</pre></div></div></div><div class=\"sk-item\"><div class=\"sk-estimator sk-toggleable\"><input class=\"sk-toggleable__control sk-hidden--visually\" id=\"sk-estimator-id-3\" type=\"checkbox\" ><label for=\"sk-estimator-id-3\" class=\"sk-toggleable__label sk-toggleable__label-arrow\">RandomForestRegressor</label><div class=\"sk-toggleable__content\"><pre>RandomForestRegressor(n_jobs=1, random_state=10, verbose=False)</pre></div></div></div></div></div></div></div>"
      ],
      "text/plain": [
       "Pipeline(steps=[('standardscaler', StandardScaler()),\n",
       "                ('randomforestregressor',\n",
       "                 RandomForestRegressor(n_jobs=1, random_state=10,\n",
       "                                       verbose=False))])"
      ]
     },
     "execution_count": 11,
     "metadata": {},
     "output_type": "execute_result"
    }
   ],
   "source": [
    "# cart_vcra_model.set_params(**{'randomforestregressor__n_jobs':-1})\n",
    "cart_vcra_model.set_params(**{'randomforestregressor__n_jobs':1})\n",
    "\n",
    "cart_vcra_model.set_params(**{'randomforestregressor__verbose':False})"
   ]
  },
  {
   "cell_type": "code",
   "execution_count": 12,
   "metadata": {
    "tags": []
   },
   "outputs": [
    {
     "name": "stdout",
     "output_type": "stream",
     "text": [
      "3.38 ms ± 56 µs per loop (mean ± std. dev. of 7 runs, 1000 loops each)\n"
     ]
    }
   ],
   "source": [
    "%%timeit -n 1000\n",
    "cart_vcra_model.predict(cart_vcra_samples.values)"
   ]
  },
  {
   "cell_type": "code",
   "execution_count": null,
   "metadata": {},
   "outputs": [],
   "source": []
  },
  {
   "attachments": {},
   "cell_type": "markdown",
   "metadata": {},
   "source": [
    "  * ### SVM-VCRA (Gang et al.)"
   ]
  },
  {
   "cell_type": "code",
   "execution_count": 13,
   "metadata": {},
   "outputs": [],
   "source": [
    "# svm_vcra_features = ['dist_euclid', 'own_speed', 'target_speed', 'own_course', 'target_course', 'relative_bearing_target_to_own']\n",
    "svm_vcra_features = ['dist_euclid', 'own_speed', 'target_speed', 'own_course_rad', 'target_course_rad', 'relative_bearing_target_to_own']\n",
    "\n",
    "svm_vcra_samples = timeslice_max_traffic.loc[:, svm_vcra_features].copy()\n",
    "svm_vcra_model = models.loc['svm_vcra'].instance.values[0]"
   ]
  },
  {
   "cell_type": "code",
   "execution_count": 14,
   "metadata": {
    "tags": []
   },
   "outputs": [
    {
     "name": "stdout",
     "output_type": "stream",
     "text": [
      "43.4 ms ± 430 µs per loop (mean ± std. dev. of 7 runs, 100 loops each)\n"
     ]
    }
   ],
   "source": [
    "%%timeit -n 100\n",
    "svm_vcra_model.predict(svm_vcra_samples.values)"
   ]
  },
  {
   "cell_type": "code",
   "execution_count": null,
   "metadata": {},
   "outputs": [],
   "source": []
  },
  {
   "attachments": {},
   "cell_type": "markdown",
   "metadata": {},
   "source": [
    "  * ### RVM-VCRA (Park et al.)"
   ]
  },
  {
   "cell_type": "code",
   "execution_count": 15,
   "metadata": {},
   "outputs": [],
   "source": [
    "rvm_vcra_features = ['dist_euclid', 'own_speed', 'target_speed', 'own_course', 'target_course', 'relative_bearing_target_to_own', 'own_length', 'target_length']\n",
    "rvm_vcra_samples = timeslice_max_traffic.loc[:, rvm_vcra_features].copy()\n",
    "rvm_vcra_model = models.loc['rvm_vcra'].instance.values[0]"
   ]
  },
  {
   "cell_type": "code",
   "execution_count": 16,
   "metadata": {
    "tags": []
   },
   "outputs": [
    {
     "name": "stdout",
     "output_type": "stream",
     "text": [
      "287 µs ± 45.4 µs per loop (mean ± std. dev. of 7 runs, 100 loops each)\n"
     ]
    }
   ],
   "source": [
    "%%timeit -n 100\n",
    "rvm_vcra_model.predict(rvm_vcra_samples.values)"
   ]
  },
  {
   "cell_type": "code",
   "execution_count": null,
   "metadata": {},
   "outputs": [],
   "source": []
  },
  {
   "attachments": {},
   "cell_type": "markdown",
   "metadata": {},
   "source": [
    "  * ### MLP-VCRA (Ours)"
   ]
  },
  {
   "cell_type": "code",
   "execution_count": 17,
   "metadata": {},
   "outputs": [],
   "source": [
    "mlp_vcra_features = ['own_speed', 'own_course', 'target_speed', 'target_course', 'dist_euclid', 'azimuth_angle_target_to_own', 'rel_movement_direction']\n",
    "mlp_vcra_samples = timeslice_max_traffic.loc[:, mlp_vcra_features].copy()\n",
    "mlp_vcra_model = models.loc['mlp_vcra'].instance.values[0]"
   ]
  },
  {
   "cell_type": "code",
   "execution_count": 18,
   "metadata": {
    "tags": []
   },
   "outputs": [
    {
     "name": "stdout",
     "output_type": "stream",
     "text": [
      "219 µs ± 110 µs per loop (mean ± std. dev. of 7 runs, 100 loops each)\n"
     ]
    }
   ],
   "source": [
    "%%timeit -n 100\n",
    "mlp_vcra_model.predict(mlp_vcra_samples.values)"
   ]
  },
  {
   "cell_type": "code",
   "execution_count": null,
   "metadata": {},
   "outputs": [],
   "source": []
  },
  {
   "attachments": {},
   "cell_type": "markdown",
   "metadata": {},
   "source": [
    "  * ### \"Fuzzy\" Formulae"
   ]
  },
  {
   "cell_type": "code",
   "execution_count": 19,
   "metadata": {},
   "outputs": [],
   "source": [
    "def calculate_cri_(ves_pair):\n",
    "    own = dict(\n",
    "        course_rad=helper.degrees_to_radians(ves_pair.own_course),\n",
    "        length_nmi=ves_pair.own_length / 1852,\n",
    "        speed=ves_pair.own_speed\n",
    "    )\n",
    "    \n",
    "    target = dict(\n",
    "        course_rad=helper.degrees_to_radians(ves_pair.target_course),\n",
    "        length_nmi=ves_pair.target_length / 1852,\n",
    "        speed=ves_pair.target_speed\n",
    "    )\n",
    "\n",
    "    dist_euclid, speed_r, rel_movement_direction, azimuth_angle_target_to_own, relative_bearing_target_to_own, dcpa, tcpa = ves_pair.dist_euclid, \\\n",
    "    ves_pair.speed_r, ves_pair.rel_movement_direction, ves_pair.azimuth_angle_target_to_own, \\\n",
    "    ves_pair.relative_bearing_target_to_own, ves_pair.dcpa, ves_pair.tcpa\n",
    "    \n",
    "    return cri.calculate_cri(own, target, dist_euclid, speed_r, rel_movement_direction, azimuth_angle_target_to_own, relative_bearing_target_to_own, dcpa, tcpa)[-1]"
   ]
  },
  {
   "cell_type": "code",
   "execution_count": 20,
   "metadata": {},
   "outputs": [
    {
     "name": "stdout",
     "output_type": "stream",
     "text": [
      "2.3 ms ± 47.4 µs per loop (mean ± std. dev. of 7 runs, 100 loops each)\n"
     ]
    }
   ],
   "source": [
    "%%timeit -n 100\n",
    "timeslice_max_traffic.apply(calculate_cri_, axis=1)"
   ]
  },
  {
   "cell_type": "code",
   "execution_count": null,
   "metadata": {},
   "outputs": [],
   "source": []
  }
 ],
 "metadata": {
  "interpreter": {
   "hash": "26a0fb21edfd8898ccaa2d3be90ad05e47a6ebc73217c056c6f09f953e946973"
  },
  "kernelspec": {
   "display_name": "Python (VesselAI)",
   "language": "python",
   "name": "vesai"
  },
  "language_info": {
   "codemirror_mode": {
    "name": "ipython",
    "version": 3
   },
   "file_extension": ".py",
   "mimetype": "text/x-python",
   "name": "python",
   "nbconvert_exporter": "python",
   "pygments_lexer": "ipython3",
   "version": "3.9.9"
  }
 },
 "nbformat": 4,
 "nbformat_minor": 4
}

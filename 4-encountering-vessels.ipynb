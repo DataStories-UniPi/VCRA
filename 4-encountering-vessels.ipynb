{
 "cells": [
  {
   "cell_type": "code",
   "execution_count": 1,
   "metadata": {},
   "outputs": [],
   "source": [
    "import numpy as np\n",
    "import pandas as pd\n",
    "import geopandas as gpd\n",
    "\n",
    "import sys, os\n",
    "import sklearn\n",
    "import datetime\n",
    "import json \n",
    "\n",
    "import importlib\n",
    "from tqdm import tqdm\n",
    "\n",
    "import matplotlib.pyplot as plt\n",
    "import seaborn as sns"
   ]
  },
  {
   "cell_type": "code",
   "execution_count": 2,
   "metadata": {
    "tags": []
   },
   "outputs": [
    {
     "data": {
      "text/plain": [
       "<module 'encounters' from '/Users/andrewt/Documents/Univ. Piraeus Research Center/VCRA/encounters.py'>"
      ]
     },
     "execution_count": 2,
     "metadata": {},
     "output_type": "execute_result"
    }
   ],
   "source": [
    "import py.st_toolkit as geohl\n",
    "importlib.reload(geohl)\n",
    "\n",
    "import cri_calc as cri\n",
    "importlib.reload(cri)\n",
    "\n",
    "import cri_helper as helper\n",
    "importlib.reload(helper)\n",
    "\n",
    "import nn_evaluation as nne\n",
    "importlib.reload(nne)\n",
    "\n",
    "import encounters\n",
    "importlib.reload(encounters)"
   ]
  },
  {
   "cell_type": "code",
   "execution_count": null,
   "metadata": {},
   "outputs": [],
   "source": []
  },
  {
   "cell_type": "code",
   "execution_count": 3,
   "metadata": {},
   "outputs": [],
   "source": [
    "def get_arrow(angle):\n",
    "    a = np.deg2rad(angle)\n",
    "    ar = np.array([[-.25,-.5],[.25,-.5],[0,.5],[-.25,-.5]]).T\n",
    "    rot = np.array([[np.cos(a),np.sin(a)],[-np.sin(a),np.cos(a)]])\n",
    "    return np.dot(rot,ar).T"
   ]
  },
  {
   "cell_type": "code",
   "execution_count": null,
   "metadata": {},
   "outputs": [],
   "source": []
  },
  {
   "attachments": {},
   "cell_type": "markdown",
   "metadata": {
    "tags": []
   },
   "source": [
    "# Load Data"
   ]
  },
  {
   "cell_type": "code",
   "execution_count": 4,
   "metadata": {},
   "outputs": [],
   "source": [
    "SRC_PATH = './data/norway-dataset/oslo_jan_mar_2019_4w_prep_algn_linear_v2_w_lens.csv'\n",
    "\n",
    "df = pd.read_csv(SRC_PATH, parse_dates=['datetime'])\n",
    "gdf = gpd.GeoDataFrame(\n",
    "    df, \n",
    "    crs=4326,\n",
    "    geometry=gpd.points_from_xy(df['lon'], df['lat'])\n",
    ")"
   ]
  },
  {
   "cell_type": "code",
   "execution_count": 5,
   "metadata": {},
   "outputs": [],
   "source": [
    "# NORWAY ONLY\n",
    "gdf.rename({'sog':'speed',\n",
    "            'cog':'course',\n",
    "            'lengde':'length'}, axis=1, inplace=True)\n",
    "\n",
    "gdf = gdf.loc[gdf.speed < 50].copy()"
   ]
  },
  {
   "cell_type": "code",
   "execution_count": null,
   "metadata": {},
   "outputs": [],
   "source": []
  },
  {
   "attachments": {},
   "cell_type": "markdown",
   "metadata": {
    "tags": []
   },
   "source": [
    "# Create Training Dataset"
   ]
  },
  {
   "cell_type": "code",
   "execution_count": 6,
   "metadata": {},
   "outputs": [],
   "source": [
    "from sklearn.neighbors import KDTree, BallTree\n",
    "import itertools\n",
    "from tqdm import tqdm\n",
    "import contextily as ctx\n",
    "\n",
    "from joblib import Parallel, delayed\n",
    "import multiprocessing"
   ]
  },
  {
   "cell_type": "code",
   "execution_count": 7,
   "metadata": {},
   "outputs": [],
   "source": [
    "def applyParallel(df_grouped, fun, n_jobs=-1, **kwargs):\n",
    "    '''\n",
    "    Forked from: https://stackoverflow.com/a/27027632\n",
    "    '''\n",
    "    n_jobs = multiprocessing.cpu_count() if n_jobs == -1 else n_jobs\n",
    "    print(f'Scaling {fun} to {n_jobs} CPUs')\n",
    "\n",
    "    df_grouped_names = df_grouped.grouper.names\n",
    "    _fun = lambda name, group: (fun(group.drop(df_grouped_names, axis=1)), name)\n",
    "\n",
    "    result, keys = zip(*Parallel(n_jobs=n_jobs)(\n",
    "        delayed(_fun)(name, group) for name, group in tqdm(df_grouped, **kwargs)\n",
    "    ))\n",
    "    return pd.concat(result, keys=keys, names=df_grouped_names)"
   ]
  },
  {
   "cell_type": "code",
   "execution_count": 8,
   "metadata": {},
   "outputs": [],
   "source": [
    "def homogenize_units(vcra_data):\n",
    "    # Unit Conversions (for the sake of homogeneity)\n",
    "\n",
    "    ## Convert COURSE from DEGREES to RADIANS\n",
    "    vcra_data.insert(\n",
    "        vcra_data.columns.get_loc('own_course') + 1, \n",
    "        'own_course_rad', \n",
    "        vcra_data.own_course.apply(helper.degrees_to_radians)\n",
    "    )\n",
    "\n",
    "    vcra_data.insert(\n",
    "        vcra_data.columns.get_loc('target_course') + 1, \n",
    "        'target_course_rad', \n",
    "        vcra_data.target_course.apply(helper.degrees_to_radians)\n",
    "    )\n",
    "\n",
    "\n",
    "    ## Convert LENGTH from METERS to NAUTICAL MILES\n",
    "    vcra_data.insert(\n",
    "        vcra_data.columns.get_loc('own_length') + 1, \n",
    "        'own_length_nmi', \n",
    "        vcra_data.own_length / 1852\n",
    "    )\n",
    "\n",
    "    vcra_data.insert(\n",
    "        vcra_data.columns.get_loc('target_length') + 1, \n",
    "        'target_length_nmi', \n",
    "        vcra_data.target_length / 1852\n",
    "    )\n",
    "    \n",
    "    return vcra_data"
   ]
  },
  {
   "cell_type": "code",
   "execution_count": null,
   "metadata": {},
   "outputs": [],
   "source": []
  },
  {
   "attachments": {},
   "cell_type": "markdown",
   "metadata": {
    "tags": []
   },
   "source": [
    "## Discover vessels in an Encountering Process"
   ]
  },
  {
   "cell_type": "code",
   "execution_count": 14,
   "metadata": {
    "scrolled": true,
    "tags": []
   },
   "outputs": [
    {
     "name": "stderr",
     "output_type": "stream",
     "text": [
      "100%|████████████████████████████████████████████████████████████████████████████████████████████████████████████████████████████████████████████████| 41163/41163 [08:47<00:00, 78.07it/s]\n"
     ]
    }
   ],
   "source": [
    "encountering_pairs, results = encounters.encountering_vessels(gdf)"
   ]
  },
  {
   "cell_type": "code",
   "execution_count": null,
   "metadata": {},
   "outputs": [],
   "source": []
  },
  {
   "cell_type": "code",
   "execution_count": 15,
   "metadata": {},
   "outputs": [
    {
     "data": {
      "text/plain": [
       "Text(0.5, 1.0, 'CRI Density Plot (OLD)')"
      ]
     },
     "execution_count": 15,
     "metadata": {},
     "output_type": "execute_result"
    },
    {
     "data": {
      "image/png": "[encoded data removed]",
      "text/plain": [
       "<Figure size 1080x396 with 2 Axes>"
      ]
     },
     "metadata": {
      "needs_background": "light"
     },
     "output_type": "display_data"
    }
   ],
   "source": [
    "fig, ax = plt.subplots(1,2, figsize=(15, 5.5))\n",
    "\n",
    "sns.kdeplot(data=results, x=\"ves_cri\", ax=ax[0])\n",
    "ax[0].set_yscale('log')\n",
    "ax[0].set_title('CRI Density Plot (NEW)')\n",
    "\n",
    "sns.kdeplot(data=pd.read_pickle(f'./data/norway-dataset/oslo_jan_mar_2019_4w_prep_encountering.vcra_dataset_v12.pickle'), x=\"ves_cri\", ax=ax[1])\n",
    "\n",
    "ax[1].set_yscale('log')\n",
    "ax[1].set_title('CRI Density Plot (OLD)')"
   ]
  },
  {
   "cell_type": "code",
   "execution_count": null,
   "metadata": {},
   "outputs": [],
   "source": []
  },
  {
   "cell_type": "code",
   "execution_count": 16,
   "metadata": {},
   "outputs": [
    {
     "data": {
      "image/png": "[encoded data removed]",
      "text/plain": [
       "<Figure size 504x360 with 1 Axes>"
      ]
     },
     "metadata": {
      "needs_background": "light"
     },
     "output_type": "display_data"
    }
   ],
   "source": [
    "temp = (encountering_pairs.end - encountering_pairs.start).astype('timedelta64[s]')\n",
    "\n",
    "fig, ax = plt.subplots(1,1, figsize=(7,5))\n",
    "temp.plot.hist(bins=np.arange(0, max(temp), 300), ax=ax)\n",
    "\n",
    "ax.set_yscale('log')"
   ]
  },
  {
   "cell_type": "code",
   "execution_count": 17,
   "metadata": {},
   "outputs": [
    {
     "data": {
      "text/plain": [
       "count    7345.000000\n",
       "mean      505.090538\n",
       "std       226.835999\n",
       "min       300.000000\n",
       "25%       360.000000\n",
       "50%       420.000000\n",
       "75%       600.000000\n",
       "max      1980.000000\n",
       "dtype: float64"
      ]
     },
     "execution_count": 17,
     "metadata": {},
     "output_type": "execute_result"
    }
   ],
   "source": [
    "temp.loc[temp >= 300].describe()"
   ]
  },
  {
   "cell_type": "code",
   "execution_count": null,
   "metadata": {},
   "outputs": [],
   "source": []
  },
  {
   "cell_type": "code",
   "execution_count": 18,
   "metadata": {},
   "outputs": [],
   "source": [
    "DEST_PATH_PREFIX = './data/norway-dataset/oslo_jan_mar_2019_4w_prep'\n",
    "\n",
    "encountering_pairs.to_pickle(f'{DEST_PATH_PREFIX}_encountering.pairs_v14.pickle')\n",
    "homogenize_units(results.copy()).to_pickle(f'{DEST_PATH_PREFIX}_encountering.vcra_dataset_v14.pickle')"
   ]
  },
  {
   "cell_type": "code",
   "execution_count": null,
   "metadata": {},
   "outputs": [],
   "source": []
  }
 ],
 "metadata": {
  "interpreter": {
   "hash": "26a0fb21edfd8898ccaa2d3be90ad05e47a6ebc73217c056c6f09f953e946973"
  },
  "kernelspec": {
   "display_name": "Python (VesselAI)",
   "language": "python",
   "name": "vesai"
  },
  "language_info": {
   "codemirror_mode": {
    "name": "ipython",
    "version": 3
   },
   "file_extension": ".py",
   "mimetype": "text/x-python",
   "name": "python",
   "nbconvert_exporter": "python",
   "pygments_lexer": "ipython3",
   "version": "3.9.9"
  }
 },
 "nbformat": 4,
 "nbformat_minor": 4
}

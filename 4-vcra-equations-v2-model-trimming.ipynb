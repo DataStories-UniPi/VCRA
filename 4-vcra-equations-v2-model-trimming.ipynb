{
 "cells": [
  {
   "cell_type": "code",
   "execution_count": 1,
   "metadata": {},
   "outputs": [],
   "source": [
    "import numpy as np\n",
    "import pandas as pd\n",
    "import geopandas as gpd\n",
    "\n",
    "import sys, os\n",
    "import sklearn\n",
    "import datetime\n",
    "\n",
    "import importlib\n",
    "from tqdm import tqdm\n",
    "import matplotlib.pyplot as plt"
   ]
  },
  {
   "cell_type": "code",
   "execution_count": 2,
   "metadata": {
    "tags": []
   },
   "outputs": [
    {
     "data": {
      "text/plain": [
       "<module 'nn_evaluation' from '/Users/andrewt/Documents/Univ. Piraeus Research Center/VCRA/nn_evaluation.py'>"
      ]
     },
     "execution_count": 2,
     "metadata": {},
     "output_type": "execute_result"
    }
   ],
   "source": [
    "import st_toolkit as geohl\n",
    "importlib.reload(geohl)\n",
    "\n",
    "import cri_calc as cri\n",
    "importlib.reload(cri)\n",
    "\n",
    "import cri_helper as helper\n",
    "importlib.reload(helper)\n",
    "\n",
    "import nn_evaluation as nne\n",
    "importlib.reload(nne)"
   ]
  },
  {
   "cell_type": "code",
   "execution_count": null,
   "metadata": {},
   "outputs": [],
   "source": []
  },
  {
   "cell_type": "code",
   "execution_count": 3,
   "metadata": {},
   "outputs": [],
   "source": [
    "def calculate_cri(rec_own, rec_target):\n",
    "    own = rec_own._asdict()\n",
    "    target = rec_target._asdict()\n",
    "    \n",
    "    ves_dcpa, ves_tcpa, hr, rel_movement_angle, dist_euclid, speed_r = cri.colregs_alarms(own=own, target=target)\n",
    "    ves_cri = cri.calculate_cri(own, target, ves_dcpa, ves_tcpa, hr, rel_movement_angle, dist_euclid, speed_r)\n",
    "    \n",
    "    return ves_dcpa, ves_tcpa, hr, rel_movement_angle, dist_euclid, speed_r, ves_cri"
   ]
  },
  {
   "cell_type": "code",
   "execution_count": 4,
   "metadata": {},
   "outputs": [],
   "source": [
    "def calculate_cri_timeslice(df):\n",
    "    timeslice_result = []\n",
    "    \n",
    "    for row_i in df.itertuples():\n",
    "        for row_j in df.itertuples():\n",
    "            if row_i.Index == row_j.Index:\n",
    "                continue\n",
    "                \n",
    "            timeslice_result.append([row_i.Index, row_i.mmsi, row_i.geom, row_i.speed, row_i.course, \n",
    "                                     row_j.Index, row_j.mmsi, row_j.geom, row_j.speed, row_j.course, *calculate_cri(row_i, row_j)])\n",
    "            \n",
    "    return pd.DataFrame(timeslice_result, columns=['own_Index', 'own_mmsi', 'own_geom', 'own_speed', 'own_course',\n",
    "                                                   'target_Index', 'target_mmsi', 'target_geom', 'target_speed', 'target_course', \n",
    "                                                   'dcpa', 'tcpa', 'hr', 'rel_movement_angle', 'dist_euclid', 'speed_r', 'cri'])"
   ]
  },
  {
   "cell_type": "code",
   "execution_count": null,
   "metadata": {},
   "outputs": [],
   "source": []
  },
  {
   "cell_type": "markdown",
   "metadata": {
    "tags": []
   },
   "source": [
    "# Load Data"
   ]
  },
  {
   "cell_type": "code",
   "execution_count": 5,
   "metadata": {},
   "outputs": [
    {
     "name": "stderr",
     "output_type": "stream",
     "text": [
      "/Users/andrewt/miniforge3/envs/vesai/lib/python3.9/site-packages/pandas/core/dtypes/cast.py:122: ShapelyDeprecationWarning: The array interface is deprecated and will no longer work in Shapely 2.0. Convert the '.coords' to a numpy array instead.\n",
      "  arr = construct_1d_object_array_from_listlike(values)\n"
     ]
    }
   ],
   "source": [
    "df = pd.read_csv('./data/unipi_ais_dynamic_jul2018_1w_algn_linear_v2_w_lens.csv', parse_dates=['datetime'])\n",
    "gdf = geohl.getGeoDataFrame_v2(df, crs='epsg:4326')"
   ]
  },
  {
   "cell_type": "code",
   "execution_count": 6,
   "metadata": {},
   "outputs": [],
   "source": [
    "gdf2 = gdf.loc[gdf.datetime.dt.date.between(datetime.date(2018, 7, 3), datetime.date(2018, 7, 3), inclusive='both')].copy()"
   ]
  },
  {
   "cell_type": "code",
   "execution_count": 7,
   "metadata": {},
   "outputs": [],
   "source": [
    "gdf_sub_moving = gdf2.loc[gdf2.speed.between(1, 50, inclusive='neither')].copy()"
   ]
  },
  {
   "cell_type": "code",
   "execution_count": null,
   "metadata": {},
   "outputs": [],
   "source": []
  },
  {
   "cell_type": "markdown",
   "metadata": {
    "jp-MarkdownHeadingCollapsed": true,
    "tags": []
   },
   "source": [
    "# Creating Training Dataset"
   ]
  },
  {
   "cell_type": "code",
   "execution_count": null,
   "metadata": {
    "scrolled": true,
    "tags": []
   },
   "outputs": [],
   "source": [
    "# tqdm.pandas()\n",
    "# gdf_vcra = gdf_sub_moving.groupby(['datetime']).progress_apply(lambda l: calculate_cri_timeslice(l.copy()))"
   ]
  },
  {
   "cell_type": "code",
   "execution_count": null,
   "metadata": {},
   "outputs": [],
   "source": [
    "from joblib import Parallel, delayed\n",
    "import multiprocessing\n",
    "\n",
    "\n",
    "def applyParallel(dfGrouped, func, n_jobs=-1):\n",
    "    '''\n",
    "    Forked from: https://stackoverflow.com/a/27027632\n",
    "    '''\n",
    "    n_jobs = multiprocessing.cpu_count() if n_jobs == -1 else n_jobs\n",
    "    print(f'Scaling {func} to {n_jobs} CPUs')\n",
    "    \n",
    "    retLst = Parallel(n_jobs=n_jobs)(delayed(func)(group) for name, group in tqdm(dfGrouped))\n",
    "    return pd.concat(retLst)\n",
    "\n",
    "\n",
    "gdf_vcra = applyParallel(gdf_sub_moving.groupby(['datetime']), lambda l: calculate_cri_timeslice(l.copy()), 7)"
   ]
  },
  {
   "cell_type": "code",
   "execution_count": null,
   "metadata": {},
   "outputs": [],
   "source": [
    "gdf_vcra_mi = gdf_vcra.copy()\n",
    "gdf_vcra_mi = pd.merge(gdf_vcra_mi, gdf_sub_moving.datetime, left_on='own_Index', right_index=True)\n",
    "gdf_vcra_mi.set_index(['datetime'], inplace=True)"
   ]
  },
  {
   "cell_type": "code",
   "execution_count": null,
   "metadata": {},
   "outputs": [],
   "source": [
    "gdf_vcra_mi.to_pickle('./data/unipi_ais_dynamic_jul2018_1w_vcra_dataset_v3.pickle')"
   ]
  },
  {
   "cell_type": "code",
   "execution_count": null,
   "metadata": {},
   "outputs": [],
   "source": []
  },
  {
   "cell_type": "markdown",
   "metadata": {},
   "source": [
    "# Loading and Preparing CRI Dataset"
   ]
  },
  {
   "cell_type": "code",
   "execution_count": 8,
   "metadata": {},
   "outputs": [],
   "source": [
    "gdf_vcra = pd.read_pickle('./data/unipi_ais_dynamic_jul2018_1w_vcra_dataset_v3.pickle')"
   ]
  },
  {
   "cell_type": "code",
   "execution_count": 9,
   "metadata": {},
   "outputs": [
    {
     "name": "stderr",
     "output_type": "stream",
     "text": [
      "Adding Vessels' Length...: 100%|█████| 960268/960268 [00:35<00:00, 27071.05it/s]\n"
     ]
    }
   ],
   "source": [
    "tqdm.pandas(desc='Adding Vessels\\' Length...')\n",
    "\n",
    "mlp_input = gdf_vcra.loc[gdf_vcra.own_Index.isin(gdf_sub_moving.index.values)].copy()\n",
    "mlp_input.loc[:, 'own_length'] = mlp_input.own_Index.progress_apply(lambda l: gdf_sub_moving.loc[l].length)\n",
    "mlp_input.loc[:, 'cri_bin'] = pd.cut(mlp_input.cri, bins=np.arange(0, 1.1, .1), right=False,)"
   ]
  },
  {
   "cell_type": "code",
   "execution_count": 10,
   "metadata": {},
   "outputs": [],
   "source": [
    "X = mlp_input[['dist_euclid', 'own_speed', 'target_speed', 'own_course', 'target_course', 'own_length']].values\n",
    "y = mlp_input[['cri']].values.ravel()"
   ]
  },
  {
   "cell_type": "code",
   "execution_count": null,
   "metadata": {},
   "outputs": [],
   "source": []
  },
  {
   "cell_type": "markdown",
   "metadata": {
    "tags": []
   },
   "source": [
    "# Training an MLP (via sklearn)"
   ]
  },
  {
   "cell_type": "code",
   "execution_count": 11,
   "metadata": {},
   "outputs": [],
   "source": [
    "from sklearn.neural_network import MLPRegressor\n",
    "from sklearn.model_selection import train_test_split\n",
    "from sklearn.preprocessing import StandardScaler"
   ]
  },
  {
   "cell_type": "code",
   "execution_count": 12,
   "metadata": {},
   "outputs": [],
   "source": [
    "X_train, X_test, y_train, y_test = train_test_split(X, y, test_size=0.2, random_state=10, stratify=mlp_input['cri_bin'])\n",
    "\n",
    "scaler = StandardScaler()\n",
    "X_train_norm = scaler.fit_transform(X_train)"
   ]
  },
  {
   "cell_type": "code",
   "execution_count": 32,
   "metadata": {},
   "outputs": [
    {
     "data": {
      "image/png": "[encoded data removed]",
      "text/plain": [
       "<Figure size 432x288 with 1 Axes>"
      ]
     },
     "metadata": {
      "needs_background": "light"
     },
     "output_type": "display_data"
    }
   ],
   "source": [
    "fig, ax = plt.subplots(1,1)\n",
    "mlp_input.cri_bin.value_counts(sort=False).plot.bar(ax=ax, rot=30)\n",
    "ax.set_yscale('log')"
   ]
  },
  {
   "cell_type": "code",
   "execution_count": 33,
   "metadata": {
    "scrolled": true,
    "tags": []
   },
   "outputs": [
    {
     "name": "stdout",
     "output_type": "stream",
     "text": [
      "Iteration 1, loss = 0.00379227\n",
      "Validation score: 0.697275\n",
      "Iteration 2, loss = 0.00252789\n",
      "Validation score: 0.735621\n",
      "Iteration 3, loss = 0.00225819\n",
      "Validation score: 0.749329\n",
      "Iteration 4, loss = 0.00208126\n",
      "Validation score: 0.777629\n",
      "Iteration 5, loss = 0.00198242\n",
      "Validation score: 0.783244\n",
      "Iteration 6, loss = 0.00189374\n",
      "Validation score: 0.813177\n",
      "Iteration 7, loss = 0.00184354\n",
      "Validation score: 0.802359\n",
      "Iteration 8, loss = 0.00177591\n",
      "Validation score: 0.817835\n",
      "Iteration 9, loss = 0.00173640\n",
      "Validation score: 0.816365\n",
      "Iteration 10, loss = 0.00169408\n",
      "Validation score: 0.826940\n",
      "Iteration 11, loss = 0.00165977\n",
      "Validation score: 0.838854\n",
      "Iteration 12, loss = 0.00163004\n",
      "Validation score: 0.837390\n",
      "Iteration 13, loss = 0.00161024\n",
      "Validation score: 0.830170\n",
      "Iteration 14, loss = 0.00157001\n",
      "Validation score: 0.821505\n",
      "Iteration 15, loss = 0.00154639\n",
      "Validation score: 0.844907\n",
      "Iteration 16, loss = 0.00152386\n",
      "Validation score: 0.831207\n",
      "Iteration 17, loss = 0.00150701\n",
      "Validation score: 0.850490\n",
      "Iteration 18, loss = 0.00147418\n",
      "Validation score: 0.844659\n",
      "Iteration 19, loss = 0.00145877\n",
      "Validation score: 0.848625\n",
      "Iteration 20, loss = 0.00144607\n",
      "Validation score: 0.856325\n",
      "Iteration 21, loss = 0.00142711\n",
      "Validation score: 0.853439\n",
      "Iteration 22, loss = 0.00142234\n",
      "Validation score: 0.862195\n",
      "Iteration 23, loss = 0.00139983\n",
      "Validation score: 0.855105\n",
      "Iteration 24, loss = 0.00139834\n",
      "Validation score: 0.853120\n",
      "Iteration 25, loss = 0.00138725\n",
      "Validation score: 0.855975\n",
      "Iteration 26, loss = 0.00136324\n",
      "Validation score: 0.861198\n",
      "Iteration 27, loss = 0.00136266\n",
      "Validation score: 0.849029\n",
      "Iteration 28, loss = 0.00135680\n",
      "Validation score: 0.862081\n",
      "Iteration 29, loss = 0.00133849\n",
      "Validation score: 0.866278\n",
      "Iteration 30, loss = 0.00133353\n",
      "Validation score: 0.865339\n"
     ]
    },
    {
     "name": "stderr",
     "output_type": "stream",
     "text": [
      "/Users/andrewt/miniforge3/envs/vesai/lib/python3.9/site-packages/sklearn/neural_network/_multilayer_perceptron.py:692: ConvergenceWarning: Stochastic Optimizer: Maximum iterations (30) reached and the optimization hasn't converged yet.\n",
      "  warnings.warn(\n"
     ]
    },
    {
     "data": {
      "text/plain": [
       "0.858409721161965"
      ]
     },
     "execution_count": 33,
     "metadata": {},
     "output_type": "execute_result"
    }
   ],
   "source": [
    "regr = MLPRegressor(random_state=10, max_iter=30, hidden_layer_sizes=(256, 32), \n",
    "                    verbose=True, early_stopping=True, n_iter_no_change=10).fit(X_train_norm, y_train)\n",
    "\n",
    "regr.score(scaler.transform(X_test), y_test)"
   ]
  },
  {
   "cell_type": "code",
   "execution_count": 34,
   "metadata": {},
   "outputs": [
    {
     "name": "stdout",
     "output_type": "stream",
     "text": [
      "MAE: 0.01958298955941779\n",
      "RMSE: 0.05023021059397274\n"
     ]
    }
   ],
   "source": [
    "from sklearn.metrics import mean_absolute_error, mean_squared_error\n",
    "\n",
    "cri_pred = pd.Series(regr.predict(scaler.transform(X_test))).clip(0,1).values\n",
    "print(f'MAE: {mean_absolute_error(y_test, cri_pred)}')\n",
    "print(f'RMSE: {mean_squared_error(y_test, cri_pred, squared=False)}')"
   ]
  },
  {
   "cell_type": "code",
   "execution_count": 35,
   "metadata": {},
   "outputs": [
    {
     "data": {
      "text/plain": [
       "['./data/vcra-1w-mlp-hidden_256_32-ours.scaler.joblib']"
      ]
     },
     "execution_count": 35,
     "metadata": {},
     "output_type": "execute_result"
    }
   ],
   "source": [
    "from joblib import dump, load\n",
    "dump(regr, './data/vcra-1w-mlp-hidden_256_32-ours.model.joblib') \n",
    "dump(scaler, './data/vcra-1w-mlp-hidden_256_32-ours.scaler.joblib') "
   ]
  },
  {
   "cell_type": "code",
   "execution_count": null,
   "metadata": {},
   "outputs": [],
   "source": []
  },
  {
   "cell_type": "markdown",
   "metadata": {
    "tags": []
   },
   "source": [
    "# Evaluating ML model timeliness"
   ]
  },
  {
   "cell_type": "code",
   "execution_count": 36,
   "metadata": {},
   "outputs": [],
   "source": [
    "from joblib import dump, load\n",
    "regr_ours = load('./data/vcra-1w-mlp-hidden_256_32-ours.model.joblib') "
   ]
  },
  {
   "cell_type": "code",
   "execution_count": 37,
   "metadata": {},
   "outputs": [],
   "source": [
    "grouped = gdf_sub_moving.groupby(['datetime'])\n",
    "l = grouped.get_group((list(grouped.groups)[0]))"
   ]
  },
  {
   "cell_type": "code",
   "execution_count": 39,
   "metadata": {},
   "outputs": [
    {
     "name": "stdout",
     "output_type": "stream",
     "text": [
      "167 ms ± 335 µs per loop (mean ± std. dev. of 7 runs, 10 loops each)\n"
     ]
    }
   ],
   "source": [
    "%%timeit \n",
    "nne.calc_cri_timeslice(l.copy(), model=regr_ours, model_fun=nne.calc_cri_ours_with_own_length, model_norm=scaler);"
   ]
  },
  {
   "cell_type": "code",
   "execution_count": null,
   "metadata": {},
   "outputs": [],
   "source": []
  }
 ],
 "metadata": {
  "interpreter": {
   "hash": "26a0fb21edfd8898ccaa2d3be90ad05e47a6ebc73217c056c6f09f953e946973"
  },
  "kernelspec": {
   "display_name": "Python (VesselAI)",
   "language": "python",
   "name": "vesai"
  },
  "language_info": {
   "codemirror_mode": {
    "name": "ipython",
    "version": 3
   },
   "file_extension": ".py",
   "mimetype": "text/x-python",
   "name": "python",
   "nbconvert_exporter": "python",
   "pygments_lexer": "ipython3",
   "version": "3.9.9"
  }
 },
 "nbformat": 4,
 "nbformat_minor": 4
}

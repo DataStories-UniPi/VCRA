{
 "cells": [
  {
   "cell_type": "code",
   "execution_count": 1,
   "metadata": {},
   "outputs": [],
   "source": [
    "import numpy as np\n",
    "import pandas as pd\n",
    "\n",
    "import sys, os\n",
    "import datetime\n",
    "\n",
    "import importlib\n",
    "from tqdm import tqdm"
   ]
  },
  {
   "cell_type": "code",
   "execution_count": 2,
   "metadata": {},
   "outputs": [],
   "source": [
    "import st_toolkit as geohl\n",
    "importlib.reload(geohl)\n",
    "\n",
    "import cri_calc as cri\n",
    "importlib.reload(cri)\n",
    "\n",
    "import cri_helper as helper\n",
    "importlib.reload(helper)\n",
    "\n",
    "import nn_evaluation as nne\n",
    "importlib.reload(nne);"
   ]
  },
  {
   "cell_type": "code",
   "execution_count": null,
   "metadata": {},
   "outputs": [],
   "source": []
  },
  {
   "cell_type": "markdown",
   "metadata": {},
   "source": [
    "## Load Trajectories"
   ]
  },
  {
   "cell_type": "code",
   "execution_count": 3,
   "metadata": {
    "tags": []
   },
   "outputs": [
    {
     "name": "stderr",
     "output_type": "stream",
     "text": [
      "/Users/andrewt/miniforge3/envs/vesai/lib/python3.9/site-packages/pandas/core/dtypes/cast.py:122: ShapelyDeprecationWarning: The array interface is deprecated and will no longer work in Shapely 2.0. Convert the '.coords' to a numpy array instead.\n",
      "  arr = construct_1d_object_array_from_listlike(values)\n"
     ]
    }
   ],
   "source": [
    "df = pd.read_csv('./data/unipi_ais_dynamic_jul2018_1w_algn_linear_v2_w_lens.csv', parse_dates=['datetime'])\n",
    "gdf = geohl.getGeoDataFrame_v2(df, crs='epsg:4326')\n",
    "\n",
    "gdf2 = gdf.loc[gdf.datetime.dt.date.between(datetime.date(2018, 7, 3), datetime.date(2018, 7, 3), inclusive='both')].copy()\n",
    "gdf_sub_moving = gdf2.loc[gdf2.speed.between(1, 50, inclusive='neither')].copy()"
   ]
  },
  {
   "cell_type": "code",
   "execution_count": null,
   "metadata": {},
   "outputs": [],
   "source": []
  },
  {
   "cell_type": "markdown",
   "metadata": {},
   "source": [
    "## Loading VCRA Dataset "
   ]
  },
  {
   "cell_type": "code",
   "execution_count": 4,
   "metadata": {},
   "outputs": [],
   "source": [
    "gdf_vcra = pd.read_pickle('./data/unipi_ais_dynamic_jul2018_1w_vcra_dataset_v3.pickle')"
   ]
  },
  {
   "cell_type": "code",
   "execution_count": 5,
   "metadata": {},
   "outputs": [
    {
     "name": "stderr",
     "output_type": "stream",
     "text": [
      "Adding Vessels' Length...: 100%|██████████| 960268/960268 [00:36<00:00, 26315.52it/s]\n",
      "Adding Vessels' Length...: 100%|██████████| 960268/960268 [00:36<00:00, 26454.23it/s]\n"
     ]
    }
   ],
   "source": [
    "tqdm.pandas(desc='Adding Vessels\\' Length...')\n",
    "\n",
    "# gdf_vcra.loc[:, 'own_length'] = gdf_vcra.own_Index.apply(lambda l: gdf_sub_moving[l].length)\n",
    "mlp_input = gdf_vcra.loc[gdf_vcra.own_Index.isin(gdf_sub_moving.index.values)].copy()\n",
    "mlp_input.loc[:, 'own_length'] = mlp_input.own_Index.progress_apply(lambda l: gdf_sub_moving.loc[l].length)\n",
    "mlp_input.loc[:, 'target_length'] = mlp_input.target_Index.progress_apply(lambda l: gdf_sub_moving.loc[l].length)\n",
    "mlp_input.loc[:, 'cri_bin'] = pd.cut(mlp_input.cri, bins=np.arange(0, 1.1, .1), right=False,)"
   ]
  },
  {
   "cell_type": "code",
   "execution_count": 6,
   "metadata": {},
   "outputs": [],
   "source": [
    "timeslice_lens = gdf_sub_moving.groupby('datetime').apply(len)\n",
    "min_slice, median_slice, max_slice = timeslice_lens.loc[timeslice_lens == timeslice_lens.min()].index[0],\\\n",
    "                                     timeslice_lens.loc[timeslice_lens == timeslice_lens.median()].index[0],\\\n",
    "                                     timeslice_lens.loc[timeslice_lens == timeslice_lens.max()].index[0]"
   ]
  },
  {
   "cell_type": "code",
   "execution_count": 7,
   "metadata": {},
   "outputs": [],
   "source": [
    "gdf_min_slice    = gdf_sub_moving.loc[gdf_sub_moving.datetime == min_slice].copy()\n",
    "gdf_median_slice = gdf_sub_moving.loc[gdf_sub_moving.datetime == median_slice].copy()\n",
    "gdf_max_slice    = gdf_sub_moving.loc[gdf_sub_moving.datetime == max_slice].copy()"
   ]
  },
  {
   "cell_type": "code",
   "execution_count": null,
   "metadata": {},
   "outputs": [],
   "source": []
  },
  {
   "cell_type": "markdown",
   "metadata": {
    "tags": []
   },
   "source": [
    "## Training an MLP (via sklearn) -- with own length; as included in the Paper)"
   ]
  },
  {
   "cell_type": "code",
   "execution_count": 8,
   "metadata": {},
   "outputs": [],
   "source": [
    "from sklearn.neural_network import MLPRegressor\n",
    "from sklearn.model_selection import train_test_split\n",
    "from sklearn.preprocessing import StandardScaler"
   ]
  },
  {
   "cell_type": "code",
   "execution_count": 9,
   "metadata": {},
   "outputs": [],
   "source": [
    "X = mlp_input[['dist_euclid', 'own_speed', 'target_speed', 'own_course', 'target_course', 'own_length']].values\n",
    "y = mlp_input[['cri']].values.ravel()\n",
    "\n",
    "X_train, X_test, y_train, y_test = train_test_split(X, y, test_size=0.2, random_state=10, stratify=mlp_input['cri_bin'])\n",
    "\n",
    "scaler = StandardScaler()\n",
    "X_train_norm = scaler.fit_transform(X_train)"
   ]
  },
  {
   "cell_type": "code",
   "execution_count": 10,
   "metadata": {
    "scrolled": true,
    "tags": []
   },
   "outputs": [
    {
     "name": "stdout",
     "output_type": "stream",
     "text": [
      "Iteration 1, loss = 0.00379227\n",
      "Validation score: 0.697275\n",
      "Iteration 2, loss = 0.00252789\n",
      "Validation score: 0.735621\n",
      "Iteration 3, loss = 0.00225819\n",
      "Validation score: 0.749329\n",
      "Iteration 4, loss = 0.00208126\n",
      "Validation score: 0.777629\n",
      "Iteration 5, loss = 0.00198242\n",
      "Validation score: 0.783244\n",
      "Iteration 6, loss = 0.00189374\n",
      "Validation score: 0.813177\n",
      "Iteration 7, loss = 0.00184354\n",
      "Validation score: 0.802359\n",
      "Iteration 8, loss = 0.00177591\n",
      "Validation score: 0.817835\n",
      "Iteration 9, loss = 0.00173640\n",
      "Validation score: 0.816365\n",
      "Iteration 10, loss = 0.00169408\n",
      "Validation score: 0.826940\n",
      "Iteration 11, loss = 0.00165977\n",
      "Validation score: 0.838854\n",
      "Iteration 12, loss = 0.00163004\n",
      "Validation score: 0.837390\n",
      "Iteration 13, loss = 0.00161024\n",
      "Validation score: 0.830170\n",
      "Iteration 14, loss = 0.00157001\n",
      "Validation score: 0.821505\n",
      "Iteration 15, loss = 0.00154639\n",
      "Validation score: 0.844907\n",
      "Iteration 16, loss = 0.00152386\n",
      "Validation score: 0.831207\n",
      "Iteration 17, loss = 0.00150701\n",
      "Validation score: 0.850490\n",
      "Iteration 18, loss = 0.00147418\n",
      "Validation score: 0.844659\n",
      "Iteration 19, loss = 0.00145877\n",
      "Validation score: 0.848625\n",
      "Iteration 20, loss = 0.00144607\n",
      "Validation score: 0.856325\n",
      "Iteration 21, loss = 0.00142711\n",
      "Validation score: 0.853439\n",
      "Iteration 22, loss = 0.00142234\n",
      "Validation score: 0.862195\n",
      "Iteration 23, loss = 0.00139983\n",
      "Validation score: 0.855105\n",
      "Iteration 24, loss = 0.00139834\n",
      "Validation score: 0.853120\n",
      "Iteration 25, loss = 0.00138725\n",
      "Validation score: 0.855975\n",
      "Iteration 26, loss = 0.00136324\n",
      "Validation score: 0.861198\n",
      "Iteration 27, loss = 0.00136266\n",
      "Validation score: 0.849029\n",
      "Iteration 28, loss = 0.00135680\n",
      "Validation score: 0.862081\n",
      "Iteration 29, loss = 0.00133849\n",
      "Validation score: 0.866278\n",
      "Iteration 30, loss = 0.00133353\n",
      "Validation score: 0.865339\n"
     ]
    },
    {
     "name": "stderr",
     "output_type": "stream",
     "text": [
      "/Users/andrewt/miniforge3/envs/vesai/lib/python3.9/site-packages/sklearn/neural_network/_multilayer_perceptron.py:692: ConvergenceWarning: Stochastic Optimizer: Maximum iterations (30) reached and the optimization hasn't converged yet.\n",
      "  warnings.warn(\n"
     ]
    },
    {
     "data": {
      "text/plain": [
       "0.858409721161965"
      ]
     },
     "execution_count": 10,
     "metadata": {},
     "output_type": "execute_result"
    }
   ],
   "source": [
    "regr = MLPRegressor(random_state=10, max_iter=30, hidden_layer_sizes=(256, 32), \n",
    "                    verbose=True, early_stopping=True, n_iter_no_change=10).fit(X_train_norm, y_train)\n",
    "\n",
    "regr.score(scaler.transform(X_test), y_test)"
   ]
  },
  {
   "cell_type": "code",
   "execution_count": 11,
   "metadata": {},
   "outputs": [
    {
     "name": "stdout",
     "output_type": "stream",
     "text": [
      "MAE: 0.01958298955941779\n",
      "RMSE: 0.05023021059397274\n"
     ]
    }
   ],
   "source": [
    "from sklearn.metrics import mean_absolute_error, mean_squared_error\n",
    "\n",
    "cri_pred = pd.Series(regr.predict(scaler.transform(X_test))).clip(0,1).values\n",
    "print(f'MAE: {mean_absolute_error(y_test, cri_pred)}')\n",
    "print(f'RMSE: {mean_squared_error(y_test, cri_pred, squared=False)}')"
   ]
  },
  {
   "cell_type": "code",
   "execution_count": 12,
   "metadata": {},
   "outputs": [
    {
     "data": {
      "text/plain": [
       "['./data/vcra-1w-mlp-hidden_256_32-with_own_length.scaler.joblib']"
      ]
     },
     "execution_count": 12,
     "metadata": {},
     "output_type": "execute_result"
    }
   ],
   "source": [
    "from joblib import dump, load\n",
    "# dump(regr, './data/vcra-1w-mlp-hidden_128_32_8-parkj.joblib') \n",
    "dump(regr, './data/vcra-1w-mlp-hidden_256_32-with_own_length.model.joblib') \n",
    "dump(scaler, './data/vcra-1w-mlp-hidden_256_32-with_own_length.scaler.joblib') "
   ]
  },
  {
   "cell_type": "code",
   "execution_count": 13,
   "metadata": {},
   "outputs": [],
   "source": [
    "from joblib import dump, load\n",
    "regr = load('./data/vcra-1w-mlp-hidden_256_32-with_own_length.model.joblib') \n",
    "scaler = load('./data/vcra-1w-mlp-hidden_256_32-with_own_length.scaler.joblib')"
   ]
  },
  {
   "cell_type": "code",
   "execution_count": 14,
   "metadata": {},
   "outputs": [
    {
     "name": "stdout",
     "output_type": "stream",
     "text": [
      "133 ms ± 86.2 µs per loop (mean ± std. dev. of 7 runs, 10 loops each)\n"
     ]
    }
   ],
   "source": [
    "%%timeit\n",
    "nne.calc_cri_timeslice(gdf_min_slice, model=regr, model_fun=nne.calc_cri_ours_with_own_length, model_norm=scaler)"
   ]
  },
  {
   "cell_type": "code",
   "execution_count": 15,
   "metadata": {},
   "outputs": [
    {
     "name": "stdout",
     "output_type": "stream",
     "text": [
      "246 ms ± 701 µs per loop (mean ± std. dev. of 7 runs, 1 loop each)\n"
     ]
    }
   ],
   "source": [
    "%%timeit\n",
    "nne.calc_cri_timeslice(gdf_median_slice, model=regr, model_fun=nne.calc_cri_ours_with_own_length, model_norm=scaler)"
   ]
  },
  {
   "cell_type": "code",
   "execution_count": 16,
   "metadata": {},
   "outputs": [
    {
     "name": "stdout",
     "output_type": "stream",
     "text": [
      "487 ms ± 1.3 ms per loop (mean ± std. dev. of 7 runs, 1 loop each)\n"
     ]
    }
   ],
   "source": [
    "%%timeit\n",
    "nne.calc_cri_timeslice(gdf_max_slice, model=regr, model_fun=nne.calc_cri_ours_with_own_length, model_norm=scaler)"
   ]
  },
  {
   "cell_type": "code",
   "execution_count": null,
   "metadata": {},
   "outputs": [],
   "source": []
  },
  {
   "cell_type": "markdown",
   "metadata": {},
   "source": [
    "## Training an MLP (via sklearn) -- with target length"
   ]
  },
  {
   "cell_type": "code",
   "execution_count": 17,
   "metadata": {},
   "outputs": [],
   "source": [
    "X = mlp_input[['dist_euclid', 'own_speed', 'target_speed', 'own_course', 'target_course', 'target_length']].values\n",
    "y = mlp_input[['cri']].values.ravel()\n",
    "\n",
    "X_train, X_test, y_train, y_test = train_test_split(X, y, test_size=0.2, random_state=10, stratify=mlp_input['cri_bin'])\n",
    "\n",
    "scaler = StandardScaler()\n",
    "X_train_norm = scaler.fit_transform(X_train)"
   ]
  },
  {
   "cell_type": "code",
   "execution_count": 18,
   "metadata": {
    "scrolled": true,
    "tags": []
   },
   "outputs": [
    {
     "name": "stdout",
     "output_type": "stream",
     "text": [
      "Iteration 1, loss = 0.00391390\n",
      "Validation score: 0.694992\n",
      "Iteration 2, loss = 0.00253660\n",
      "Validation score: 0.740284\n",
      "Iteration 3, loss = 0.00222480\n",
      "Validation score: 0.783014\n",
      "Iteration 4, loss = 0.00205302\n",
      "Validation score: 0.785186\n",
      "Iteration 5, loss = 0.00194500\n",
      "Validation score: 0.801734\n",
      "Iteration 6, loss = 0.00187443\n",
      "Validation score: 0.817123\n",
      "Iteration 7, loss = 0.00182629\n",
      "Validation score: 0.813273\n",
      "Iteration 8, loss = 0.00176015\n",
      "Validation score: 0.822293\n",
      "Iteration 9, loss = 0.00170627\n",
      "Validation score: 0.811524\n",
      "Iteration 10, loss = 0.00167172\n",
      "Validation score: 0.829243\n",
      "Iteration 11, loss = 0.00162975\n",
      "Validation score: 0.842387\n",
      "Iteration 12, loss = 0.00159192\n",
      "Validation score: 0.839982\n",
      "Iteration 13, loss = 0.00157018\n",
      "Validation score: 0.841612\n",
      "Iteration 14, loss = 0.00153588\n",
      "Validation score: 0.843328\n",
      "Iteration 15, loss = 0.00150957\n",
      "Validation score: 0.845626\n",
      "Iteration 16, loss = 0.00148871\n",
      "Validation score: 0.834957\n",
      "Iteration 17, loss = 0.00146553\n",
      "Validation score: 0.854826\n",
      "Iteration 18, loss = 0.00144572\n",
      "Validation score: 0.854623\n",
      "Iteration 19, loss = 0.00143430\n",
      "Validation score: 0.854104\n",
      "Iteration 20, loss = 0.00141031\n",
      "Validation score: 0.854706\n",
      "Iteration 21, loss = 0.00138878\n",
      "Validation score: 0.862304\n",
      "Iteration 22, loss = 0.00136921\n",
      "Validation score: 0.866226\n",
      "Iteration 23, loss = 0.00137051\n",
      "Validation score: 0.853682\n",
      "Iteration 24, loss = 0.00137276\n",
      "Validation score: 0.852965\n",
      "Iteration 25, loss = 0.00134984\n",
      "Validation score: 0.859415\n",
      "Iteration 26, loss = 0.00134307\n",
      "Validation score: 0.869925\n",
      "Iteration 27, loss = 0.00132501\n",
      "Validation score: 0.854651\n",
      "Iteration 28, loss = 0.00131920\n",
      "Validation score: 0.862351\n",
      "Iteration 29, loss = 0.00130332\n",
      "Validation score: 0.867875\n",
      "Iteration 30, loss = 0.00129609\n",
      "Validation score: 0.870825\n"
     ]
    },
    {
     "name": "stderr",
     "output_type": "stream",
     "text": [
      "/Users/andrewt/miniforge3/envs/vesai/lib/python3.9/site-packages/sklearn/neural_network/_multilayer_perceptron.py:692: ConvergenceWarning: Stochastic Optimizer: Maximum iterations (30) reached and the optimization hasn't converged yet.\n",
      "  warnings.warn(\n"
     ]
    },
    {
     "data": {
      "text/plain": [
       "0.8653919039631917"
      ]
     },
     "execution_count": 18,
     "metadata": {},
     "output_type": "execute_result"
    }
   ],
   "source": [
    "regr = MLPRegressor(random_state=10, max_iter=30, hidden_layer_sizes=(256, 32), \n",
    "                    verbose=True, early_stopping=True, n_iter_no_change=10).fit(X_train_norm, y_train)\n",
    "\n",
    "regr.score(scaler.transform(X_test), y_test)"
   ]
  },
  {
   "cell_type": "code",
   "execution_count": 19,
   "metadata": {},
   "outputs": [
    {
     "name": "stdout",
     "output_type": "stream",
     "text": [
      "MAE: 0.016264498565031114\n",
      "RMSE: 0.04863778719180248\n"
     ]
    }
   ],
   "source": [
    "from sklearn.metrics import mean_absolute_error, mean_squared_error\n",
    "\n",
    "cri_pred = pd.Series(regr.predict(scaler.transform(X_test))).clip(0,1).values\n",
    "print(f'MAE: {mean_absolute_error(y_test, cri_pred)}')\n",
    "print(f'RMSE: {mean_squared_error(y_test, cri_pred, squared=False)}')"
   ]
  },
  {
   "cell_type": "code",
   "execution_count": 20,
   "metadata": {},
   "outputs": [
    {
     "data": {
      "text/plain": [
       "['./data/vcra-1w-mlp-hidden_256_32-with_target_length.scaler.joblib']"
      ]
     },
     "execution_count": 20,
     "metadata": {},
     "output_type": "execute_result"
    }
   ],
   "source": [
    "from joblib import dump, load\n",
    "# dump(regr, './data/vcra-1w-mlp-hidden_128_32_8-parkj.joblib') \n",
    "dump(regr, './data/vcra-1w-mlp-hidden_256_32-with_target_length.model.joblib') \n",
    "dump(scaler, './data/vcra-1w-mlp-hidden_256_32-with_target_length.scaler.joblib') "
   ]
  },
  {
   "cell_type": "code",
   "execution_count": 21,
   "metadata": {},
   "outputs": [],
   "source": [
    "from joblib import dump, load\n",
    "regr = load('./data/vcra-1w-mlp-hidden_256_32-with_target_length.model.joblib') \n",
    "scaler = load('./data/vcra-1w-mlp-hidden_256_32-with_target_length.scaler.joblib')"
   ]
  },
  {
   "cell_type": "code",
   "execution_count": 22,
   "metadata": {},
   "outputs": [
    {
     "name": "stdout",
     "output_type": "stream",
     "text": [
      "134 ms ± 403 µs per loop (mean ± std. dev. of 7 runs, 10 loops each)\n"
     ]
    }
   ],
   "source": [
    "%%timeit\n",
    "nne.calc_cri_timeslice(gdf_min_slice, model=regr, model_fun=nne.calc_cri_ours_with_target_length, model_norm=scaler)"
   ]
  },
  {
   "cell_type": "code",
   "execution_count": 23,
   "metadata": {},
   "outputs": [
    {
     "name": "stdout",
     "output_type": "stream",
     "text": [
      "248 ms ± 1.14 ms per loop (mean ± std. dev. of 7 runs, 1 loop each)\n"
     ]
    }
   ],
   "source": [
    "%%timeit\n",
    "nne.calc_cri_timeslice(gdf_median_slice, model=regr, model_fun=nne.calc_cri_ours_with_target_length, model_norm=scaler)"
   ]
  },
  {
   "cell_type": "code",
   "execution_count": 24,
   "metadata": {},
   "outputs": [
    {
     "name": "stdout",
     "output_type": "stream",
     "text": [
      "490 ms ± 2.43 ms per loop (mean ± std. dev. of 7 runs, 1 loop each)\n"
     ]
    }
   ],
   "source": [
    "%%timeit\n",
    "nne.calc_cri_timeslice(gdf_max_slice, model=regr, model_fun=nne.calc_cri_ours_with_target_length, model_norm=scaler)"
   ]
  },
  {
   "cell_type": "code",
   "execution_count": null,
   "metadata": {},
   "outputs": [],
   "source": []
  },
  {
   "cell_type": "markdown",
   "metadata": {},
   "source": [
    "## Training an MLP (via sklearn) -- with both lengths"
   ]
  },
  {
   "cell_type": "code",
   "execution_count": 25,
   "metadata": {},
   "outputs": [],
   "source": [
    "X = mlp_input[['dist_euclid', 'own_speed', 'target_speed', 'own_course', 'target_course', 'own_length', 'target_length']].values\n",
    "y = mlp_input[['cri']].values.ravel()\n",
    "\n",
    "X_train, X_test, y_train, y_test = train_test_split(X, y, test_size=0.2, random_state=10, stratify=mlp_input['cri_bin'])\n",
    "\n",
    "scaler = StandardScaler()\n",
    "X_train_norm = scaler.fit_transform(X_train)"
   ]
  },
  {
   "cell_type": "code",
   "execution_count": 26,
   "metadata": {
    "scrolled": true,
    "tags": []
   },
   "outputs": [
    {
     "name": "stdout",
     "output_type": "stream",
     "text": [
      "Iteration 1, loss = 0.00309454\n",
      "Validation score: 0.716809\n",
      "Iteration 2, loss = 0.00219490\n",
      "Validation score: 0.756268\n",
      "Iteration 3, loss = 0.00198807\n",
      "Validation score: 0.791904\n",
      "Iteration 4, loss = 0.00187678\n",
      "Validation score: 0.800557\n",
      "Iteration 5, loss = 0.00178293\n",
      "Validation score: 0.818743\n",
      "Iteration 6, loss = 0.00171560\n",
      "Validation score: 0.826659\n",
      "Iteration 7, loss = 0.00165767\n",
      "Validation score: 0.818349\n",
      "Iteration 8, loss = 0.00159609\n",
      "Validation score: 0.835646\n",
      "Iteration 9, loss = 0.00155806\n",
      "Validation score: 0.844040\n",
      "Iteration 10, loss = 0.00151529\n",
      "Validation score: 0.844515\n",
      "Iteration 11, loss = 0.00148648\n",
      "Validation score: 0.840580\n",
      "Iteration 12, loss = 0.00146029\n",
      "Validation score: 0.839596\n",
      "Iteration 13, loss = 0.00142915\n",
      "Validation score: 0.850809\n",
      "Iteration 14, loss = 0.00140848\n",
      "Validation score: 0.848565\n",
      "Iteration 15, loss = 0.00138630\n",
      "Validation score: 0.862471\n",
      "Iteration 16, loss = 0.00136579\n",
      "Validation score: 0.853059\n",
      "Iteration 17, loss = 0.00135376\n",
      "Validation score: 0.865703\n",
      "Iteration 18, loss = 0.00133001\n",
      "Validation score: 0.867213\n",
      "Iteration 19, loss = 0.00130799\n",
      "Validation score: 0.857749\n",
      "Iteration 20, loss = 0.00129734\n",
      "Validation score: 0.863239\n",
      "Iteration 21, loss = 0.00129462\n",
      "Validation score: 0.872347\n",
      "Iteration 22, loss = 0.00126688\n",
      "Validation score: 0.861963\n",
      "Iteration 23, loss = 0.00126558\n",
      "Validation score: 0.870863\n",
      "Iteration 24, loss = 0.00125498\n",
      "Validation score: 0.875178\n",
      "Iteration 25, loss = 0.00123931\n",
      "Validation score: 0.877136\n",
      "Iteration 26, loss = 0.00122439\n",
      "Validation score: 0.878819\n",
      "Iteration 27, loss = 0.00121276\n",
      "Validation score: 0.868504\n",
      "Iteration 28, loss = 0.00120748\n",
      "Validation score: 0.876968\n",
      "Iteration 29, loss = 0.00120219\n",
      "Validation score: 0.870443\n",
      "Iteration 30, loss = 0.00119116\n",
      "Validation score: 0.885653\n"
     ]
    },
    {
     "name": "stderr",
     "output_type": "stream",
     "text": [
      "/Users/andrewt/miniforge3/envs/vesai/lib/python3.9/site-packages/sklearn/neural_network/_multilayer_perceptron.py:692: ConvergenceWarning: Stochastic Optimizer: Maximum iterations (30) reached and the optimization hasn't converged yet.\n",
      "  warnings.warn(\n"
     ]
    },
    {
     "data": {
      "text/plain": [
       "0.8833811537331612"
      ]
     },
     "execution_count": 26,
     "metadata": {},
     "output_type": "execute_result"
    }
   ],
   "source": [
    "regr = MLPRegressor(random_state=10, max_iter=30, hidden_layer_sizes=(256, 32), \n",
    "                    verbose=True, early_stopping=True, n_iter_no_change=10).fit(X_train_norm, y_train)\n",
    "\n",
    "regr.score(scaler.transform(X_test), y_test)"
   ]
  },
  {
   "cell_type": "code",
   "execution_count": 27,
   "metadata": {},
   "outputs": [
    {
     "name": "stdout",
     "output_type": "stream",
     "text": [
      "MAE: 0.0156228272716904\n",
      "RMSE: 0.04543036182395727\n"
     ]
    }
   ],
   "source": [
    "from sklearn.metrics import mean_absolute_error, mean_squared_error\n",
    "\n",
    "cri_pred = pd.Series(regr.predict(scaler.transform(X_test))).clip(0,1).values\n",
    "print(f'MAE: {mean_absolute_error(y_test, cri_pred)}')\n",
    "print(f'RMSE: {mean_squared_error(y_test, cri_pred, squared=False)}')"
   ]
  },
  {
   "cell_type": "code",
   "execution_count": 28,
   "metadata": {},
   "outputs": [
    {
     "data": {
      "text/plain": [
       "['./data/vcra-1w-mlp-hidden_256_32-with_both_lengths.scaler.joblib']"
      ]
     },
     "execution_count": 28,
     "metadata": {},
     "output_type": "execute_result"
    }
   ],
   "source": [
    "from joblib import dump, load\n",
    "# dump(regr, './data/vcra-1w-mlp-hidden_128_32_8-parkj.joblib') \n",
    "dump(regr, './data/vcra-1w-mlp-hidden_256_32-with_both_lengths.model.joblib') \n",
    "dump(scaler, './data/vcra-1w-mlp-hidden_256_32-with_both_lengths.scaler.joblib') "
   ]
  },
  {
   "cell_type": "code",
   "execution_count": 29,
   "metadata": {},
   "outputs": [],
   "source": [
    "from joblib import dump, load\n",
    "regr = load('./data/vcra-1w-mlp-hidden_256_32-with_both_lengths.model.joblib') \n",
    "scaler = load('./data/vcra-1w-mlp-hidden_256_32-with_both_lengths.scaler.joblib')"
   ]
  },
  {
   "cell_type": "code",
   "execution_count": 30,
   "metadata": {},
   "outputs": [
    {
     "name": "stdout",
     "output_type": "stream",
     "text": [
      "135 ms ± 623 µs per loop (mean ± std. dev. of 7 runs, 10 loops each)\n"
     ]
    }
   ],
   "source": [
    "%%timeit\n",
    "nne.calc_cri_timeslice(gdf_min_slice, model=regr, model_fun=nne.calc_cri_ours_with_both_length, model_norm=scaler)"
   ]
  },
  {
   "cell_type": "code",
   "execution_count": 31,
   "metadata": {},
   "outputs": [
    {
     "name": "stdout",
     "output_type": "stream",
     "text": [
      "248 ms ± 854 µs per loop (mean ± std. dev. of 7 runs, 1 loop each)\n"
     ]
    }
   ],
   "source": [
    "%%timeit\n",
    "nne.calc_cri_timeslice(gdf_median_slice, model=regr, model_fun=nne.calc_cri_ours_with_both_length, model_norm=scaler)"
   ]
  },
  {
   "cell_type": "code",
   "execution_count": 32,
   "metadata": {},
   "outputs": [
    {
     "name": "stdout",
     "output_type": "stream",
     "text": [
      "496 ms ± 2.52 ms per loop (mean ± std. dev. of 7 runs, 1 loop each)\n"
     ]
    }
   ],
   "source": [
    "%%timeit\n",
    "nne.calc_cri_timeslice(gdf_max_slice, model=regr, model_fun=nne.calc_cri_ours_with_both_length, model_norm=scaler)"
   ]
  },
  {
   "cell_type": "code",
   "execution_count": null,
   "metadata": {},
   "outputs": [],
   "source": []
  },
  {
   "cell_type": "markdown",
   "metadata": {},
   "source": [
    "## Training an MLP (via sklearn) -- with no lengths"
   ]
  },
  {
   "cell_type": "code",
   "execution_count": 33,
   "metadata": {},
   "outputs": [],
   "source": [
    "X = mlp_input[['dist_euclid', 'own_speed', 'target_speed', 'own_course', 'target_course']].values\n",
    "y = mlp_input[['cri']].values.ravel()\n",
    "\n",
    "X_train, X_test, y_train, y_test = train_test_split(X, y, test_size=0.2, random_state=10, stratify=mlp_input['cri_bin'])\n",
    "\n",
    "scaler = StandardScaler()\n",
    "X_train_norm = scaler.fit_transform(X_train)"
   ]
  },
  {
   "cell_type": "code",
   "execution_count": 34,
   "metadata": {
    "scrolled": true,
    "tags": []
   },
   "outputs": [
    {
     "name": "stdout",
     "output_type": "stream",
     "text": [
      "Iteration 1, loss = 0.00349063\n",
      "Validation score: 0.708111\n",
      "Iteration 2, loss = 0.00251164\n",
      "Validation score: 0.731363\n",
      "Iteration 3, loss = 0.00219936\n",
      "Validation score: 0.782856\n",
      "Iteration 4, loss = 0.00203311\n",
      "Validation score: 0.787728\n",
      "Iteration 5, loss = 0.00194867\n",
      "Validation score: 0.785633\n",
      "Iteration 6, loss = 0.00186464\n",
      "Validation score: 0.796392\n",
      "Iteration 7, loss = 0.00181158\n",
      "Validation score: 0.799938\n",
      "Iteration 8, loss = 0.00175430\n",
      "Validation score: 0.807375\n",
      "Iteration 9, loss = 0.00169564\n",
      "Validation score: 0.827490\n",
      "Iteration 10, loss = 0.00165498\n",
      "Validation score: 0.828539\n",
      "Iteration 11, loss = 0.00163154\n",
      "Validation score: 0.834109\n",
      "Iteration 12, loss = 0.00160294\n",
      "Validation score: 0.825828\n",
      "Iteration 13, loss = 0.00156151\n",
      "Validation score: 0.846022\n",
      "Iteration 14, loss = 0.00153543\n",
      "Validation score: 0.840757\n",
      "Iteration 15, loss = 0.00150576\n",
      "Validation score: 0.845013\n",
      "Iteration 16, loss = 0.00146814\n",
      "Validation score: 0.825579\n",
      "Iteration 17, loss = 0.00145852\n",
      "Validation score: 0.841483\n",
      "Iteration 18, loss = 0.00144239\n",
      "Validation score: 0.849310\n",
      "Iteration 19, loss = 0.00143985\n",
      "Validation score: 0.850445\n",
      "Iteration 20, loss = 0.00141971\n",
      "Validation score: 0.859002\n",
      "Iteration 21, loss = 0.00140645\n",
      "Validation score: 0.855072\n",
      "Iteration 22, loss = 0.00139478\n",
      "Validation score: 0.860378\n",
      "Iteration 23, loss = 0.00138561\n",
      "Validation score: 0.857428\n",
      "Iteration 24, loss = 0.00136078\n",
      "Validation score: 0.861207\n",
      "Iteration 25, loss = 0.00135362\n",
      "Validation score: 0.847782\n",
      "Iteration 26, loss = 0.00134039\n",
      "Validation score: 0.858907\n",
      "Iteration 27, loss = 0.00133888\n",
      "Validation score: 0.856640\n",
      "Iteration 28, loss = 0.00133276\n",
      "Validation score: 0.857949\n",
      "Iteration 29, loss = 0.00131738\n",
      "Validation score: 0.870749\n",
      "Iteration 30, loss = 0.00130686\n",
      "Validation score: 0.858319\n"
     ]
    },
    {
     "name": "stderr",
     "output_type": "stream",
     "text": [
      "/Users/andrewt/miniforge3/envs/vesai/lib/python3.9/site-packages/sklearn/neural_network/_multilayer_perceptron.py:692: ConvergenceWarning: Stochastic Optimizer: Maximum iterations (30) reached and the optimization hasn't converged yet.\n",
      "  warnings.warn(\n"
     ]
    },
    {
     "data": {
      "text/plain": [
       "0.8680810777097406"
      ]
     },
     "execution_count": 34,
     "metadata": {},
     "output_type": "execute_result"
    }
   ],
   "source": [
    "regr = MLPRegressor(random_state=10, max_iter=30, hidden_layer_sizes=(256, 32), \n",
    "                    verbose=True, early_stopping=True, n_iter_no_change=10).fit(X_train_norm, y_train)\n",
    "\n",
    "regr.score(scaler.transform(X_test), y_test)"
   ]
  },
  {
   "cell_type": "code",
   "execution_count": 35,
   "metadata": {},
   "outputs": [
    {
     "name": "stdout",
     "output_type": "stream",
     "text": [
      "MAE: 0.01917913256010124\n",
      "RMSE: 0.04842021536015828\n"
     ]
    }
   ],
   "source": [
    "from sklearn.metrics import mean_absolute_error, mean_squared_error\n",
    "\n",
    "cri_pred = pd.Series(regr.predict(scaler.transform(X_test))).clip(0,1).values\n",
    "print(f'MAE: {mean_absolute_error(y_test, cri_pred)}')\n",
    "print(f'RMSE: {mean_squared_error(y_test, cri_pred, squared=False)}')"
   ]
  },
  {
   "cell_type": "code",
   "execution_count": 36,
   "metadata": {},
   "outputs": [
    {
     "data": {
      "text/plain": [
       "['./data/vcra-1w-mlp-hidden_256_32-with_no_lengths.scaler.joblib']"
      ]
     },
     "execution_count": 36,
     "metadata": {},
     "output_type": "execute_result"
    }
   ],
   "source": [
    "from joblib import dump, load\n",
    "# dump(regr, './data/vcra-1w-mlp-hidden_128_32_8-parkj.joblib') \n",
    "dump(regr, './data/vcra-1w-mlp-hidden_256_32-with_no_lengths.model.joblib') \n",
    "dump(scaler, './data/vcra-1w-mlp-hidden_256_32-with_no_lengths.scaler.joblib') "
   ]
  },
  {
   "cell_type": "code",
   "execution_count": 37,
   "metadata": {},
   "outputs": [],
   "source": [
    "from joblib import dump, load\n",
    "regr = load('./data/vcra-1w-mlp-hidden_256_32-with_no_lengths.model.joblib') \n",
    "scaler = load('./data/vcra-1w-mlp-hidden_256_32-with_no_lengths.scaler.joblib')"
   ]
  },
  {
   "cell_type": "code",
   "execution_count": 38,
   "metadata": {},
   "outputs": [
    {
     "name": "stdout",
     "output_type": "stream",
     "text": [
      "135 ms ± 536 µs per loop (mean ± std. dev. of 7 runs, 10 loops each)\n"
     ]
    }
   ],
   "source": [
    "%%timeit\n",
    "nne.calc_cri_timeslice(gdf_min_slice, model=regr, model_fun=nne.calc_cri_ours_with_no_length, model_norm=scaler)"
   ]
  },
  {
   "cell_type": "code",
   "execution_count": 39,
   "metadata": {},
   "outputs": [
    {
     "name": "stdout",
     "output_type": "stream",
     "text": [
      "253 ms ± 1.8 ms per loop (mean ± std. dev. of 7 runs, 1 loop each)\n"
     ]
    }
   ],
   "source": [
    "%%timeit\n",
    "nne.calc_cri_timeslice(gdf_median_slice, model=regr, model_fun=nne.calc_cri_ours_with_no_length, model_norm=scaler)"
   ]
  },
  {
   "cell_type": "code",
   "execution_count": 40,
   "metadata": {},
   "outputs": [
    {
     "name": "stdout",
     "output_type": "stream",
     "text": [
      "494 ms ± 2.59 ms per loop (mean ± std. dev. of 7 runs, 1 loop each)\n"
     ]
    }
   ],
   "source": [
    "%%timeit\n",
    "nne.calc_cri_timeslice(gdf_max_slice, model=regr, model_fun=nne.calc_cri_ours_with_no_length, model_norm=scaler)"
   ]
  },
  {
   "cell_type": "code",
   "execution_count": null,
   "metadata": {},
   "outputs": [],
   "source": []
  }
 ],
 "metadata": {
  "interpreter": {
   "hash": "26a0fb21edfd8898ccaa2d3be90ad05e47a6ebc73217c056c6f09f953e946973"
  },
  "kernelspec": {
   "display_name": "Python (VesselAI)",
   "language": "python",
   "name": "vesai"
  },
  "language_info": {
   "codemirror_mode": {
    "name": "ipython",
    "version": 3
   },
   "file_extension": ".py",
   "mimetype": "text/x-python",
   "name": "python",
   "nbconvert_exporter": "python",
   "pygments_lexer": "ipython3",
   "version": "3.9.9"
  }
 },
 "nbformat": 4,
 "nbformat_minor": 4
}

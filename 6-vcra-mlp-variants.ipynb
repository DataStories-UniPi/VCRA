{
 "cells": [
  {
   "cell_type": "code",
   "execution_count": 1,
   "source": [
    "import numpy as np\n",
    "import pandas as pd\n",
    "\n",
    "import sys, os\n",
    "import datetime\n",
    "\n",
    "import importlib\n",
    "from tqdm import tqdm"
   ],
   "outputs": [],
   "metadata": {}
  },
  {
   "cell_type": "code",
   "execution_count": 4,
   "source": [
    "import st_toolkit as geohl\n",
    "importlib.reload(geohl)\n",
    "\n",
    "import cri_calc as cri\n",
    "importlib.reload(cri)\n",
    "\n",
    "import cri_helper as helper\n",
    "importlib.reload(helper)\n",
    "\n",
    "import nn_evaluation as nne\n",
    "importlib.reload(nne);"
   ],
   "outputs": [],
   "metadata": {}
  },
  {
   "cell_type": "code",
   "execution_count": null,
   "source": [],
   "outputs": [],
   "metadata": {}
  },
  {
   "cell_type": "markdown",
   "source": [
    "## Load Trajectories"
   ],
   "metadata": {}
  },
  {
   "cell_type": "code",
   "execution_count": 6,
   "source": [
    "df = pd.read_csv('./data/unipi_ais_dynamic_jul2018_1w_algn_linear_v2_w_lens.csv', parse_dates=['datetime'])\n",
    "gdf = geohl.getGeoDataFrame_v2(df, crs='epsg:4326')\n",
    "\n",
    "gdf2 = gdf.loc[gdf.datetime.dt.date.between(datetime.date(2018, 7, 3), datetime.date(2018, 7, 3), inclusive='both')].copy()\n",
    "gdf_sub_moving = gdf2.loc[gdf2.speed.between(1, 50, inclusive='neither')].copy()"
   ],
   "outputs": [
    {
     "output_type": "stream",
     "name": "stderr",
     "text": [
      "/home/andrewt/miniconda3/envs/vesai/lib/python3.8/site-packages/pandas/core/dtypes/cast.py:122: ShapelyDeprecationWarning: The array interface is deprecated and will no longer work in Shapely 2.0. Convert the '.coords' to a numpy array instead.\n",
      "  arr = construct_1d_object_array_from_listlike(values)\n"
     ]
    }
   ],
   "metadata": {
    "tags": []
   }
  },
  {
   "cell_type": "code",
   "execution_count": null,
   "source": [],
   "outputs": [],
   "metadata": {}
  },
  {
   "cell_type": "markdown",
   "source": [
    "## Loading VCRA Dataset "
   ],
   "metadata": {}
  },
  {
   "cell_type": "code",
   "execution_count": 7,
   "source": [
    "gdf_vcra = pd.read_pickle('./data/unipi_ais_dynamic_jul2018_1w_vcra_dataset_v3.pickle')"
   ],
   "outputs": [],
   "metadata": {}
  },
  {
   "cell_type": "code",
   "execution_count": 8,
   "source": [
    "tqdm.pandas(desc='Adding Vessels\\' Length...')\n",
    "\n",
    "# gdf_vcra.loc[:, 'own_length'] = gdf_vcra.own_Index.apply(lambda l: gdf_sub_moving[l].length)\n",
    "mlp_input = gdf_vcra.loc[gdf_vcra.own_Index.isin(gdf_sub_moving.index.values)].copy()\n",
    "mlp_input.loc[:, 'own_length'] = mlp_input.own_Index.progress_apply(lambda l: gdf_sub_moving.loc[l].length)\n",
    "mlp_input.loc[:, 'target_length'] = mlp_input.target_Index.progress_apply(lambda l: gdf_sub_moving.loc[l].length)"
   ],
   "outputs": [
    {
     "output_type": "stream",
     "name": "stderr",
     "text": [
      "Adding Vessels' Length...: 100%|██████████| 960268/960268 [01:46<00:00, 8986.68it/s]\n",
      "Adding Vessels' Length...: 100%|██████████| 960268/960268 [01:45<00:00, 9107.25it/s]\n"
     ]
    }
   ],
   "metadata": {}
  },
  {
   "cell_type": "code",
   "execution_count": 9,
   "source": [
    "timeslice_lens = gdf_sub_moving.groupby('datetime').apply(len)\n",
    "min_slice, median_slice, max_slice = timeslice_lens.loc[timeslice_lens == timeslice_lens.min()].index[0],\\\n",
    "                                     timeslice_lens.loc[timeslice_lens == timeslice_lens.median()].index[0],\\\n",
    "                                     timeslice_lens.loc[timeslice_lens == timeslice_lens.max()].index[0]"
   ],
   "outputs": [],
   "metadata": {}
  },
  {
   "cell_type": "code",
   "execution_count": 10,
   "source": [
    "gdf_min_slice    = gdf_sub_moving.loc[gdf_sub_moving.datetime == min_slice].copy()\n",
    "gdf_median_slice = gdf_sub_moving.loc[gdf_sub_moving.datetime == median_slice].copy()\n",
    "gdf_max_slice    = gdf_sub_moving.loc[gdf_sub_moving.datetime == max_slice].copy()"
   ],
   "outputs": [],
   "metadata": {}
  },
  {
   "cell_type": "markdown",
   "source": [
    "## Training an MLP (via sklearn) -- Prototype (with own length; as included in the Paper)"
   ],
   "metadata": {
    "tags": []
   }
  },
  {
   "cell_type": "code",
   "execution_count": 11,
   "source": [
    "from sklearn.neural_network import MLPRegressor\n",
    "from sklearn.model_selection import train_test_split\n",
    "from sklearn.preprocessing import StandardScaler"
   ],
   "outputs": [],
   "metadata": {}
  },
  {
   "cell_type": "code",
   "execution_count": 12,
   "source": [
    "X = mlp_input[['dist_euclid', 'own_speed', 'target_speed', 'own_course', 'target_course', 'own_length']].values\n",
    "y = mlp_input[['cri']].values.ravel()\n",
    "\n",
    "X_train, X_test, y_train, y_test = train_test_split(X, y, test_size=0.2, random_state=10)\n",
    "\n",
    "scaler = StandardScaler()\n",
    "X_train_norm = scaler.fit_transform(X_train)"
   ],
   "outputs": [],
   "metadata": {}
  },
  {
   "cell_type": "code",
   "execution_count": 13,
   "source": [
    "regr = MLPRegressor(random_state=10, max_iter=30, hidden_layer_sizes=(256, 32), \n",
    "                    verbose=True, early_stopping=True, n_iter_no_change=10).fit(X_train_norm, y_train)\n",
    "\n",
    "regr.score(scaler.transform(X_test), y_test)"
   ],
   "outputs": [
    {
     "output_type": "stream",
     "name": "stdout",
     "text": [
      "Iteration 1, loss = 0.00385015\n",
      "Validation score: 0.644050\n",
      "Iteration 2, loss = 0.00259088\n",
      "Validation score: 0.725855\n",
      "Iteration 3, loss = 0.00230187\n",
      "Validation score: 0.744237\n",
      "Iteration 4, loss = 0.00216573\n",
      "Validation score: 0.778982\n",
      "Iteration 5, loss = 0.00204967\n",
      "Validation score: 0.780121\n",
      "Iteration 6, loss = 0.00198630\n",
      "Validation score: 0.758965\n",
      "Iteration 7, loss = 0.00190444\n",
      "Validation score: 0.784247\n",
      "Iteration 8, loss = 0.00183911\n",
      "Validation score: 0.790634\n",
      "Iteration 9, loss = 0.00179812\n",
      "Validation score: 0.808164\n",
      "Iteration 10, loss = 0.00176251\n",
      "Validation score: 0.805912\n",
      "Iteration 11, loss = 0.00172066\n",
      "Validation score: 0.831105\n",
      "Iteration 12, loss = 0.00168713\n",
      "Validation score: 0.824960\n",
      "Iteration 13, loss = 0.00164822\n",
      "Validation score: 0.827729\n",
      "Iteration 14, loss = 0.00162294\n",
      "Validation score: 0.831060\n",
      "Iteration 15, loss = 0.00158726\n",
      "Validation score: 0.835460\n",
      "Iteration 16, loss = 0.00156929\n",
      "Validation score: 0.838889\n",
      "Iteration 17, loss = 0.00154823\n",
      "Validation score: 0.834683\n",
      "Iteration 18, loss = 0.00152200\n",
      "Validation score: 0.838771\n",
      "Iteration 19, loss = 0.00150440\n",
      "Validation score: 0.844067\n",
      "Iteration 20, loss = 0.00148720\n",
      "Validation score: 0.830301\n",
      "Iteration 21, loss = 0.00146330\n",
      "Validation score: 0.853514\n",
      "Iteration 22, loss = 0.00144792\n",
      "Validation score: 0.846411\n",
      "Iteration 23, loss = 0.00143354\n",
      "Validation score: 0.851350\n",
      "Iteration 24, loss = 0.00142083\n",
      "Validation score: 0.854658\n",
      "Iteration 25, loss = 0.00140232\n",
      "Validation score: 0.835063\n",
      "Iteration 26, loss = 0.00139186\n",
      "Validation score: 0.844484\n",
      "Iteration 27, loss = 0.00136806\n",
      "Validation score: 0.864906\n",
      "Iteration 28, loss = 0.00136654\n",
      "Validation score: 0.869035\n",
      "Iteration 29, loss = 0.00136144\n",
      "Validation score: 0.860629\n",
      "Iteration 30, loss = 0.00134410\n",
      "Validation score: 0.858902\n"
     ]
    },
    {
     "output_type": "stream",
     "name": "stderr",
     "text": [
      "/home/andrewt/miniconda3/envs/vesai/lib/python3.8/site-packages/sklearn/neural_network/_multilayer_perceptron.py:692: ConvergenceWarning: Stochastic Optimizer: Maximum iterations (30) reached and the optimization hasn't converged yet.\n",
      "  warnings.warn(\n"
     ]
    },
    {
     "output_type": "execute_result",
     "data": {
      "text/plain": [
       "0.868270934890964"
      ]
     },
     "metadata": {},
     "execution_count": 13
    }
   ],
   "metadata": {
    "scrolled": true,
    "tags": []
   }
  },
  {
   "cell_type": "code",
   "execution_count": 14,
   "source": [
    "from sklearn.metrics import mean_absolute_error, mean_squared_error\n",
    "\n",
    "cri_pred = pd.Series(regr.predict(scaler.transform(X_test))).clip(0,1).values\n",
    "print(f'MAE: {mean_absolute_error(y_test, cri_pred)}')\n",
    "print(f'RMSE: {mean_squared_error(y_test, cri_pred, squared=False)}')"
   ],
   "outputs": [
    {
     "output_type": "stream",
     "name": "stdout",
     "text": [
      "MAE: 0.01787829212857179\n",
      "RMSE: 0.04847896187973707\n"
     ]
    }
   ],
   "metadata": {}
  },
  {
   "cell_type": "code",
   "execution_count": 15,
   "source": [
    "from joblib import dump, load\n",
    "dump(regr, './data/vcra-1w-mlp-hidden_256_32-with_own_length.joblib') \n",
    "dump(scaler, './data/vcra-1w-mlp-hidden_256_32-with_own_length.scaler.joblib') "
   ],
   "outputs": [
    {
     "output_type": "execute_result",
     "data": {
      "text/plain": [
       "['./data/vcra-1w-mlp-hidden_256_32-parkj-with_own_length.scaler.joblib']"
      ]
     },
     "metadata": {},
     "execution_count": 15
    }
   ],
   "metadata": {}
  },
  {
   "cell_type": "code",
   "execution_count": 49,
   "source": [
    "from joblib import dump, load\n",
    "regr = load('./data/vcra-1w-mlp-hidden_256_32-with_own_length.joblib') \n",
    "scaler = load('./data/vcra-1w-mlp-hidden_256_32-with_own_length.scaler.joblib')"
   ],
   "outputs": [],
   "metadata": {}
  },
  {
   "cell_type": "code",
   "execution_count": 16,
   "source": [
    "%%timeit\n",
    "nne.calc_cri_timeslice(gdf_min_slice, model=regr, model_fun=nne.calc_cri_ours_with_own_length, model_norm=scaler)"
   ],
   "outputs": [
    {
     "output_type": "stream",
     "name": "stdout",
     "text": [
      "196 ms ± 13.2 ms per loop (mean ± std. dev. of 7 runs, 1 loop each)\n"
     ]
    }
   ],
   "metadata": {}
  },
  {
   "cell_type": "code",
   "execution_count": 17,
   "source": [
    "%%timeit\n",
    "nne.calc_cri_timeslice(gdf_median_slice, model=regr, model_fun=nne.calc_cri_ours_with_own_length, model_norm=scaler)"
   ],
   "outputs": [
    {
     "output_type": "stream",
     "name": "stdout",
     "text": [
      "354 ms ± 6.75 ms per loop (mean ± std. dev. of 7 runs, 1 loop each)\n"
     ]
    }
   ],
   "metadata": {}
  },
  {
   "cell_type": "code",
   "execution_count": 18,
   "source": [
    "%%timeit\n",
    "nne.calc_cri_timeslice(gdf_max_slice, model=regr, model_fun=nne.calc_cri_ours_with_own_length, model_norm=scaler)"
   ],
   "outputs": [
    {
     "output_type": "stream",
     "name": "stdout",
     "text": [
      "680 ms ± 20.8 ms per loop (mean ± std. dev. of 7 runs, 1 loop each)\n"
     ]
    }
   ],
   "metadata": {}
  },
  {
   "cell_type": "code",
   "execution_count": null,
   "source": [],
   "outputs": [],
   "metadata": {}
  },
  {
   "cell_type": "markdown",
   "source": [
    "## Training an MLP (via sklearn) -- Prototype (with target length)"
   ],
   "metadata": {}
  },
  {
   "cell_type": "code",
   "execution_count": 19,
   "source": [
    "X = mlp_input[['dist_euclid', 'own_speed', 'target_speed', 'own_course', 'target_course', 'target_length']].values\n",
    "y = mlp_input[['cri']].values.ravel()\n",
    "\n",
    "X_train, X_test, y_train, y_test = train_test_split(X, y, test_size=0.2, random_state=10)\n",
    "\n",
    "scaler = StandardScaler()\n",
    "X_train_norm = scaler.fit_transform(X_train)"
   ],
   "outputs": [],
   "metadata": {}
  },
  {
   "cell_type": "code",
   "execution_count": 20,
   "source": [
    "regr = MLPRegressor(random_state=10, max_iter=30, hidden_layer_sizes=(256, 32), \n",
    "                    verbose=True, early_stopping=True, n_iter_no_change=10).fit(X_train_norm, y_train)\n",
    "\n",
    "regr.score(scaler.transform(X_test), y_test)"
   ],
   "outputs": [
    {
     "output_type": "stream",
     "name": "stdout",
     "text": [
      "Iteration 1, loss = 0.00391583\n",
      "Validation score: 0.664977\n",
      "Iteration 2, loss = 0.00257262\n",
      "Validation score: 0.727071\n",
      "Iteration 3, loss = 0.00228228\n",
      "Validation score: 0.746228\n",
      "Iteration 4, loss = 0.00213174\n",
      "Validation score: 0.785120\n",
      "Iteration 5, loss = 0.00200412\n",
      "Validation score: 0.781859\n",
      "Iteration 6, loss = 0.00192716\n",
      "Validation score: 0.782292\n",
      "Iteration 7, loss = 0.00185371\n",
      "Validation score: 0.801844\n",
      "Iteration 8, loss = 0.00179975\n",
      "Validation score: 0.794698\n",
      "Iteration 9, loss = 0.00175934\n",
      "Validation score: 0.815371\n",
      "Iteration 10, loss = 0.00172932\n",
      "Validation score: 0.816071\n",
      "Iteration 11, loss = 0.00167105\n",
      "Validation score: 0.824834\n",
      "Iteration 12, loss = 0.00165240\n",
      "Validation score: 0.826684\n",
      "Iteration 13, loss = 0.00161315\n",
      "Validation score: 0.841290\n",
      "Iteration 14, loss = 0.00159400\n",
      "Validation score: 0.841351\n",
      "Iteration 15, loss = 0.00155482\n",
      "Validation score: 0.825070\n",
      "Iteration 16, loss = 0.00154003\n",
      "Validation score: 0.847538\n",
      "Iteration 17, loss = 0.00152088\n",
      "Validation score: 0.839932\n",
      "Iteration 18, loss = 0.00149639\n",
      "Validation score: 0.853547\n",
      "Iteration 19, loss = 0.00147941\n",
      "Validation score: 0.846028\n",
      "Iteration 20, loss = 0.00145754\n",
      "Validation score: 0.855879\n",
      "Iteration 21, loss = 0.00143271\n",
      "Validation score: 0.852514\n",
      "Iteration 22, loss = 0.00141960\n",
      "Validation score: 0.856389\n",
      "Iteration 23, loss = 0.00139425\n",
      "Validation score: 0.862365\n",
      "Iteration 24, loss = 0.00138461\n",
      "Validation score: 0.857449\n",
      "Iteration 25, loss = 0.00137197\n",
      "Validation score: 0.838841\n",
      "Iteration 26, loss = 0.00135940\n",
      "Validation score: 0.862834\n",
      "Iteration 27, loss = 0.00134831\n",
      "Validation score: 0.867583\n",
      "Iteration 28, loss = 0.00134091\n",
      "Validation score: 0.867150\n",
      "Iteration 29, loss = 0.00132386\n",
      "Validation score: 0.872100\n",
      "Iteration 30, loss = 0.00131238\n",
      "Validation score: 0.867825\n"
     ]
    },
    {
     "output_type": "stream",
     "name": "stderr",
     "text": [
      "/home/andrewt/miniconda3/envs/vesai/lib/python3.8/site-packages/sklearn/neural_network/_multilayer_perceptron.py:692: ConvergenceWarning: Stochastic Optimizer: Maximum iterations (30) reached and the optimization hasn't converged yet.\n",
      "  warnings.warn(\n"
     ]
    },
    {
     "output_type": "execute_result",
     "data": {
      "text/plain": [
       "0.8713368534093084"
      ]
     },
     "metadata": {},
     "execution_count": 20
    }
   ],
   "metadata": {
    "scrolled": true,
    "tags": []
   }
  },
  {
   "cell_type": "code",
   "execution_count": 21,
   "source": [
    "from sklearn.metrics import mean_absolute_error, mean_squared_error\n",
    "\n",
    "cri_pred = pd.Series(regr.predict(scaler.transform(X_test))).clip(0,1).values\n",
    "print(f'MAE: {mean_absolute_error(y_test, cri_pred)}')\n",
    "print(f'RMSE: {mean_squared_error(y_test, cri_pred, squared=False)}')"
   ],
   "outputs": [
    {
     "output_type": "stream",
     "name": "stdout",
     "text": [
      "MAE: 0.01669295304663667\n",
      "RMSE: 0.047994497012382016\n"
     ]
    }
   ],
   "metadata": {}
  },
  {
   "cell_type": "code",
   "execution_count": 22,
   "source": [
    "from joblib import dump, load\n",
    "# dump(regr, './data/vcra-1w-mlp-hidden_128_32_8-parkj.joblib') \n",
    "dump(regr, './data/vcra-1w-mlp-hidden_256_32-with_target_length.joblib') \n",
    "dump(scaler, './data/vcra-1w-mlp-hidden_256_32-with_target_length.scaler.joblib') "
   ],
   "outputs": [
    {
     "output_type": "execute_result",
     "data": {
      "text/plain": [
       "['./data/vcra-1w-mlp-hidden_256_32-parkj-with_target_length.scaler.joblib']"
      ]
     },
     "metadata": {},
     "execution_count": 22
    }
   ],
   "metadata": {}
  },
  {
   "cell_type": "code",
   "execution_count": 53,
   "source": [
    "from joblib import dump, load\n",
    "regr = load('./data/vcra-1w-mlp-hidden_256_32-with_target_length.joblib') \n",
    "scaler = load('./data/vcra-1w-mlp-hidden_256_32-with_target_length.scaler.joblib')"
   ],
   "outputs": [],
   "metadata": {}
  },
  {
   "cell_type": "code",
   "execution_count": 23,
   "source": [
    "%%timeit\n",
    "nne.calc_cri_timeslice(gdf_min_slice, model=regr, model_fun=nne.calc_cri_ours_with_target_length, model_norm=scaler)"
   ],
   "outputs": [
    {
     "output_type": "stream",
     "name": "stdout",
     "text": [
      "201 ms ± 19 ms per loop (mean ± std. dev. of 7 runs, 1 loop each)\n"
     ]
    }
   ],
   "metadata": {}
  },
  {
   "cell_type": "code",
   "execution_count": 24,
   "source": [
    "%%timeit\n",
    "nne.calc_cri_timeslice(gdf_median_slice, model=regr, model_fun=nne.calc_cri_ours_with_target_length, model_norm=scaler)"
   ],
   "outputs": [
    {
     "output_type": "stream",
     "name": "stdout",
     "text": [
      "360 ms ± 12.4 ms per loop (mean ± std. dev. of 7 runs, 1 loop each)\n"
     ]
    }
   ],
   "metadata": {}
  },
  {
   "cell_type": "code",
   "execution_count": 25,
   "source": [
    "%%timeit\n",
    "nne.calc_cri_timeslice(gdf_max_slice, model=regr, model_fun=nne.calc_cri_ours_with_target_length, model_norm=scaler)"
   ],
   "outputs": [
    {
     "output_type": "stream",
     "name": "stdout",
     "text": [
      "684 ms ± 15 ms per loop (mean ± std. dev. of 7 runs, 1 loop each)\n"
     ]
    }
   ],
   "metadata": {}
  },
  {
   "cell_type": "code",
   "execution_count": null,
   "source": [],
   "outputs": [],
   "metadata": {}
  },
  {
   "cell_type": "markdown",
   "source": [
    "## Training an MLP (via sklearn) -- Prototype (with both lengths)"
   ],
   "metadata": {}
  },
  {
   "cell_type": "code",
   "execution_count": 26,
   "source": [
    "X = mlp_input[['dist_euclid', 'own_speed', 'target_speed', 'own_course', 'target_course', 'own_length', 'target_length']].values\n",
    "y = mlp_input[['cri']].values.ravel()\n",
    "\n",
    "X_train, X_test, y_train, y_test = train_test_split(X, y, test_size=0.2, random_state=10)\n",
    "\n",
    "scaler = StandardScaler()\n",
    "X_train_norm = scaler.fit_transform(X_train)"
   ],
   "outputs": [],
   "metadata": {}
  },
  {
   "cell_type": "code",
   "execution_count": 27,
   "source": [
    "regr = MLPRegressor(random_state=10, max_iter=30, hidden_layer_sizes=(256, 32), \n",
    "                    verbose=True, early_stopping=True, n_iter_no_change=10).fit(X_train_norm, y_train)\n",
    "\n",
    "regr.score(scaler.transform(X_test), y_test)"
   ],
   "outputs": [
    {
     "output_type": "stream",
     "name": "stdout",
     "text": [
      "Iteration 1, loss = 0.00316194\n",
      "Validation score: 0.722403\n",
      "Iteration 2, loss = 0.00225024\n",
      "Validation score: 0.770253\n",
      "Iteration 3, loss = 0.00203678\n",
      "Validation score: 0.775885\n",
      "Iteration 4, loss = 0.00190592\n",
      "Validation score: 0.803995\n",
      "Iteration 5, loss = 0.00182232\n",
      "Validation score: 0.795145\n",
      "Iteration 6, loss = 0.00173025\n",
      "Validation score: 0.815003\n",
      "Iteration 7, loss = 0.00167437\n",
      "Validation score: 0.823580\n",
      "Iteration 8, loss = 0.00161848\n",
      "Validation score: 0.833437\n",
      "Iteration 9, loss = 0.00157605\n",
      "Validation score: 0.847137\n",
      "Iteration 10, loss = 0.00153821\n",
      "Validation score: 0.841063\n",
      "Iteration 11, loss = 0.00151086\n",
      "Validation score: 0.838207\n",
      "Iteration 12, loss = 0.00148582\n",
      "Validation score: 0.849488\n",
      "Iteration 13, loss = 0.00145137\n",
      "Validation score: 0.850682\n",
      "Iteration 14, loss = 0.00142890\n",
      "Validation score: 0.857245\n",
      "Iteration 15, loss = 0.00141052\n",
      "Validation score: 0.849049\n",
      "Iteration 16, loss = 0.00137840\n",
      "Validation score: 0.850833\n",
      "Iteration 17, loss = 0.00136663\n",
      "Validation score: 0.851874\n",
      "Iteration 18, loss = 0.00135609\n",
      "Validation score: 0.852866\n",
      "Iteration 19, loss = 0.00135172\n",
      "Validation score: 0.861162\n",
      "Iteration 20, loss = 0.00132917\n",
      "Validation score: 0.863734\n",
      "Iteration 21, loss = 0.00131522\n",
      "Validation score: 0.869612\n",
      "Iteration 22, loss = 0.00130980\n",
      "Validation score: 0.870441\n",
      "Iteration 23, loss = 0.00129206\n",
      "Validation score: 0.873579\n",
      "Iteration 24, loss = 0.00126501\n",
      "Validation score: 0.873015\n",
      "Iteration 25, loss = 0.00126503\n",
      "Validation score: 0.870855\n",
      "Iteration 26, loss = 0.00125133\n",
      "Validation score: 0.863147\n",
      "Iteration 27, loss = 0.00124268\n",
      "Validation score: 0.869013\n",
      "Iteration 28, loss = 0.00123496\n",
      "Validation score: 0.874747\n",
      "Iteration 29, loss = 0.00122516\n",
      "Validation score: 0.877044\n",
      "Iteration 30, loss = 0.00121385\n",
      "Validation score: 0.870818\n"
     ]
    },
    {
     "output_type": "stream",
     "name": "stderr",
     "text": [
      "/home/andrewt/miniconda3/envs/vesai/lib/python3.8/site-packages/sklearn/neural_network/_multilayer_perceptron.py:692: ConvergenceWarning: Stochastic Optimizer: Maximum iterations (30) reached and the optimization hasn't converged yet.\n",
      "  warnings.warn(\n"
     ]
    },
    {
     "output_type": "execute_result",
     "data": {
      "text/plain": [
       "0.8751391294555212"
      ]
     },
     "metadata": {},
     "execution_count": 27
    }
   ],
   "metadata": {
    "scrolled": true,
    "tags": []
   }
  },
  {
   "cell_type": "code",
   "execution_count": 28,
   "source": [
    "from sklearn.metrics import mean_absolute_error, mean_squared_error\n",
    "\n",
    "cri_pred = pd.Series(regr.predict(scaler.transform(X_test))).clip(0,1).values\n",
    "print(f'MAE: {mean_absolute_error(y_test, cri_pred)}')\n",
    "print(f'RMSE: {mean_squared_error(y_test, cri_pred, squared=False)}')"
   ],
   "outputs": [
    {
     "output_type": "stream",
     "name": "stdout",
     "text": [
      "MAE: 0.016516879851758048\n",
      "RMSE: 0.047241267822664565\n"
     ]
    }
   ],
   "metadata": {}
  },
  {
   "cell_type": "code",
   "execution_count": 29,
   "source": [
    "from joblib import dump, load\n",
    "dump(regr, './data/vcra-1w-mlp-hidden_256_32-with_both_lengths.joblib') \n",
    "dump(scaler, './data/vcra-1w-mlp-hidden_256_32-with_both_lengths.scaler.joblib') "
   ],
   "outputs": [
    {
     "output_type": "execute_result",
     "data": {
      "text/plain": [
       "['./data/vcra-1w-mlp-hidden_256_32-parkj-with_both_lengths.scaler.joblib']"
      ]
     },
     "metadata": {},
     "execution_count": 29
    }
   ],
   "metadata": {}
  },
  {
   "cell_type": "code",
   "execution_count": 57,
   "source": [
    "from joblib import dump, load\n",
    "regr = load('./data/vcra-1w-mlp-hidden_256_32-with_both_lengths.joblib') \n",
    "scaler = load('./data/vcra-1w-mlp-hidden_256_32-with_both_lengths.scaler.joblib')"
   ],
   "outputs": [],
   "metadata": {}
  },
  {
   "cell_type": "code",
   "execution_count": 30,
   "source": [
    "%%timeit\n",
    "nne.calc_cri_timeslice(gdf_min_slice, model=regr, model_fun=nne.calc_cri_ours_with_both_length, model_norm=scaler)"
   ],
   "outputs": [
    {
     "output_type": "stream",
     "name": "stdout",
     "text": [
      "192 ms ± 17.5 ms per loop (mean ± std. dev. of 7 runs, 1 loop each)\n"
     ]
    }
   ],
   "metadata": {}
  },
  {
   "cell_type": "code",
   "execution_count": 31,
   "source": [
    "%%timeit\n",
    "nne.calc_cri_timeslice(gdf_median_slice, model=regr, model_fun=nne.calc_cri_ours_with_both_length, model_norm=scaler)"
   ],
   "outputs": [
    {
     "output_type": "stream",
     "name": "stdout",
     "text": [
      "332 ms ± 11.7 ms per loop (mean ± std. dev. of 7 runs, 1 loop each)\n"
     ]
    }
   ],
   "metadata": {}
  },
  {
   "cell_type": "code",
   "execution_count": 32,
   "source": [
    "%%timeit\n",
    "nne.calc_cri_timeslice(gdf_max_slice, model=regr, model_fun=nne.calc_cri_ours_with_both_length, model_norm=scaler)"
   ],
   "outputs": [
    {
     "output_type": "stream",
     "name": "stdout",
     "text": [
      "638 ms ± 25.5 ms per loop (mean ± std. dev. of 7 runs, 1 loop each)\n"
     ]
    }
   ],
   "metadata": {}
  },
  {
   "cell_type": "code",
   "execution_count": null,
   "source": [],
   "outputs": [],
   "metadata": {}
  },
  {
   "cell_type": "markdown",
   "source": [
    "## Training an MLP (via sklearn) -- Prototype (with no lengths)"
   ],
   "metadata": {}
  },
  {
   "cell_type": "code",
   "execution_count": 33,
   "source": [
    "X = mlp_input[['dist_euclid', 'own_speed', 'target_speed', 'own_course', 'target_course']].values\n",
    "y = mlp_input[['cri']].values.ravel()\n",
    "\n",
    "X_train, X_test, y_train, y_test = train_test_split(X, y, test_size=0.2, random_state=10)\n",
    "\n",
    "scaler = StandardScaler()\n",
    "X_train_norm = scaler.fit_transform(X_train)"
   ],
   "outputs": [],
   "metadata": {}
  },
  {
   "cell_type": "code",
   "execution_count": 34,
   "source": [
    "regr = MLPRegressor(random_state=10, max_iter=30, hidden_layer_sizes=(256, 32), \n",
    "                    verbose=True, early_stopping=True, n_iter_no_change=10).fit(X_train_norm, y_train)\n",
    "\n",
    "regr.score(scaler.transform(X_test), y_test)"
   ],
   "outputs": [
    {
     "output_type": "stream",
     "name": "stdout",
     "text": [
      "Iteration 1, loss = 0.00345780\n",
      "Validation score: 0.714228\n",
      "Iteration 2, loss = 0.00242119\n",
      "Validation score: 0.757267\n",
      "Iteration 3, loss = 0.00215228\n",
      "Validation score: 0.798292\n",
      "Iteration 4, loss = 0.00200535\n",
      "Validation score: 0.799119\n",
      "Iteration 5, loss = 0.00192372\n",
      "Validation score: 0.797878\n",
      "Iteration 6, loss = 0.00184796\n",
      "Validation score: 0.811603\n",
      "Iteration 7, loss = 0.00178147\n",
      "Validation score: 0.805503\n",
      "Iteration 8, loss = 0.00173805\n",
      "Validation score: 0.815237\n",
      "Iteration 9, loss = 0.00169157\n",
      "Validation score: 0.825584\n",
      "Iteration 10, loss = 0.00164824\n",
      "Validation score: 0.839588\n",
      "Iteration 11, loss = 0.00161789\n",
      "Validation score: 0.846263\n",
      "Iteration 12, loss = 0.00158159\n",
      "Validation score: 0.828276\n",
      "Iteration 13, loss = 0.00155130\n",
      "Validation score: 0.837340\n",
      "Iteration 14, loss = 0.00153501\n",
      "Validation score: 0.848942\n",
      "Iteration 15, loss = 0.00150642\n",
      "Validation score: 0.858031\n",
      "Iteration 16, loss = 0.00148796\n",
      "Validation score: 0.837824\n",
      "Iteration 17, loss = 0.00146462\n",
      "Validation score: 0.852195\n",
      "Iteration 18, loss = 0.00144631\n",
      "Validation score: 0.856742\n",
      "Iteration 19, loss = 0.00143016\n",
      "Validation score: 0.855457\n",
      "Iteration 20, loss = 0.00141743\n",
      "Validation score: 0.867406\n",
      "Iteration 21, loss = 0.00140786\n",
      "Validation score: 0.864218\n",
      "Iteration 22, loss = 0.00138713\n",
      "Validation score: 0.861433\n",
      "Iteration 23, loss = 0.00137903\n",
      "Validation score: 0.863528\n",
      "Iteration 24, loss = 0.00136752\n",
      "Validation score: 0.870701\n",
      "Iteration 25, loss = 0.00136504\n",
      "Validation score: 0.873457\n",
      "Iteration 26, loss = 0.00134923\n",
      "Validation score: 0.868502\n",
      "Iteration 27, loss = 0.00133216\n",
      "Validation score: 0.877858\n",
      "Iteration 28, loss = 0.00132186\n",
      "Validation score: 0.873849\n",
      "Iteration 29, loss = 0.00132109\n",
      "Validation score: 0.866946\n",
      "Iteration 30, loss = 0.00130968\n",
      "Validation score: 0.852438\n"
     ]
    },
    {
     "output_type": "stream",
     "name": "stderr",
     "text": [
      "/home/andrewt/miniconda3/envs/vesai/lib/python3.8/site-packages/sklearn/neural_network/_multilayer_perceptron.py:692: ConvergenceWarning: Stochastic Optimizer: Maximum iterations (30) reached and the optimization hasn't converged yet.\n",
      "  warnings.warn(\n"
     ]
    },
    {
     "output_type": "execute_result",
     "data": {
      "text/plain": [
       "0.8720737809964392"
      ]
     },
     "metadata": {},
     "execution_count": 34
    }
   ],
   "metadata": {
    "scrolled": true,
    "tags": []
   }
  },
  {
   "cell_type": "code",
   "execution_count": 35,
   "source": [
    "from sklearn.metrics import mean_absolute_error, mean_squared_error\n",
    "\n",
    "cri_pred = pd.Series(regr.predict(scaler.transform(X_test))).clip(0,1).values\n",
    "print(f'MAE: {mean_absolute_error(y_test, cri_pred)}')\n",
    "print(f'RMSE: {mean_squared_error(y_test, cri_pred, squared=False)}')"
   ],
   "outputs": [
    {
     "output_type": "stream",
     "name": "stdout",
     "text": [
      "MAE: 0.018860911530933527\n",
      "RMSE: 0.04783611511719697\n"
     ]
    }
   ],
   "metadata": {}
  },
  {
   "cell_type": "code",
   "execution_count": 36,
   "source": [
    "from joblib import dump, load\n",
    "dump(regr, './data/vcra-1w-mlp-hidden_256_32-with_no_lengths.joblib') \n",
    "dump(scaler, './data/vcra-1w-mlp-hidden_256_32-with_no_lengths.scaler.joblib') "
   ],
   "outputs": [
    {
     "output_type": "execute_result",
     "data": {
      "text/plain": [
       "['./data/vcra-1w-mlp-hidden_256_32-parkj-with_no_lengths.scaler.joblib']"
      ]
     },
     "metadata": {},
     "execution_count": 36
    }
   ],
   "metadata": {}
  },
  {
   "cell_type": "code",
   "execution_count": 61,
   "source": [
    "from joblib import dump, load\n",
    "regr = load('./data/vcra-1w-mlp-hidden_256_32-with_no_lengths.joblib') \n",
    "scaler = load('./data/vcra-1w-mlp-hidden_256_32-with_no_lengths.scaler.joblib')"
   ],
   "outputs": [],
   "metadata": {}
  },
  {
   "cell_type": "code",
   "execution_count": 37,
   "source": [
    "%%timeit\n",
    "nne.calc_cri_timeslice(gdf_min_slice, model=regr, model_fun=nne.calc_cri_ours_with_no_length, model_norm=scaler)"
   ],
   "outputs": [
    {
     "output_type": "stream",
     "name": "stdout",
     "text": [
      "197 ms ± 22.3 ms per loop (mean ± std. dev. of 7 runs, 1 loop each)\n"
     ]
    }
   ],
   "metadata": {}
  },
  {
   "cell_type": "code",
   "execution_count": 38,
   "source": [
    "%%timeit\n",
    "nne.calc_cri_timeslice(gdf_median_slice, model=regr, model_fun=nne.calc_cri_ours_with_no_length, model_norm=scaler)"
   ],
   "outputs": [
    {
     "output_type": "stream",
     "name": "stdout",
     "text": [
      "369 ms ± 22.6 ms per loop (mean ± std. dev. of 7 runs, 1 loop each)\n"
     ]
    }
   ],
   "metadata": {}
  },
  {
   "cell_type": "code",
   "execution_count": 39,
   "source": [
    "%%timeit\n",
    "nne.calc_cri_timeslice(gdf_max_slice, model=regr, model_fun=nne.calc_cri_ours_with_no_length, model_norm=scaler)"
   ],
   "outputs": [
    {
     "output_type": "stream",
     "name": "stdout",
     "text": [
      "695 ms ± 22.9 ms per loop (mean ± std. dev. of 7 runs, 1 loop each)\n"
     ]
    }
   ],
   "metadata": {}
  },
  {
   "cell_type": "code",
   "execution_count": null,
   "source": [],
   "outputs": [],
   "metadata": {}
  }
 ],
 "metadata": {
  "interpreter": {
   "hash": "26a0fb21edfd8898ccaa2d3be90ad05e47a6ebc73217c056c6f09f953e946973"
  },
  "kernelspec": {
   "name": "python3",
   "display_name": "Python 3.8.12 64-bit ('vesai': conda)"
  },
  "language_info": {
   "codemirror_mode": {
    "name": "ipython",
    "version": 3
   },
   "file_extension": ".py",
   "mimetype": "text/x-python",
   "name": "python",
   "nbconvert_exporter": "python",
   "pygments_lexer": "ipython3",
   "version": "3.8.12"
  }
 },
 "nbformat": 4,
 "nbformat_minor": 4
}
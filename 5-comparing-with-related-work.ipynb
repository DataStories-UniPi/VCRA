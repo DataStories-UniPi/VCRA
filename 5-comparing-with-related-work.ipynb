{
 "cells": [
  {
   "cell_type": "code",
   "execution_count": 1,
   "metadata": {},
   "outputs": [],
   "source": [
    "import numpy as np\n",
    "import pandas as pd\n",
    "import geopandas as gpd\n",
    "\n",
    "import sys, os\n",
    "import sklearn\n",
    "import datetime\n",
    "\n",
    "import importlib\n",
    "from tqdm import tqdm"
   ]
  },
  {
   "cell_type": "code",
   "execution_count": 42,
   "metadata": {
    "tags": []
   },
   "outputs": [
    {
     "data": {
      "text/plain": [
       "<module 'nn_evaluation' from '/Users/andrewt/Documents/Univ. Piraeus Research Center/VCRA/nn_evaluation.py'>"
      ]
     },
     "execution_count": 42,
     "metadata": {},
     "output_type": "execute_result"
    }
   ],
   "source": [
    "import st_toolkit as geohl\n",
    "importlib.reload(geohl);\n",
    "\n",
    "import cri_calc as cri\n",
    "importlib.reload(cri)\n",
    "\n",
    "import cri_helper as helper\n",
    "importlib.reload(helper)\n",
    "\n",
    "import nn_evaluation as nne\n",
    "importlib.reload(nne)"
   ]
  },
  {
   "cell_type": "code",
   "execution_count": null,
   "metadata": {},
   "outputs": [],
   "source": []
  },
  {
   "cell_type": "code",
   "execution_count": 3,
   "metadata": {},
   "outputs": [],
   "source": [
    "def calculate_cri_timeslice(df):\n",
    "    timeslice_result = []\n",
    "    \n",
    "    for row_i in df.itertuples():\n",
    "        for row_j in df.itertuples():\n",
    "            if row_i.Index == row_j.Index:\n",
    "                continue\n",
    "                \n",
    "            timeslice_result.append([row_i.Index, row_i.mmsi, row_i.geom, row_i.speed, row_i.course, \n",
    "                                     row_j.Index, row_j.mmsi, row_j.geom, row_j.speed, row_j.course, *nne.calculate_cri(row_i, row_j)])\n",
    "            \n",
    "#     return pd.DataFrame(timeslice_result, columns=['own', 'target', 'dcpa', 'tcpa', 'hr', 'rel_movement_angle', 'dist_euclid', 'speed_r', 'cri'])\n",
    "    return pd.DataFrame(timeslice_result, columns=['own_Index', 'own_mmsi', 'own_geom', 'own_speed', 'own_course',\n",
    "                                                   'target_Index', 'target_mmsi', 'target_geom', 'target_speed', 'target_course', \n",
    "                                                   'dcpa', 'tcpa', 'hr', 'rel_movement_angle', 'dist_euclid', 'speed_r', 'cri'])"
   ]
  },
  {
   "cell_type": "code",
   "execution_count": null,
   "metadata": {},
   "outputs": [],
   "source": []
  },
  {
   "cell_type": "markdown",
   "metadata": {},
   "source": [
    "# Loading and Preparing CRI Dataset"
   ]
  },
  {
   "cell_type": "code",
   "execution_count": 6,
   "metadata": {},
   "outputs": [
    {
     "name": "stderr",
     "output_type": "stream",
     "text": [
      "/Users/andrewt/miniforge3/envs/vesai/lib/python3.9/site-packages/pandas/core/dtypes/cast.py:122: ShapelyDeprecationWarning: The array interface is deprecated and will no longer work in Shapely 2.0. Convert the '.coords' to a numpy array instead.\n",
      "  arr = construct_1d_object_array_from_listlike(values)\n"
     ]
    }
   ],
   "source": [
    "df = pd.read_csv('./data/unipi_ais_dynamic_jul2018_1w_algn_linear_v2_w_lens.csv', parse_dates=['datetime'])\n",
    "gdf = geohl.getGeoDataFrame_v2(df, crs='epsg:4326')\n",
    "\n",
    "gdf2 = gdf.loc[gdf.datetime.dt.date.between(datetime.date(2018, 7, 3), datetime.date(2018, 7, 3), inclusive='both')].copy()"
   ]
  },
  {
   "cell_type": "code",
   "execution_count": 7,
   "metadata": {},
   "outputs": [],
   "source": [
    "gdf_sub_moving = gdf2.loc[gdf2.speed.between(1, 50, inclusive='neither')].copy()\n",
    "gdf_vcra = pd.read_pickle('./data/unipi_ais_dynamic_jul2018_1w_vcra_dataset_v3.pickle')"
   ]
  },
  {
   "cell_type": "code",
   "execution_count": 8,
   "metadata": {},
   "outputs": [
    {
     "name": "stderr",
     "output_type": "stream",
     "text": [
      "Adding Vessels' Length...: 100%|█████| 960268/960268 [00:36<00:00, 26657.63it/s]\n",
      "Adding Vessels' Length...: 100%|█████| 960268/960268 [00:35<00:00, 26846.05it/s]\n"
     ]
    }
   ],
   "source": [
    "tqdm.pandas(desc='Adding Vessels\\' Length...')\n",
    "\n",
    "# gdf_vcra.loc[:, 'own_length'] = gdf_vcra.own_Index.apply(lambda l: gdf_sub_moving[l].length)\n",
    "mlp_input = gdf_vcra.loc[gdf_vcra.own_Index.isin(gdf_sub_moving.index.values)].copy()\n",
    "mlp_input.loc[:, 'own_length'] = mlp_input.own_Index.progress_apply(lambda l: gdf_sub_moving.loc[l].length)\n",
    "mlp_input.loc[:, 'target_length'] = mlp_input.target_Index.progress_apply(lambda l: gdf_sub_moving.loc[l].length)\n",
    "mlp_input.loc[:, 'cri_bin'] = pd.cut(mlp_input.cri, bins=np.arange(0, 1.1, .1), right=False,)"
   ]
  },
  {
   "cell_type": "code",
   "execution_count": null,
   "metadata": {},
   "outputs": [],
   "source": []
  },
  {
   "cell_type": "markdown",
   "metadata": {
    "tags": []
   },
   "source": [
    "# Get a Reference Timeslice (for latency test)"
   ]
  },
  {
   "cell_type": "code",
   "execution_count": 9,
   "metadata": {},
   "outputs": [],
   "source": [
    "grouped = gdf_sub_moving.groupby(['datetime'])\n",
    "l = grouped.get_group((list(grouped.groups)[0]))"
   ]
  },
  {
   "cell_type": "code",
   "execution_count": null,
   "metadata": {},
   "outputs": [],
   "source": []
  },
  {
   "cell_type": "markdown",
   "metadata": {
    "tags": []
   },
   "source": [
    "# Evaluating EQ model timeliness"
   ]
  },
  {
   "cell_type": "code",
   "execution_count": 21,
   "metadata": {},
   "outputs": [
    {
     "name": "stdout",
     "output_type": "stream",
     "text": [
      "162 ms ± 2.45 ms per loop (mean ± std. dev. of 7 runs, 1 loop each)\n"
     ]
    }
   ],
   "source": [
    "%%timeit \n",
    "nne.calc_cri_timeslice(l.copy(), model=None, model_fun=nne.calculate_cri, model_norm=None);"
   ]
  },
  {
   "cell_type": "code",
   "execution_count": null,
   "metadata": {},
   "outputs": [],
   "source": []
  },
  {
   "cell_type": "markdown",
   "metadata": {
    "tags": []
   },
   "source": [
    "# Evaluating MLP-VCRA model (ours)"
   ]
  },
  {
   "cell_type": "markdown",
   "metadata": {},
   "source": [
    "## Test using SVM/RVM dataset"
   ]
  },
  {
   "cell_type": "code",
   "execution_count": 1,
   "metadata": {},
   "outputs": [],
   "source": [
    "from sklearn.metrics import mean_absolute_error, mean_squared_error\n",
    "from sklearn.model_selection import train_test_split\n",
    "from sklearn.preprocessing import StandardScaler\n",
    "\n",
    "from sklearn.neural_network import MLPRegressor"
   ]
  },
  {
   "cell_type": "code",
   "execution_count": 48,
   "metadata": {
    "scrolled": true,
    "tags": []
   },
   "outputs": [
    {
     "name": "stdout",
     "output_type": "stream",
     "text": [
      "Iteration 1, loss = 0.01571137\n",
      "Validation score: 0.191967\n",
      "Iteration 2, loss = 0.00621171\n",
      "Validation score: 0.298432\n",
      "Iteration 3, loss = 0.00552288\n",
      "Validation score: 0.336398\n",
      "Iteration 4, loss = 0.00520527\n",
      "Validation score: 0.386984\n",
      "Iteration 5, loss = 0.00480917\n",
      "Validation score: 0.398021\n",
      "Iteration 6, loss = 0.00468020\n",
      "Validation score: 0.444602\n",
      "Iteration 7, loss = 0.00443829\n",
      "Validation score: 0.443115\n",
      "Iteration 8, loss = 0.00428625\n",
      "Validation score: 0.430787\n",
      "Iteration 9, loss = 0.00414758\n",
      "Validation score: 0.505157\n",
      "Iteration 10, loss = 0.00399364\n",
      "Validation score: 0.498719\n",
      "Iteration 11, loss = 0.00384677\n",
      "Validation score: 0.508539\n",
      "Iteration 12, loss = 0.00375856\n",
      "Validation score: 0.545464\n",
      "Iteration 13, loss = 0.00361395\n",
      "Validation score: 0.538888\n",
      "Iteration 14, loss = 0.00361620\n",
      "Validation score: 0.530537\n",
      "Iteration 15, loss = 0.00355355\n",
      "Validation score: 0.569620\n",
      "Iteration 16, loss = 0.00337693\n",
      "Validation score: 0.568613\n",
      "Iteration 17, loss = 0.00339709\n",
      "Validation score: 0.569194\n",
      "Iteration 18, loss = 0.00326466\n",
      "Validation score: 0.602085\n",
      "Iteration 19, loss = 0.00326808\n",
      "Validation score: 0.598734\n",
      "Iteration 20, loss = 0.00324875\n",
      "Validation score: 0.594763\n",
      "Iteration 21, loss = 0.00314061\n",
      "Validation score: 0.619924\n",
      "Iteration 22, loss = 0.00309492\n",
      "Validation score: 0.597299\n",
      "Iteration 23, loss = 0.00309935\n",
      "Validation score: 0.614565\n",
      "Iteration 24, loss = 0.00297722\n",
      "Validation score: 0.637156\n",
      "Iteration 25, loss = 0.00292284\n",
      "Validation score: 0.631473\n",
      "Iteration 26, loss = 0.00296132\n",
      "Validation score: 0.632815\n",
      "Iteration 27, loss = 0.00290876\n",
      "Validation score: 0.560132\n",
      "Iteration 28, loss = 0.00291388\n",
      "Validation score: 0.625601\n",
      "Iteration 29, loss = 0.00283839\n",
      "Validation score: 0.647587\n",
      "Iteration 30, loss = 0.00284091\n",
      "Validation score: 0.627626\n"
     ]
    },
    {
     "name": "stderr",
     "output_type": "stream",
     "text": [
      "/Users/andrewt/miniforge3/envs/vesai/lib/python3.9/site-packages/sklearn/neural_network/_multilayer_perceptron.py:692: ConvergenceWarning: Stochastic Optimizer: Maximum iterations (30) reached and the optimization hasn't converged yet.\n",
      "  warnings.warn(\n"
     ]
    },
    {
     "data": {
      "text/plain": [
       "0.6629508950420933"
      ]
     },
     "execution_count": 48,
     "metadata": {},
     "output_type": "execute_result"
    }
   ],
   "source": [
    "X = mlp_input[['dist_euclid', 'own_speed', 'target_speed', 'own_course', 'target_course', 'own_length']].values\n",
    "y = mlp_input[['cri']].values.ravel()\n",
    "\n",
    "X_train, X_test, y_train, y_test = train_test_split(X, y, train_size=0.017, random_state=10, stratify=mlp_input['cri_bin'])\n",
    "\n",
    "scaler = StandardScaler()\n",
    "X_train_norm = scaler.fit_transform(X_train)\n",
    "\n",
    "regr = MLPRegressor(random_state=10, max_iter=30, hidden_layer_sizes=(256, 32), \n",
    "                    verbose=True, early_stopping=True, n_iter_no_change=10).fit(X_train_norm, y_train)\n",
    "\n",
    "regr.score(scaler.transform(X_test), y_test)"
   ]
  },
  {
   "cell_type": "code",
   "execution_count": 49,
   "metadata": {},
   "outputs": [
    {
     "name": "stdout",
     "output_type": "stream",
     "text": [
      "MAE: 0.03186096400767304\n",
      "RMSE: 0.07716292280800398\n"
     ]
    }
   ],
   "source": [
    "cri_pred = pd.Series(regr.predict(scaler.transform(X_test))).clip(0,1).values\n",
    "print(f'MAE: {mean_absolute_error(y_test, cri_pred)}')\n",
    "print(f'RMSE: {mean_squared_error(y_test, cri_pred, squared=False)}')"
   ]
  },
  {
   "cell_type": "code",
   "execution_count": 50,
   "metadata": {},
   "outputs": [
    {
     "data": {
      "text/plain": [
       "['./data/vcra-1w-mlp-hidden_256_32-ours-2pct.scaler.joblib']"
      ]
     },
     "execution_count": 50,
     "metadata": {},
     "output_type": "execute_result"
    }
   ],
   "source": [
    "from joblib import dump, load\n",
    "dump(regr, './data/vcra-1w-mlp-hidden_256_32-ours-2pct.model.joblib') \n",
    "dump(scaler, './data/vcra-1w-mlp-hidden_256_32-ours-2pct.scaler.joblib') "
   ]
  },
  {
   "cell_type": "code",
   "execution_count": null,
   "metadata": {},
   "outputs": [],
   "source": []
  },
  {
   "cell_type": "markdown",
   "metadata": {
    "tags": []
   },
   "source": [
    "# Compare with Park et al."
   ]
  },
  {
   "cell_type": "code",
   "execution_count": 22,
   "metadata": {},
   "outputs": [],
   "source": [
    "from sklearn.metrics import mean_absolute_error, mean_squared_error\n",
    "from sklearn.model_selection import train_test_split\n",
    "from sklearn.preprocessing import StandardScaler\n",
    "\n",
    "from skrvm import RVR"
   ]
  },
  {
   "cell_type": "code",
   "execution_count": 23,
   "metadata": {},
   "outputs": [],
   "source": [
    "X = mlp_input[['dist_euclid', 'hr', 'own_speed', 'target_speed', 'own_course', 'target_course', 'own_length', 'target_length']].copy()\n",
    "X = X.values\n",
    "y = mlp_input[['cri']].values.ravel()\n",
    "\n",
    "X_train, X_test, y_train, y_test = train_test_split(X, y, train_size=0.017, random_state=10, stratify=mlp_input['cri_bin'])"
   ]
  },
  {
   "cell_type": "code",
   "execution_count": 24,
   "metadata": {},
   "outputs": [
    {
     "data": {
      "text/plain": [
       "16324"
      ]
     },
     "execution_count": 24,
     "metadata": {},
     "output_type": "execute_result"
    }
   ],
   "source": [
    "len(X_train)"
   ]
  },
  {
   "cell_type": "code",
   "execution_count": 25,
   "metadata": {},
   "outputs": [
    {
     "data": {
      "text/plain": [
       "0.635123842733207"
      ]
     },
     "execution_count": 25,
     "metadata": {},
     "output_type": "execute_result"
    }
   ],
   "source": [
    "scaler = StandardScaler()\n",
    "X_train_norm = scaler.fit_transform(X_train)\n",
    "\n",
    "clf = RVR(kernel='rbf', verbose=False, n_iter=100)\n",
    "clf.fit(X_train_norm.astype(float), y_train.astype(float))\n",
    "clf.score(scaler.transform(X_test), y_test)"
   ]
  },
  {
   "cell_type": "code",
   "execution_count": 26,
   "metadata": {},
   "outputs": [
    {
     "name": "stdout",
     "output_type": "stream",
     "text": [
      "MAE: 0.03514679944133218\n",
      "RMSE: 0.07917119646326023\n"
     ]
    }
   ],
   "source": [
    "cri_pred_rvm = pd.Series(clf.predict(scaler.transform(X_test))).clip(0,1).values\n",
    "print(f'MAE: {mean_absolute_error(y_test, cri_pred_rvm)}')\n",
    "print(f'RMSE: {mean_squared_error(y_test, cri_pred_rvm, squared=False)}')"
   ]
  },
  {
   "cell_type": "code",
   "execution_count": 27,
   "metadata": {},
   "outputs": [
    {
     "data": {
      "text/plain": [
       "['./data/park-et-al-rvm-vcra-v2.scaler.joblib']"
      ]
     },
     "execution_count": 27,
     "metadata": {},
     "output_type": "execute_result"
    }
   ],
   "source": [
    "from joblib import dump, load\n",
    "dump(clf, './data/park-et-al-rvm-vcra-v2.model.joblib') \n",
    "dump(scaler, './data/park-et-al-rvm-vcra-v2.scaler.joblib') "
   ]
  },
  {
   "cell_type": "code",
   "execution_count": null,
   "metadata": {},
   "outputs": [],
   "source": []
  },
  {
   "cell_type": "markdown",
   "metadata": {},
   "source": [
    "## Park et al. Timeliness"
   ]
  },
  {
   "cell_type": "code",
   "execution_count": 29,
   "metadata": {},
   "outputs": [
    {
     "name": "stdout",
     "output_type": "stream",
     "text": [
      "169 ms ± 3.04 ms per loop (mean ± std. dev. of 7 runs, 1 loop each)\n"
     ]
    }
   ],
   "source": [
    "%%timeit \n",
    "nne.calc_cri_timeslice(l.copy(), model=clf, model_fun=nne.calc_cri_park_etal, model_norm=scaler);"
   ]
  },
  {
   "cell_type": "code",
   "execution_count": null,
   "metadata": {},
   "outputs": [],
   "source": []
  },
  {
   "cell_type": "markdown",
   "metadata": {
    "tags": []
   },
   "source": [
    "# Compare with Li et al."
   ]
  },
  {
   "cell_type": "code",
   "execution_count": 30,
   "metadata": {},
   "outputs": [],
   "source": [
    "from sklearn.neural_network import MLPRegressor\n",
    "from sklearn.preprocessing import MinMaxScaler"
   ]
  },
  {
   "cell_type": "code",
   "execution_count": 31,
   "metadata": {
    "scrolled": true,
    "tags": []
   },
   "outputs": [
    {
     "name": "stdout",
     "output_type": "stream",
     "text": [
      "Iteration 1, loss = 0.00791338\n",
      "Validation score: 0.289756\n",
      "Iteration 2, loss = 0.00616347\n",
      "Validation score: 0.329453\n",
      "Iteration 3, loss = 0.00584422\n",
      "Validation score: 0.369999\n",
      "Iteration 4, loss = 0.00550792\n",
      "Validation score: 0.397080\n",
      "Iteration 5, loss = 0.00532400\n",
      "Validation score: 0.411601\n",
      "Iteration 6, loss = 0.00522921\n",
      "Validation score: 0.418708\n",
      "Iteration 7, loss = 0.00515596\n",
      "Validation score: 0.416603\n",
      "Iteration 8, loss = 0.00510707\n",
      "Validation score: 0.431201\n",
      "Iteration 9, loss = 0.00507506\n",
      "Validation score: 0.438309\n",
      "Iteration 10, loss = 0.00504696\n",
      "Validation score: 0.438351\n",
      "Iteration 11, loss = 0.00501688\n",
      "Validation score: 0.441701\n",
      "Iteration 12, loss = 0.00494798\n",
      "Validation score: 0.448401\n",
      "Iteration 13, loss = 0.00491284\n",
      "Validation score: 0.452802\n",
      "Iteration 14, loss = 0.00488934\n",
      "Validation score: 0.459039\n",
      "Iteration 15, loss = 0.00487009\n",
      "Validation score: 0.461232\n",
      "Iteration 16, loss = 0.00485283\n",
      "Validation score: 0.455573\n",
      "Iteration 17, loss = 0.00483746\n",
      "Validation score: 0.460634\n",
      "Iteration 18, loss = 0.00482197\n",
      "Validation score: 0.457951\n",
      "Iteration 19, loss = 0.00482058\n",
      "Validation score: 0.461748\n",
      "Iteration 20, loss = 0.00480811\n",
      "Validation score: 0.465167\n",
      "Iteration 21, loss = 0.00479801\n",
      "Validation score: 0.464254\n",
      "Iteration 22, loss = 0.00478711\n",
      "Validation score: 0.461687\n",
      "Iteration 23, loss = 0.00478131\n",
      "Validation score: 0.470939\n",
      "Iteration 24, loss = 0.00477502\n",
      "Validation score: 0.470332\n",
      "Iteration 25, loss = 0.00477286\n",
      "Validation score: 0.466892\n",
      "Iteration 26, loss = 0.00476405\n",
      "Validation score: 0.471851\n",
      "Iteration 27, loss = 0.00475326\n",
      "Validation score: 0.469958\n",
      "Iteration 28, loss = 0.00474526\n",
      "Validation score: 0.461607\n",
      "Iteration 29, loss = 0.00473284\n",
      "Validation score: 0.472521\n",
      "Iteration 30, loss = 0.00472339\n",
      "Validation score: 0.474927\n",
      "Iteration 31, loss = 0.00470782\n",
      "Validation score: 0.445908\n",
      "Iteration 32, loss = 0.00470897\n",
      "Validation score: 0.472442\n",
      "Iteration 33, loss = 0.00470315\n",
      "Validation score: 0.470559\n",
      "Iteration 34, loss = 0.00470228\n",
      "Validation score: 0.477396\n",
      "Iteration 35, loss = 0.00469465\n",
      "Validation score: 0.469223\n",
      "Iteration 36, loss = 0.00469366\n",
      "Validation score: 0.477022\n",
      "Iteration 37, loss = 0.00469354\n",
      "Validation score: 0.480456\n",
      "Iteration 38, loss = 0.00468676\n",
      "Validation score: 0.478372\n",
      "Iteration 39, loss = 0.00468978\n",
      "Validation score: 0.478109\n",
      "Iteration 40, loss = 0.00468242\n",
      "Validation score: 0.479371\n",
      "Iteration 41, loss = 0.00467692\n",
      "Validation score: 0.478631\n",
      "Iteration 42, loss = 0.00467646\n",
      "Validation score: 0.474990\n",
      "Iteration 43, loss = 0.00467537\n",
      "Validation score: 0.459283\n",
      "Iteration 44, loss = 0.00467617\n",
      "Validation score: 0.481515\n",
      "Iteration 45, loss = 0.00466827\n",
      "Validation score: 0.477205\n",
      "Iteration 46, loss = 0.00466952\n",
      "Validation score: 0.463560\n",
      "Iteration 47, loss = 0.00466522\n",
      "Validation score: 0.478338\n",
      "Iteration 48, loss = 0.00465964\n",
      "Validation score: 0.481145\n",
      "Iteration 49, loss = 0.00465814\n",
      "Validation score: 0.472293\n",
      "Iteration 50, loss = 0.00465742\n",
      "Validation score: 0.480864\n",
      "Iteration 51, loss = 0.00464741\n",
      "Validation score: 0.481000\n",
      "Iteration 52, loss = 0.00463279\n",
      "Validation score: 0.486755\n",
      "Iteration 53, loss = 0.00460938\n",
      "Validation score: 0.489145\n",
      "Iteration 54, loss = 0.00460024\n",
      "Validation score: 0.487476\n",
      "Iteration 55, loss = 0.00459566\n",
      "Validation score: 0.487789\n",
      "Iteration 56, loss = 0.00458444\n",
      "Validation score: 0.488609\n",
      "Iteration 57, loss = 0.00458532\n",
      "Validation score: 0.475536\n",
      "Iteration 58, loss = 0.00458005\n",
      "Validation score: 0.488809\n",
      "Iteration 59, loss = 0.00457867\n",
      "Validation score: 0.489967\n",
      "Iteration 60, loss = 0.00457239\n",
      "Validation score: 0.490359\n",
      "Iteration 61, loss = 0.00456681\n",
      "Validation score: 0.482876\n",
      "Iteration 62, loss = 0.00456643\n",
      "Validation score: 0.493899\n",
      "Iteration 63, loss = 0.00456279\n",
      "Validation score: 0.494494\n",
      "Iteration 64, loss = 0.00455053\n",
      "Validation score: 0.494806\n",
      "Iteration 65, loss = 0.00455325\n",
      "Validation score: 0.494543\n",
      "Iteration 66, loss = 0.00454790\n",
      "Validation score: 0.493879\n",
      "Iteration 67, loss = 0.00453850\n",
      "Validation score: 0.492408\n",
      "Iteration 68, loss = 0.00452986\n",
      "Validation score: 0.468474\n",
      "Iteration 69, loss = 0.00452477\n",
      "Validation score: 0.487938\n",
      "Iteration 70, loss = 0.00451496\n",
      "Validation score: 0.483404\n",
      "Iteration 71, loss = 0.00450360\n",
      "Validation score: 0.502719\n",
      "Iteration 72, loss = 0.00449326\n",
      "Validation score: 0.500133\n",
      "Iteration 73, loss = 0.00448368\n",
      "Validation score: 0.502452\n",
      "Iteration 74, loss = 0.00447970\n",
      "Validation score: 0.499744\n",
      "Iteration 75, loss = 0.00447711\n",
      "Validation score: 0.502729\n",
      "Iteration 76, loss = 0.00447528\n",
      "Validation score: 0.504018\n",
      "Iteration 77, loss = 0.00446994\n",
      "Validation score: 0.493438\n",
      "Iteration 78, loss = 0.00446194\n",
      "Validation score: 0.491854\n",
      "Iteration 79, loss = 0.00445809\n",
      "Validation score: 0.503547\n",
      "Iteration 80, loss = 0.00445439\n",
      "Validation score: 0.506011\n",
      "Iteration 81, loss = 0.00444452\n",
      "Validation score: 0.494049\n",
      "Iteration 82, loss = 0.00443437\n",
      "Validation score: 0.500806\n",
      "Iteration 83, loss = 0.00442645\n",
      "Validation score: 0.507185\n",
      "Iteration 84, loss = 0.00442363\n",
      "Validation score: 0.496440\n",
      "Iteration 85, loss = 0.00441724\n",
      "Validation score: 0.501107\n",
      "Iteration 86, loss = 0.00441748\n",
      "Validation score: 0.510977\n",
      "Iteration 87, loss = 0.00441393\n",
      "Validation score: 0.510951\n",
      "Iteration 88, loss = 0.00440894\n",
      "Validation score: 0.507532\n",
      "Iteration 89, loss = 0.00440858\n",
      "Validation score: 0.510547\n",
      "Iteration 90, loss = 0.00440682\n",
      "Validation score: 0.508326\n",
      "Iteration 91, loss = 0.00440467\n",
      "Validation score: 0.509767\n",
      "Iteration 92, loss = 0.00440281\n",
      "Validation score: 0.508927\n",
      "Iteration 93, loss = 0.00439810\n",
      "Validation score: 0.505190\n",
      "Iteration 94, loss = 0.00439853\n",
      "Validation score: 0.509629\n",
      "Iteration 95, loss = 0.00439791\n",
      "Validation score: 0.508571\n",
      "Iteration 96, loss = 0.00439726\n",
      "Validation score: 0.491409\n",
      "Iteration 97, loss = 0.00439365\n",
      "Validation score: 0.501953\n",
      "Validation score did not improve more than tol=0.000100 for 10 consecutive epochs. Stopping.\n"
     ]
    },
    {
     "data": {
      "text/plain": [
       "0.5171947533150325"
      ]
     },
     "execution_count": 31,
     "metadata": {},
     "output_type": "execute_result"
    }
   ],
   "source": [
    "X = mlp_input[['speed_r', 'hr', 'rel_movement_angle', 'dist_euclid']].values\n",
    "y = mlp_input[['cri']].values.ravel()\n",
    "\n",
    "X_train, X_test, y_train, y_test = train_test_split(X, y, test_size=0.2, random_state=10, stratify=mlp_input['cri_bin'])\n",
    "\n",
    "scaler = MinMaxScaler()\n",
    "X_train_norm = scaler.fit_transform(X_train)\n",
    "\n",
    "regr_li_et_al = MLPRegressor(random_state=10, max_iter=100, hidden_layer_sizes=(54,), \n",
    "                    verbose=True, early_stopping=True, n_iter_no_change=10).fit(X_train_norm, y_train)\n",
    "\n",
    "regr_li_et_al.score(scaler.transform(X_test), y_test)"
   ]
  },
  {
   "cell_type": "code",
   "execution_count": 32,
   "metadata": {},
   "outputs": [
    {
     "name": "stdout",
     "output_type": "stream",
     "text": [
      "MAE: 0.04783689860808581\n",
      "RMSE: 0.09278284485653365\n"
     ]
    }
   ],
   "source": [
    "cri_pred_mlp_li = pd.Series(regr_li_et_al.predict(scaler.transform(X_test))).clip(0,1).values\n",
    "print(f'MAE: {mean_absolute_error(y_test, cri_pred_mlp_li)}')\n",
    "print(f'RMSE: {mean_squared_error(y_test, cri_pred_mlp_li, squared=False)}')"
   ]
  },
  {
   "cell_type": "code",
   "execution_count": 33,
   "metadata": {},
   "outputs": [
    {
     "data": {
      "text/plain": [
       "['./data/li-et-al-mlp-vcra-v2.scaler.joblib']"
      ]
     },
     "execution_count": 33,
     "metadata": {},
     "output_type": "execute_result"
    }
   ],
   "source": [
    "from joblib import dump, load\n",
    "# dump(regr, './data/vcra-1w-mlp-hidden_128_32_8-parkj.joblib') \n",
    "dump(regr_li_et_al, './data/li-et-al-mlp-vcra-v2.model.joblib') \n",
    "dump(scaler, './data/li-et-al-mlp-vcra-v2.scaler.joblib') "
   ]
  },
  {
   "cell_type": "markdown",
   "metadata": {},
   "source": [
    "## Test using SVM/RVM dataset"
   ]
  },
  {
   "cell_type": "code",
   "execution_count": 44,
   "metadata": {
    "scrolled": true,
    "tags": []
   },
   "outputs": [
    {
     "name": "stdout",
     "output_type": "stream",
     "text": [
      "Iteration 1, loss = 0.03670743\n",
      "Validation score: -0.198026\n",
      "Iteration 2, loss = 0.00991136\n",
      "Validation score: -0.034789\n",
      "Iteration 3, loss = 0.00903537\n",
      "Validation score: 0.021141\n",
      "Iteration 4, loss = 0.00864098\n",
      "Validation score: 0.053188\n",
      "Iteration 5, loss = 0.00842942\n",
      "Validation score: 0.070614\n",
      "Iteration 6, loss = 0.00829841\n",
      "Validation score: 0.083399\n",
      "Iteration 7, loss = 0.00819203\n",
      "Validation score: 0.094093\n",
      "Iteration 8, loss = 0.00810336\n",
      "Validation score: 0.101888\n",
      "Iteration 9, loss = 0.00800304\n",
      "Validation score: 0.113588\n",
      "Iteration 10, loss = 0.00792374\n",
      "Validation score: 0.121288\n",
      "Iteration 11, loss = 0.00785772\n",
      "Validation score: 0.131031\n",
      "Iteration 12, loss = 0.00778681\n",
      "Validation score: 0.137307\n",
      "Iteration 13, loss = 0.00773310\n",
      "Validation score: 0.144982\n",
      "Iteration 14, loss = 0.00766418\n",
      "Validation score: 0.153377\n",
      "Iteration 15, loss = 0.00758715\n",
      "Validation score: 0.162641\n",
      "Iteration 16, loss = 0.00750363\n",
      "Validation score: 0.173731\n",
      "Iteration 17, loss = 0.00743754\n",
      "Validation score: 0.181046\n",
      "Iteration 18, loss = 0.00737514\n",
      "Validation score: 0.189295\n",
      "Iteration 19, loss = 0.00731048\n",
      "Validation score: 0.193951\n",
      "Iteration 20, loss = 0.00726579\n",
      "Validation score: 0.201366\n",
      "Iteration 21, loss = 0.00720751\n",
      "Validation score: 0.208029\n",
      "Iteration 22, loss = 0.00717659\n",
      "Validation score: 0.212958\n",
      "Iteration 23, loss = 0.00712883\n",
      "Validation score: 0.217274\n",
      "Iteration 24, loss = 0.00708238\n",
      "Validation score: 0.223302\n",
      "Iteration 25, loss = 0.00703938\n",
      "Validation score: 0.225335\n",
      "Iteration 26, loss = 0.00698521\n",
      "Validation score: 0.228770\n",
      "Iteration 27, loss = 0.00695314\n",
      "Validation score: 0.236644\n",
      "Iteration 28, loss = 0.00692560\n",
      "Validation score: 0.242440\n",
      "Iteration 29, loss = 0.00687073\n",
      "Validation score: 0.246977\n",
      "Iteration 30, loss = 0.00682353\n",
      "Validation score: 0.252611\n",
      "Iteration 31, loss = 0.00679471\n",
      "Validation score: 0.253363\n",
      "Iteration 32, loss = 0.00674115\n",
      "Validation score: 0.260184\n",
      "Iteration 33, loss = 0.00669272\n",
      "Validation score: 0.265738\n",
      "Iteration 34, loss = 0.00665764\n",
      "Validation score: 0.272611\n",
      "Iteration 35, loss = 0.00661849\n",
      "Validation score: 0.274114\n",
      "Iteration 36, loss = 0.00657471\n",
      "Validation score: 0.278680\n",
      "Iteration 37, loss = 0.00655705\n",
      "Validation score: 0.284844\n",
      "Iteration 38, loss = 0.00649000\n",
      "Validation score: 0.292933\n",
      "Iteration 39, loss = 0.00645981\n",
      "Validation score: 0.292985\n",
      "Iteration 40, loss = 0.00643701\n",
      "Validation score: 0.299466\n",
      "Iteration 41, loss = 0.00636944\n",
      "Validation score: 0.306241\n",
      "Iteration 42, loss = 0.00633820\n",
      "Validation score: 0.311629\n",
      "Iteration 43, loss = 0.00631132\n",
      "Validation score: 0.313212\n",
      "Iteration 44, loss = 0.00625635\n",
      "Validation score: 0.319645\n",
      "Iteration 45, loss = 0.00623260\n",
      "Validation score: 0.323810\n",
      "Iteration 46, loss = 0.00618403\n",
      "Validation score: 0.315467\n",
      "Iteration 47, loss = 0.00619486\n",
      "Validation score: 0.332978\n",
      "Iteration 48, loss = 0.00614368\n",
      "Validation score: 0.335574\n",
      "Iteration 49, loss = 0.00611845\n",
      "Validation score: 0.331038\n",
      "Iteration 50, loss = 0.00608371\n",
      "Validation score: 0.340338\n",
      "Iteration 51, loss = 0.00606868\n",
      "Validation score: 0.346440\n",
      "Iteration 52, loss = 0.00601856\n",
      "Validation score: 0.338897\n",
      "Iteration 53, loss = 0.00602124\n",
      "Validation score: 0.344549\n",
      "Iteration 54, loss = 0.00598116\n",
      "Validation score: 0.348450\n",
      "Iteration 55, loss = 0.00596811\n",
      "Validation score: 0.354917\n",
      "Iteration 56, loss = 0.00595313\n",
      "Validation score: 0.356863\n",
      "Iteration 57, loss = 0.00592536\n",
      "Validation score: 0.358771\n",
      "Iteration 58, loss = 0.00590843\n",
      "Validation score: 0.366324\n",
      "Iteration 59, loss = 0.00587420\n",
      "Validation score: 0.359061\n",
      "Iteration 60, loss = 0.00586001\n",
      "Validation score: 0.364994\n",
      "Iteration 61, loss = 0.00584564\n",
      "Validation score: 0.364784\n",
      "Iteration 62, loss = 0.00584983\n",
      "Validation score: 0.377967\n",
      "Iteration 63, loss = 0.00584364\n",
      "Validation score: 0.357205\n",
      "Iteration 64, loss = 0.00581802\n",
      "Validation score: 0.380948\n",
      "Iteration 65, loss = 0.00578318\n",
      "Validation score: 0.381036\n",
      "Iteration 66, loss = 0.00577186\n",
      "Validation score: 0.380355\n",
      "Iteration 67, loss = 0.00575441\n",
      "Validation score: 0.374333\n",
      "Iteration 68, loss = 0.00575611\n",
      "Validation score: 0.389377\n",
      "Iteration 69, loss = 0.00572219\n",
      "Validation score: 0.386083\n",
      "Iteration 70, loss = 0.00572647\n",
      "Validation score: 0.392823\n",
      "Iteration 71, loss = 0.00569403\n",
      "Validation score: 0.394471\n",
      "Iteration 72, loss = 0.00569085\n",
      "Validation score: 0.393839\n",
      "Iteration 73, loss = 0.00565596\n",
      "Validation score: 0.392172\n",
      "Iteration 74, loss = 0.00569520\n",
      "Validation score: 0.398224\n",
      "Iteration 75, loss = 0.00565115\n",
      "Validation score: 0.382329\n",
      "Iteration 76, loss = 0.00565830\n",
      "Validation score: 0.386843\n",
      "Iteration 77, loss = 0.00565677\n",
      "Validation score: 0.400490\n",
      "Iteration 78, loss = 0.00562784\n",
      "Validation score: 0.401752\n",
      "Iteration 79, loss = 0.00563653\n",
      "Validation score: 0.397073\n",
      "Iteration 80, loss = 0.00561598\n",
      "Validation score: 0.404565\n",
      "Iteration 81, loss = 0.00560922\n",
      "Validation score: 0.404632\n",
      "Iteration 82, loss = 0.00561193\n",
      "Validation score: 0.404875\n",
      "Iteration 83, loss = 0.00559466\n",
      "Validation score: 0.407433\n",
      "Iteration 84, loss = 0.00558657\n",
      "Validation score: 0.407881\n",
      "Iteration 85, loss = 0.00556787\n",
      "Validation score: 0.407392\n",
      "Iteration 86, loss = 0.00555708\n",
      "Validation score: 0.410505\n",
      "Iteration 87, loss = 0.00555678\n",
      "Validation score: 0.407980\n",
      "Iteration 88, loss = 0.00554356\n",
      "Validation score: 0.409451\n",
      "Iteration 89, loss = 0.00554080\n",
      "Validation score: 0.409908\n",
      "Iteration 90, loss = 0.00552463\n",
      "Validation score: 0.413206\n",
      "Iteration 91, loss = 0.00550903\n",
      "Validation score: 0.405896\n",
      "Iteration 92, loss = 0.00553638\n",
      "Validation score: 0.406068\n",
      "Iteration 93, loss = 0.00550139\n",
      "Validation score: 0.412736\n",
      "Iteration 94, loss = 0.00548258\n",
      "Validation score: 0.415560\n",
      "Iteration 95, loss = 0.00547398\n",
      "Validation score: 0.422261\n",
      "Iteration 96, loss = 0.00549400\n",
      "Validation score: 0.414682\n",
      "Iteration 97, loss = 0.00547091\n",
      "Validation score: 0.419625\n",
      "Iteration 98, loss = 0.00545549\n",
      "Validation score: 0.421871\n",
      "Iteration 99, loss = 0.00544007\n",
      "Validation score: 0.422977\n",
      "Iteration 100, loss = 0.00543651\n",
      "Validation score: 0.416339\n"
     ]
    },
    {
     "name": "stderr",
     "output_type": "stream",
     "text": [
      "/Users/andrewt/miniforge3/envs/vesai/lib/python3.9/site-packages/sklearn/neural_network/_multilayer_perceptron.py:692: ConvergenceWarning: Stochastic Optimizer: Maximum iterations (100) reached and the optimization hasn't converged yet.\n",
      "  warnings.warn(\n"
     ]
    },
    {
     "data": {
      "text/plain": [
       "0.37438923300147486"
      ]
     },
     "execution_count": 44,
     "metadata": {},
     "output_type": "execute_result"
    }
   ],
   "source": [
    "X = mlp_input[['speed_r', 'hr', 'rel_movement_angle', 'dist_euclid']].values\n",
    "y = mlp_input[['cri']].values.ravel()\n",
    "\n",
    "X_train, X_test, y_train, y_test = train_test_split(X, y, train_size=0.017, random_state=10, stratify=mlp_input['cri_bin'])\n",
    "\n",
    "scaler = MinMaxScaler()\n",
    "X_train_norm = scaler.fit_transform(X_train)\n",
    "\n",
    "regr_li_et_al = MLPRegressor(random_state=10, max_iter=100, hidden_layer_sizes=(54,), \n",
    "                    verbose=True, early_stopping=True, n_iter_no_change=10).fit(X_train_norm, y_train)\n",
    "\n",
    "regr_li_et_al.score(scaler.transform(X_test), y_test)"
   ]
  },
  {
   "cell_type": "code",
   "execution_count": 46,
   "metadata": {},
   "outputs": [
    {
     "name": "stdout",
     "output_type": "stream",
     "text": [
      "MAE: 0.057214222051195696\n",
      "RMSE: 0.10584798562451508\n"
     ]
    }
   ],
   "source": [
    "cri_pred_mlp_li = pd.Series(regr_li_et_al.predict(scaler.transform(X_test))).clip(0,1).values\n",
    "print(f'MAE: {mean_absolute_error(y_test, cri_pred_mlp_li)}')\n",
    "print(f'RMSE: {mean_squared_error(y_test, cri_pred_mlp_li, squared=False)}')"
   ]
  },
  {
   "cell_type": "code",
   "execution_count": 47,
   "metadata": {},
   "outputs": [
    {
     "data": {
      "text/plain": [
       "['./data/li-et-al-mlp-vcra-v2-20pct.scaler.joblib']"
      ]
     },
     "execution_count": 47,
     "metadata": {},
     "output_type": "execute_result"
    }
   ],
   "source": [
    "from joblib import dump, load\n",
    "# dump(regr, './data/vcra-1w-mlp-hidden_128_32_8-parkj.joblib') \n",
    "dump(regr_li_et_al, './data/li-et-al-mlp-vcra-v2-2pct.model.joblib') \n",
    "dump(scaler, './data/li-et-al-mlp-vcra-v2-20pct.scaler.joblib') "
   ]
  },
  {
   "cell_type": "markdown",
   "metadata": {},
   "source": [
    "## Li et al. Timeliness"
   ]
  },
  {
   "cell_type": "code",
   "execution_count": 35,
   "metadata": {},
   "outputs": [
    {
     "name": "stdout",
     "output_type": "stream",
     "text": [
      "167 ms ± 3.11 ms per loop (mean ± std. dev. of 7 runs, 1 loop each)\n"
     ]
    }
   ],
   "source": [
    "%%timeit \n",
    "nne.calc_cri_timeslice(l.copy(), model=regr_li_et_al, model_fun=nne.calc_cri_li_etal, model_norm=scaler);"
   ]
  },
  {
   "cell_type": "code",
   "execution_count": null,
   "metadata": {},
   "outputs": [],
   "source": []
  },
  {
   "cell_type": "markdown",
   "metadata": {
    "tags": []
   },
   "source": [
    "# Compare with Gang et al."
   ]
  },
  {
   "cell_type": "code",
   "execution_count": 36,
   "metadata": {},
   "outputs": [],
   "source": [
    "from sklearn.svm import SVR\n",
    "from sklearn.metrics import mean_absolute_error, mean_squared_error"
   ]
  },
  {
   "cell_type": "code",
   "execution_count": 37,
   "metadata": {},
   "outputs": [],
   "source": [
    "X = mlp_input[['own_course', 'target_course', 'own_speed', 'target_speed', 'hr', 'dist_euclid']].copy()\n",
    "X = X.values\n",
    "y = mlp_input[['cri']].values.ravel()\n",
    "\n",
    "X_train, X_test, y_train, y_test = train_test_split(X, y, train_size=0.017, random_state=10, stratify=mlp_input['cri_bin'])"
   ]
  },
  {
   "cell_type": "code",
   "execution_count": 38,
   "metadata": {},
   "outputs": [
    {
     "data": {
      "text/plain": [
       "16324"
      ]
     },
     "execution_count": 38,
     "metadata": {},
     "output_type": "execute_result"
    }
   ],
   "source": [
    "len(X_train)"
   ]
  },
  {
   "cell_type": "code",
   "execution_count": 39,
   "metadata": {},
   "outputs": [
    {
     "name": "stdout",
     "output_type": "stream",
     "text": [
      "[LibSVM]....\n",
      "Warning: using -h 0 may be faster\n",
      "*....\n",
      "Warning: using -h 0 may be faster\n",
      "*.\n",
      "Warning: using -h 0 may be faster\n",
      "*\n",
      "optimization finished, #iter = 8625\n",
      "obj = -238.470603, rho = -0.163853\n",
      "nSV = 1738, nBSV = 1517\n"
     ]
    },
    {
     "data": {
      "text/plain": [
       "0.3959955678603929"
      ]
     },
     "execution_count": 39,
     "metadata": {},
     "output_type": "execute_result"
    }
   ],
   "source": [
    "scaler = StandardScaler()\n",
    "X_train_norm = scaler.fit_transform(X_train)\n",
    "X_test_norm = scaler.transform(X_test)\n",
    "\n",
    "regr_gang_et_al = SVR(verbose=True).fit(X_train_norm, y_train)\n",
    "regr_gang_et_al.score(X_test_norm, y_test)"
   ]
  },
  {
   "cell_type": "code",
   "execution_count": 40,
   "metadata": {},
   "outputs": [
    {
     "name": "stdout",
     "output_type": "stream",
     "text": [
      "MAE: 0.06328110434071546\n",
      "RMSE: 0.10319976901667206\n"
     ]
    }
   ],
   "source": [
    "cri_pred_svm_gang = pd.Series(regr_gang_et_al.predict(X_test_norm)).clip(0,1).values\n",
    "print(f'MAE: {mean_absolute_error(y_test, cri_pred_svm_gang)}')\n",
    "print(f'RMSE: {mean_squared_error(y_test, cri_pred_svm_gang, squared=False)}')"
   ]
  },
  {
   "cell_type": "code",
   "execution_count": 41,
   "metadata": {},
   "outputs": [
    {
     "data": {
      "text/plain": [
       "['./data/gang-et-al-svm-vcra-v2.scaler.joblib']"
      ]
     },
     "execution_count": 41,
     "metadata": {},
     "output_type": "execute_result"
    }
   ],
   "source": [
    "from joblib import dump, load\n",
    "# dump(regr, './data/vcra-1w-mlp-hidden_128_32_8-parkj.joblib') \n",
    "dump(regr_gang_et_al, './data/gang-et-al-svm-vcra-v2.model.joblib') \n",
    "dump(scaler, './data/gang-et-al-svm-vcra-v2.scaler.joblib') "
   ]
  },
  {
   "cell_type": "code",
   "execution_count": null,
   "metadata": {},
   "outputs": [],
   "source": []
  },
  {
   "cell_type": "markdown",
   "metadata": {},
   "source": [
    "## Gang et al. Timeliness"
   ]
  },
  {
   "cell_type": "code",
   "execution_count": 43,
   "metadata": {},
   "outputs": [
    {
     "name": "stdout",
     "output_type": "stream",
     "text": [
      "179 ms ± 5.34 ms per loop (mean ± std. dev. of 7 runs, 10 loops each)\n"
     ]
    }
   ],
   "source": [
    "%%timeit \n",
    "nne.calc_cri_timeslice(l.copy(), model=regr_gang_et_al, model_fun=nne.calc_cri_gang_etal, model_norm=scaler);"
   ]
  },
  {
   "cell_type": "code",
   "execution_count": null,
   "metadata": {},
   "outputs": [],
   "source": []
  }
 ],
 "metadata": {
  "interpreter": {
   "hash": "26a0fb21edfd8898ccaa2d3be90ad05e47a6ebc73217c056c6f09f953e946973"
  },
  "kernelspec": {
   "display_name": "Python (VesselAI)",
   "language": "python",
   "name": "vesai"
  },
  "language_info": {
   "codemirror_mode": {
    "name": "ipython",
    "version": 3
   },
   "file_extension": ".py",
   "mimetype": "text/x-python",
   "name": "python",
   "nbconvert_exporter": "python",
   "pygments_lexer": "ipython3",
   "version": "3.9.9"
  }
 },
 "nbformat": 4,
 "nbformat_minor": 4
}

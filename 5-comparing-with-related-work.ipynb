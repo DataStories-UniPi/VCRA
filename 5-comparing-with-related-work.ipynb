{
 "cells": [
  {
   "cell_type": "code",
   "execution_count": 1,
   "metadata": {},
   "outputs": [],
   "source": [
    "import numpy as np\n",
    "import pandas as pd\n",
    "import geopandas as gpd\n",
    "\n",
    "import sys, os\n",
    "import sklearn\n",
    "import datetime\n",
    "\n",
    "import importlib\n",
    "from tqdm import tqdm\n",
    "from joblib import Parallel, delayed\n",
    "\n",
    "import matplotlib.pyplot as plt\n",
    "import seaborn as sns"
   ]
  },
  {
   "cell_type": "code",
   "execution_count": 2,
   "metadata": {
    "tags": []
   },
   "outputs": [
    {
     "data": {
      "text/plain": [
       "<module 'nn_evaluation' from '/Users/andrewt/Documents/Univ. Piraeus Research Center/VCRA/nn_evaluation.py'>"
      ]
     },
     "execution_count": 2,
     "metadata": {},
     "output_type": "execute_result"
    }
   ],
   "source": [
    "import cri_calc as cri\n",
    "importlib.reload(cri)\n",
    "\n",
    "import cri_helper as helper\n",
    "importlib.reload(helper)\n",
    "\n",
    "import nn_evaluation as nne\n",
    "importlib.reload(nne)"
   ]
  },
  {
   "cell_type": "code",
   "execution_count": 3,
   "metadata": {},
   "outputs": [],
   "source": [
    "from sklearn.model_selection import StratifiedKFold, train_test_split\n",
    "from sklearn.preprocessing import MinMaxScaler, StandardScaler\n",
    "\n",
    "from sklearn.metrics import mean_absolute_error, mean_squared_error, mean_squared_log_error, mean_absolute_percentage_error\n",
    "from sklearn.pipeline import make_pipeline\n",
    "\n",
    "from sklearn.ensemble import RandomForestRegressor\n",
    "from sklearn_rvm import EMRVR\n",
    "\n",
    "from sklearn.neural_network import MLPRegressor\n",
    "\n",
    "EPS = 1e-2\n",
    "pd.set_option('display.max_columns', None)"
   ]
  },
  {
   "cell_type": "code",
   "execution_count": 4,
   "metadata": {},
   "outputs": [],
   "source": [
    "def evaluate_clf(clf, X, y, train_index, test_index, include_indices=False):\n",
    "    print(f'Training with {len(train_index)} samples; Testing with {len(test_index)} samples')\n",
    "    \n",
    "    # Get Train/Test Sets\n",
    "    X_train, X_test = X.iloc[train_index].values, X.iloc[test_index].values\n",
    "    y_train, y_test = y.iloc[train_index].values, y.iloc[test_index].values\n",
    "\n",
    "    # Train Model on Selected Fold\n",
    "    clf.fit(X_train, y_train)\n",
    "    y_pred = np.clip(clf.predict(X_test), 0, 1)\n",
    "    \n",
    "    # Organize and Return Results\n",
    "    result = dict(\n",
    "        instance = clf,\n",
    "        X_train=X_train,\n",
    "        X_test=X_test,\n",
    "        y_train = y_train,        \n",
    "        y_true = y_test,\n",
    "        y_pred = y_pred,\n",
    "        acc = clf.score(X_test, y_test),\n",
    "        mae = mean_absolute_error(y_test, y_pred),\n",
    "        rmse = mean_squared_error(y_test, y_pred, squared=False),\n",
    "        rmsle = mean_squared_log_error(y_test, y_pred, squared=False),\n",
    "    )\n",
    "        \n",
    "    if include_indices:\n",
    "        result.update({\n",
    "            'train_indices':train_index,\n",
    "            'test_indices':test_index\n",
    "        })\n",
    "        \n",
    "    return result"
   ]
  },
  {
   "cell_type": "code",
   "execution_count": null,
   "metadata": {},
   "outputs": [],
   "source": []
  },
  {
   "cell_type": "markdown",
   "metadata": {},
   "source": [
    "# Loading and Preparing CRI Dataset"
   ]
  },
  {
   "cell_type": "code",
   "execution_count": 5,
   "metadata": {},
   "outputs": [],
   "source": [
    "gdf_vcra = pd.read_pickle('./data/norway-dataset/oslo_jan_mar_2019_4w_prep_encountering.vcra_dataset_v14.pickle')\n",
    "gdf_vcra.loc[:, 'ves_cri_bin'] = pd.cut(\n",
    "    gdf_vcra.ves_cri, \n",
    "    bins=np.arange(0, 1.1, .2),  \n",
    "    right=True, \n",
    "    include_lowest=True\n",
    ")"
   ]
  },
  {
   "cell_type": "code",
   "execution_count": 6,
   "metadata": {},
   "outputs": [
    {
     "data": {
      "image/png": "[encoded data removed]",
      "text/plain": [
       "<Figure size 432x288 with 1 Axes>"
      ]
     },
     "metadata": {
      "needs_background": "light"
     },
     "output_type": "display_data"
    }
   ],
   "source": [
    "ax = gdf_vcra.ves_cri_bin.value_counts(sort=False).plot.bar()\n",
    "ax.set_yscale('log')"
   ]
  },
  {
   "cell_type": "code",
   "execution_count": null,
   "metadata": {},
   "outputs": [],
   "source": []
  },
  {
   "cell_type": "markdown",
   "metadata": {
    "tags": []
   },
   "source": [
    "## Get a Stratified Subset (to ensure a \"fair\" comparison)"
   ]
  },
  {
   "cell_type": "code",
   "execution_count": 7,
   "metadata": {
    "tags": []
   },
   "outputs": [],
   "source": [
    "X, y, y_bin = gdf_vcra.iloc[:, :-2], gdf_vcra.iloc[:, -2], gdf_vcra.iloc[:, -1].astype('str')\n",
    "X_sub, _, y_sub, _, y_bin_sub, _ = train_test_split(X, y, y_bin, train_size=0.35, random_state=10, stratify=y_bin)"
   ]
  },
  {
   "cell_type": "code",
   "execution_count": null,
   "metadata": {},
   "outputs": [],
   "source": []
  },
  {
   "cell_type": "markdown",
   "metadata": {
    "jp-MarkdownHeadingCollapsed": true,
    "tags": []
   },
   "source": [
    "# SVM-VCRA (Gang et al.)"
   ]
  },
  {
   "cell_type": "code",
   "execution_count": null,
   "metadata": {},
   "outputs": [],
   "source": [
    "# svm_vcra_features = ['dist_euclid', 'own_speed', 'target_speed', 'own_course', 'target_course', 'relative_bearing_target_to_own']\n",
    "svm_vcra_features = ['dist_euclid', 'own_speed', 'target_speed', 'own_course_rad', 'target_course_rad', 'relative_bearing_target_to_own']\n",
    "\n",
    "svm_vcra_training_data = X_sub.loc[:, svm_vcra_features].copy()"
   ]
  },
  {
   "cell_type": "code",
   "execution_count": null,
   "metadata": {
    "scrolled": true,
    "tags": []
   },
   "outputs": [],
   "source": [
    "skf = StratifiedKFold(n_splits=5, shuffle=True, random_state=10)\n",
    "clf = make_pipeline(StandardScaler(), SVR(gamma='auto', kernel='rbf', verbose=True))\n",
    "    \n",
    "svm_vcra_skf_results = Parallel(n_jobs=-1)(delayed(evaluate_clf)(\n",
    "    clf, svm_vcra_training_data, y_sub, train_index, test_index\n",
    ") for (train_index, test_index) in tqdm(skf.split(X_sub, y_bin_sub), total=skf.get_n_splits(X_sub, y_bin_sub)))"
   ]
  },
  {
   "cell_type": "code",
   "execution_count": null,
   "metadata": {},
   "outputs": [],
   "source": [
    "svm_vcra_skf_results_df = pd.DataFrame(svm_vcra_skf_results)\n",
    "svm_vcra_skf_results_df"
   ]
  },
  {
   "cell_type": "code",
   "execution_count": null,
   "metadata": {},
   "outputs": [],
   "source": [
    "svm_vcra_skf_results_df.to_pickle('./data/pickle/svm_vcra_skf_results_v14.pickle')"
   ]
  },
  {
   "cell_type": "code",
   "execution_count": null,
   "metadata": {},
   "outputs": [],
   "source": []
  },
  {
   "cell_type": "markdown",
   "metadata": {
    "jp-MarkdownHeadingCollapsed": true,
    "tags": []
   },
   "source": [
    "# RVM-VCRA (Park et al.)"
   ]
  },
  {
   "cell_type": "code",
   "execution_count": null,
   "metadata": {
    "tags": []
   },
   "outputs": [],
   "source": [
    "# rvm_vcra_features = ['dist_euclid', 'own_speed', 'target_speed', 'own_course', 'target_course', 'relative_bearing_target_to_own', 'own_length', 'target_length']\n",
    "rvm_vcra_features = ['dist_euclid', 'own_speed', 'target_speed', 'own_course_rad', 'target_course_rad', 'relative_bearing_target_to_own', 'own_length_nmi', 'target_length_nmi']\n",
    "\n",
    "rvm_vcra_training_data = X_sub.loc[:, rvm_vcra_features].copy()"
   ]
  },
  {
   "cell_type": "code",
   "execution_count": null,
   "metadata": {},
   "outputs": [],
   "source": [
    "skf = StratifiedKFold(n_splits=5, shuffle=True, random_state=10)\n",
    "clf = make_pipeline(StandardScaler(), EMRVR(kernel='rbf', verbose=True))\n",
    "    \n",
    "rvm_vcra_skf_results = Parallel(n_jobs=1)(delayed(evaluate_clf)(\n",
    "    clf, rvm_vcra_training_data, y_sub, train_index, test_index\n",
    ") for (train_index, test_index) in tqdm(skf.split(X_sub, y_bin_sub), total=skf.get_n_splits(X_sub, y_bin_sub)))"
   ]
  },
  {
   "cell_type": "code",
   "execution_count": null,
   "metadata": {},
   "outputs": [],
   "source": [
    "rvm_vcra_skf_results_df = pd.DataFrame(rvm_vcra_skf_results)\n",
    "rvm_vcra_skf_results_df"
   ]
  },
  {
   "cell_type": "code",
   "execution_count": null,
   "metadata": {},
   "outputs": [],
   "source": [
    "rvm_vcra_skf_results_df.to_pickle('./data/pickle/rvm_vcra_skf_results_v14.pickle')"
   ]
  },
  {
   "cell_type": "code",
   "execution_count": null,
   "metadata": {},
   "outputs": [],
   "source": []
  },
  {
   "cell_type": "markdown",
   "metadata": {
    "jp-MarkdownHeadingCollapsed": true,
    "tags": []
   },
   "source": [
    "# CART-VCRA (Li et al.)"
   ]
  },
  {
   "cell_type": "code",
   "execution_count": null,
   "metadata": {},
   "outputs": [],
   "source": [
    "# cart_vcra_features = ['dist_euclid', 'own_speed', 'target_speed', 'own_course', 'target_course', 'azimuth_angle_target_to_own']\n",
    "cart_vcra_features = ['dist_euclid', 'own_speed', 'target_speed', 'own_course_rad', 'target_course_rad', 'azimuth_angle_target_to_own']\n",
    "\n",
    "cart_vcra_training_data = X_sub.loc[:, cart_vcra_features].copy()"
   ]
  },
  {
   "cell_type": "code",
   "execution_count": null,
   "metadata": {
    "scrolled": true,
    "tags": []
   },
   "outputs": [],
   "source": [
    "skf = StratifiedKFold(n_splits=5, shuffle=True, random_state=10)\n",
    "clf = make_pipeline(StandardScaler(), RandomForestRegressor(random_state=10, verbose=True))\n",
    "    \n",
    "cart_vcra_skf_results = Parallel(n_jobs=-1)(delayed(evaluate_clf)(\n",
    "    clf, cart_vcra_training_data, y_sub, train_index, test_index\n",
    ") for (train_index, test_index) in tqdm(skf.split(X_sub, y_bin_sub), total=skf.get_n_splits(X_sub, y_bin_sub)))"
   ]
  },
  {
   "cell_type": "code",
   "execution_count": null,
   "metadata": {},
   "outputs": [],
   "source": [
    "cart_vcra_skf_results_df = pd.DataFrame(cart_vcra_skf_results)\n",
    "cart_vcra_skf_results_df"
   ]
  },
  {
   "cell_type": "code",
   "execution_count": null,
   "metadata": {},
   "outputs": [],
   "source": [
    "cart_vcra_skf_results_df.to_pickle('./data/pickle/cart_vcra_skf_results_v14.pickle')"
   ]
  },
  {
   "cell_type": "code",
   "execution_count": null,
   "metadata": {},
   "outputs": [],
   "source": []
  },
  {
   "cell_type": "markdown",
   "metadata": {
    "jp-MarkdownHeadingCollapsed": true,
    "tags": []
   },
   "source": [
    "# MLP-VCRA (Ours)"
   ]
  },
  {
   "cell_type": "code",
   "execution_count": null,
   "metadata": {},
   "outputs": [],
   "source": [
    "# # mlp_vcra_features = ['own_speed', 'own_course', 'target_speed', 'target_course', 'dist_euclid', 'relative_bearing_target_to_own', 'rel_movement_direction']\n",
    "# mlp_vcra_features = ['own_speed', 'own_course', 'target_speed', 'target_course', 'dist_euclid', 'azimuth_angle_target_to_own', 'rel_movement_direction']\n",
    "mlp_vcra_features = ['own_speed', 'own_course_rad', 'target_speed', 'target_course_rad', 'dist_euclid', 'azimuth_angle_target_to_own', 'rel_movement_direction']\n",
    "\n",
    "mlp_vcra_training_data = X_sub.loc[:, mlp_vcra_features].copy()"
   ]
  },
  {
   "cell_type": "code",
   "execution_count": null,
   "metadata": {
    "scrolled": true,
    "tags": []
   },
   "outputs": [],
   "source": [
    "skf = StratifiedKFold(n_splits=5, shuffle=True, random_state=10)\n",
    "regr = make_pipeline(\n",
    "    StandardScaler(), \n",
    "    MLPRegressor(random_state=10, max_iter=300, hidden_layer_sizes=(256, 32), \n",
    "                 verbose=True, early_stopping=True, n_iter_no_change=7)\n",
    ")\n",
    "\n",
    "mlp_vcra_skf_results = Parallel(n_jobs=-1)(delayed(evaluate_clf)(\n",
    "    regr, mlp_vcra_training_data, y_sub, train_index, test_index\n",
    ") for (train_index, test_index) in tqdm(skf.split(X_sub, y_bin_sub), total=skf.get_n_splits(X_sub, y_bin_sub)))"
   ]
  },
  {
   "cell_type": "code",
   "execution_count": null,
   "metadata": {},
   "outputs": [],
   "source": [
    "mlp_vcra_skf_results_df = pd.DataFrame(mlp_vcra_skf_results)\n",
    "mlp_vcra_skf_results_df"
   ]
  },
  {
   "cell_type": "code",
   "execution_count": null,
   "metadata": {
    "scrolled": true,
    "tags": []
   },
   "outputs": [],
   "source": [
    "mlp_vcra_skf_results_df.to_pickle('./data/pickle/mlp_vcra_skf_results_v14.pickle')"
   ]
  },
  {
   "cell_type": "code",
   "execution_count": null,
   "metadata": {},
   "outputs": [],
   "source": []
  },
  {
   "cell_type": "markdown",
   "metadata": {
    "tags": []
   },
   "source": [
    "# Combining Results to a Unified DataFrame"
   ]
  },
  {
   "cell_type": "code",
   "execution_count": 8,
   "metadata": {},
   "outputs": [],
   "source": [
    "cart_vcra_skf_results_df = pd.read_pickle('./data/pickle/cart_vcra_skf_results_v14.pickle')\n",
    "svm_vcra_skf_results_df = pd.read_pickle('./data/pickle/svm_vcra_skf_results_v14.pickle')\n",
    "rvm_vcra_skf_results_df = pd.read_pickle('./data/pickle/rvm_vcra_skf_results_v14.pickle')\n",
    "mlp_vcra_skf_results_df = pd.read_pickle('./data/pickle/mlp_vcra_skf_results_v14.pickle')\n",
    "\n",
    "skf_results_df = pd.concat({\n",
    "    'cart_vcra': cart_vcra_skf_results_df, \n",
    "    'svm_vcra': svm_vcra_skf_results_df,\n",
    "    'rvm_vcra': rvm_vcra_skf_results_df,\n",
    "    'mlp_vcra': mlp_vcra_skf_results_df\n",
    "}, names=['model'])"
   ]
  },
  {
   "cell_type": "code",
   "execution_count": 9,
   "metadata": {},
   "outputs": [],
   "source": [
    "skf_results_df.loc[:, 'r2_score'] = skf_results_df.apply(lambda l: sklearn.metrics.r2_score(l.y_true, l.y_pred), axis=1)"
   ]
  },
  {
   "cell_type": "code",
   "execution_count": 11,
   "metadata": {},
   "outputs": [
    {
     "data": {
      "text/html": [
       "<div>\n",
       "<style scoped>\n",
       "    .dataframe tbody tr th:only-of-type {\n",
       "        vertical-align: middle;\n",
       "    }\n",
       "\n",
       "    .dataframe tbody tr th {\n",
       "        vertical-align: top;\n",
       "    }\n",
       "\n",
       "    .dataframe thead th {\n",
       "        text-align: right;\n",
       "    }\n",
       "</style>\n",
       "<table border=\"1\" class=\"dataframe\">\n",
       "  <thead>\n",
       "    <tr style=\"text-align: right;\">\n",
       "      <th></th>\n",
       "      <th>acc</th>\n",
       "      <th>mae</th>\n",
       "      <th>rmse</th>\n",
       "      <th>rmsle</th>\n",
       "      <th>r2_score</th>\n",
       "    </tr>\n",
       "    <tr>\n",
       "      <th>model</th>\n",
       "      <th></th>\n",
       "      <th></th>\n",
       "      <th></th>\n",
       "      <th></th>\n",
       "      <th></th>\n",
       "    </tr>\n",
       "  </thead>\n",
       "  <tbody>\n",
       "    <tr>\n",
       "      <th>cart_vcra</th>\n",
       "      <td>0.851717</td>\n",
       "      <td>0.039487</td>\n",
       "      <td>0.116528</td>\n",
       "      <td>0.085264</td>\n",
       "      <td>0.851717</td>\n",
       "    </tr>\n",
       "    <tr>\n",
       "      <th>svm_vcra</th>\n",
       "      <td>0.568810</td>\n",
       "      <td>0.119438</td>\n",
       "      <td>0.196918</td>\n",
       "      <td>0.145188</td>\n",
       "      <td>0.576567</td>\n",
       "    </tr>\n",
       "    <tr>\n",
       "      <th>rvm_vcra</th>\n",
       "      <td>0.572970</td>\n",
       "      <td>0.127159</td>\n",
       "      <td>0.193644</td>\n",
       "      <td>0.137909</td>\n",
       "      <td>0.590550</td>\n",
       "    </tr>\n",
       "    <tr>\n",
       "      <th>mlp_vcra</th>\n",
       "      <td>0.959264</td>\n",
       "      <td>0.024619</td>\n",
       "      <td>0.060669</td>\n",
       "      <td>0.043949</td>\n",
       "      <td>0.959734</td>\n",
       "    </tr>\n",
       "  </tbody>\n",
       "</table>\n",
       "</div>"
      ],
      "text/plain": [
       "                acc       mae      rmse     rmsle  r2_score\n",
       "model                                                      \n",
       "cart_vcra  0.851717  0.039487  0.116528  0.085264  0.851717\n",
       "svm_vcra   0.568810  0.119438  0.196918  0.145188  0.576567\n",
       "rvm_vcra   0.572970  0.127159  0.193644  0.137909  0.590550\n",
       "mlp_vcra   0.959264  0.024619  0.060669  0.043949  0.959734"
      ]
     },
     "execution_count": 11,
     "metadata": {},
     "output_type": "execute_result"
    }
   ],
   "source": [
    "skf_results_df.groupby(level=0, sort=False).mean(numeric_only=True)"
   ]
  },
  {
   "cell_type": "code",
   "execution_count": 12,
   "metadata": {},
   "outputs": [],
   "source": [
    "skf_results_df.to_pickle('./data/pickle/vcra_skf_results_df_v14.pickle')"
   ]
  },
  {
   "cell_type": "code",
   "execution_count": null,
   "metadata": {},
   "outputs": [],
   "source": []
  },
  {
   "attachments": {},
   "cell_type": "markdown",
   "metadata": {
    "tags": []
   },
   "source": [
    "# Li et. al vs. VCRA/F @ Full Dataset\n",
    "## Load Data"
   ]
  },
  {
   "cell_type": "code",
   "execution_count": 7,
   "metadata": {},
   "outputs": [],
   "source": [
    "## Split to Train/Test set (to ensure a \"fair\" comparison)\n",
    "X, y, y_bin = gdf_vcra.iloc[:, :-2], gdf_vcra.iloc[:, -2], gdf_vcra.iloc[:, -1].astype('str')"
   ]
  },
  {
   "cell_type": "code",
   "execution_count": null,
   "metadata": {},
   "outputs": [],
   "source": []
  },
  {
   "attachments": {},
   "cell_type": "markdown",
   "metadata": {},
   "source": [
    "## Li et al."
   ]
  },
  {
   "cell_type": "code",
   "execution_count": 8,
   "metadata": {},
   "outputs": [],
   "source": [
    "# cart_vcra_features = ['dist_euclid', 'own_speed', 'target_speed', 'own_course', 'target_course', 'azimuth_angle_target_to_own']\n",
    "cart_vcra_features = ['dist_euclid', 'own_speed', 'target_speed', 'own_course_rad', 'target_course_rad', 'azimuth_angle_target_to_own']\n",
    "\n",
    "cart_vcra_training_data = X.loc[:, cart_vcra_features].copy()"
   ]
  },
  {
   "cell_type": "code",
   "execution_count": null,
   "metadata": {},
   "outputs": [],
   "source": [
    "skf = StratifiedKFold(n_splits=5, shuffle=True, random_state=10)\n",
    "cart_vcra_lietal = make_pipeline(StandardScaler(), RandomForestRegressor(random_state=10, verbose=True))\n",
    "    \n",
    "cart_vcra_skf_results = Parallel(n_jobs=-1)(delayed((evaluate_clf))(\n",
    "    cart_vcra_lietal, cart_vcra_training_data, y, train_index, test_index, include_indices=True\n",
    ") for (train_index, test_index) in tqdm(skf.split(X, y_bin), total=skf.get_n_splits(X, y_bin)))\n",
    "\n",
    "cart_vcra_skf_results_df = pd.DataFrame(cart_vcra_skf_results)\n",
    "cart_vcra_skf_results_df"
   ]
  },
  {
   "cell_type": "code",
   "execution_count": 10,
   "metadata": {},
   "outputs": [],
   "source": [
    "cart_vcra_skf_results_df.to_pickle('./data/pickle/cart_vcra_skf_results_v14.trained_on_all_data.pickle')"
   ]
  },
  {
   "cell_type": "code",
   "execution_count": null,
   "metadata": {},
   "outputs": [],
   "source": []
  },
  {
   "attachments": {},
   "cell_type": "markdown",
   "metadata": {},
   "source": [
    "## VCRA/F"
   ]
  },
  {
   "cell_type": "code",
   "execution_count": 11,
   "metadata": {},
   "outputs": [],
   "source": [
    "## mlp_vcra_features = ['own_speed', 'own_course', 'target_speed', 'target_course', 'dist_euclid', 'relative_bearing_target_to_own', 'rel_movement_direction']\n",
    "# mlp_vcra_features = ['own_speed', 'own_course', 'target_speed', 'target_course', 'dist_euclid', 'azimuth_angle_target_to_own', 'rel_movement_direction']\n",
    "mlp_vcra_features = ['own_speed', 'own_course_rad', 'target_speed', 'target_course_rad', 'dist_euclid', 'azimuth_angle_target_to_own', 'rel_movement_direction']\n",
    "\n",
    "mlp_vcra_training_data = X.loc[:, mlp_vcra_features].copy()"
   ]
  },
  {
   "cell_type": "code",
   "execution_count": null,
   "metadata": {},
   "outputs": [],
   "source": [
    "skf = StratifiedKFold(n_splits=5, shuffle=True, random_state=10)\n",
    "mlp_vcra_ours = make_pipeline(\n",
    "    StandardScaler(), \n",
    "    MLPRegressor(random_state=10, max_iter=100, hidden_layer_sizes=(256, 32), \n",
    "                 verbose=True, early_stopping=True, n_iter_no_change=10)\n",
    ")\n",
    "\n",
    "mlp_vcra_skf_results = Parallel(n_jobs=-1)(delayed(evaluate_clf)(\n",
    "    mlp_vcra_ours, mlp_vcra_training_data, y, train_index, test_index, include_indices=True\n",
    ") for (train_index, test_index) in tqdm(skf.split(X, y_bin), total=skf.get_n_splits(X, y_bin)))\n",
    "\n",
    "mlp_vcra_skf_results_df = pd.DataFrame(mlp_vcra_skf_results)\n",
    "mlp_vcra_skf_results_df"
   ]
  },
  {
   "cell_type": "code",
   "execution_count": null,
   "metadata": {
    "scrolled": true,
    "tags": []
   },
   "outputs": [],
   "source": [
    "mlp_vcra_skf_results_df.to_pickle('./data/pickle/mlp_vcra_skf_results_v14.trained_on_all_data.pickle')"
   ]
  },
  {
   "cell_type": "code",
   "execution_count": null,
   "metadata": {},
   "outputs": [],
   "source": []
  },
  {
   "cell_type": "markdown",
   "metadata": {},
   "source": [
    "## Combining Results to a Unified DataFrame"
   ]
  },
  {
   "cell_type": "code",
   "execution_count": 14,
   "metadata": {},
   "outputs": [],
   "source": [
    "cart_vcra_skf_results_df = pd.read_pickle('./data/pickle/cart_vcra_skf_results_v14.trained_on_all_data.pickle')\n",
    "mlp_vcra_skf_results_df = pd.read_pickle('./data/pickle/mlp_vcra_skf_results_v14.trained_on_all_data.pickle')\n",
    "\n",
    "skf_results_df = pd.concat({\n",
    "    'cart_vcra': cart_vcra_skf_results_df, \n",
    "    'mlp_vcra': mlp_vcra_skf_results_df\n",
    "}, names=['model'])"
   ]
  },
  {
   "cell_type": "code",
   "execution_count": 15,
   "metadata": {},
   "outputs": [],
   "source": [
    "skf_results_df.loc[:, 'r2_score'] = skf_results_df.apply(lambda l: sklearn.metrics.r2_score(l.y_true, l.y_pred), axis=1)"
   ]
  },
  {
   "cell_type": "code",
   "execution_count": 17,
   "metadata": {
    "scrolled": true,
    "tags": []
   },
   "outputs": [],
   "source": [
    "skf_results_df.to_pickle('./data/pickle/vcra_skf_results_df.cart_vs_mlp.trained_on_all_data.pickle')"
   ]
  },
  {
   "cell_type": "code",
   "execution_count": null,
   "metadata": {},
   "outputs": [],
   "source": []
  },
  {
   "cell_type": "code",
   "execution_count": 16,
   "metadata": {},
   "outputs": [
    {
     "data": {
      "text/html": [
       "<div>\n",
       "<style scoped>\n",
       "    .dataframe tbody tr th:only-of-type {\n",
       "        vertical-align: middle;\n",
       "    }\n",
       "\n",
       "    .dataframe tbody tr th {\n",
       "        vertical-align: top;\n",
       "    }\n",
       "\n",
       "    .dataframe thead th {\n",
       "        text-align: right;\n",
       "    }\n",
       "</style>\n",
       "<table border=\"1\" class=\"dataframe\">\n",
       "  <thead>\n",
       "    <tr style=\"text-align: right;\">\n",
       "      <th></th>\n",
       "      <th>acc</th>\n",
       "      <th>mae</th>\n",
       "      <th>rmse</th>\n",
       "      <th>rmsle</th>\n",
       "      <th>r2_score</th>\n",
       "    </tr>\n",
       "    <tr>\n",
       "      <th>model</th>\n",
       "      <th></th>\n",
       "      <th></th>\n",
       "      <th></th>\n",
       "      <th></th>\n",
       "      <th></th>\n",
       "    </tr>\n",
       "  </thead>\n",
       "  <tbody>\n",
       "    <tr>\n",
       "      <th>cart_vcra</th>\n",
       "      <td>0.886719</td>\n",
       "      <td>0.031447</td>\n",
       "      <td>0.101848</td>\n",
       "      <td>0.074772</td>\n",
       "      <td>0.886719</td>\n",
       "    </tr>\n",
       "    <tr>\n",
       "      <th>mlp_vcra</th>\n",
       "      <td>0.969927</td>\n",
       "      <td>0.019279</td>\n",
       "      <td>0.052141</td>\n",
       "      <td>0.037807</td>\n",
       "      <td>0.970156</td>\n",
       "    </tr>\n",
       "  </tbody>\n",
       "</table>\n",
       "</div>"
      ],
      "text/plain": [
       "                acc       mae      rmse     rmsle  r2_score\n",
       "model                                                      \n",
       "cart_vcra  0.886719  0.031447  0.101848  0.074772  0.886719\n",
       "mlp_vcra   0.969927  0.019279  0.052141  0.037807  0.970156"
      ]
     },
     "execution_count": 16,
     "metadata": {},
     "output_type": "execute_result"
    }
   ],
   "source": [
    "skf_results_df.groupby(level=0).mean(numeric_only=True)"
   ]
  },
  {
   "cell_type": "code",
   "execution_count": 71,
   "metadata": {},
   "outputs": [
    {
     "data": {
      "text/html": [
       "<div>\n",
       "<style scoped>\n",
       "    .dataframe tbody tr th:only-of-type {\n",
       "        vertical-align: middle;\n",
       "    }\n",
       "\n",
       "    .dataframe tbody tr th {\n",
       "        vertical-align: top;\n",
       "    }\n",
       "\n",
       "    .dataframe thead th {\n",
       "        text-align: right;\n",
       "    }\n",
       "</style>\n",
       "<table border=\"1\" class=\"dataframe\">\n",
       "  <thead>\n",
       "    <tr style=\"text-align: right;\">\n",
       "      <th></th>\n",
       "      <th>(-0.001, 0.2]</th>\n",
       "      <th>(0.2, 0.4]</th>\n",
       "      <th>(0.4, 0.6]</th>\n",
       "      <th>(0.6, 0.8]</th>\n",
       "      <th>(0.8, 1.0]</th>\n",
       "    </tr>\n",
       "    <tr>\n",
       "      <th>model</th>\n",
       "      <th></th>\n",
       "      <th></th>\n",
       "      <th></th>\n",
       "      <th></th>\n",
       "      <th></th>\n",
       "    </tr>\n",
       "  </thead>\n",
       "  <tbody>\n",
       "    <tr>\n",
       "      <th>cart_vcra</th>\n",
       "      <td>0.179458</td>\n",
       "      <td>0.066316</td>\n",
       "      <td>0.067501</td>\n",
       "      <td>0.058542</td>\n",
       "      <td>0.038912</td>\n",
       "    </tr>\n",
       "    <tr>\n",
       "      <th>mlp_vcra</th>\n",
       "      <td>0.086902</td>\n",
       "      <td>0.075979</td>\n",
       "      <td>0.049615</td>\n",
       "      <td>0.031168</td>\n",
       "      <td>0.021532</td>\n",
       "    </tr>\n",
       "  </tbody>\n",
       "</table>\n",
       "</div>"
      ],
      "text/plain": [
       "           (-0.001, 0.2]  (0.2, 0.4]  (0.4, 0.6]  (0.6, 0.8]  (0.8, 1.0]\n",
       "model                                                                   \n",
       "cart_vcra       0.179458    0.066316    0.067501    0.058542    0.038912\n",
       "mlp_vcra        0.086902    0.075979    0.049615    0.031168    0.021532"
      ]
     },
     "execution_count": 71,
     "metadata": {},
     "output_type": "execute_result"
    }
   ],
   "source": [
    "def metrics_per_cri_pct(sdf):\n",
    "    buckets = pd.cut(sdf.y_true, bins, right=True, include_lowest=True)\n",
    "    return pd.DataFrame({'y_true': sdf.y_true, 'y_pred': sdf.y_pred}).groupby(buckets).apply(\n",
    "        lambda l: mean_squared_log_error(l.y_true, l.y_pred, squared=False)\n",
    "    )\n",
    "    \n",
    "\n",
    "skf_results_df.apply(\n",
    "    lambda l: metrics_per_cri_pct(l), \n",
    "    axis=1\n",
    ").groupby(level=0).mean()"
   ]
  },
  {
   "cell_type": "code",
   "execution_count": 79,
   "metadata": {},
   "outputs": [],
   "source": [
    "Out[71].columns = ['[0, 0.2]', '(0.2, 0.4]', '(0.4, 0.6]', '(0.6, 0.8]', '(0.8, 1.0]']"
   ]
  },
  {
   "cell_type": "code",
   "execution_count": 80,
   "metadata": {},
   "outputs": [
    {
     "data": {
      "text/html": [
       "<div>\n",
       "<style scoped>\n",
       "    .dataframe tbody tr th:only-of-type {\n",
       "        vertical-align: middle;\n",
       "    }\n",
       "\n",
       "    .dataframe tbody tr th {\n",
       "        vertical-align: top;\n",
       "    }\n",
       "\n",
       "    .dataframe thead th {\n",
       "        text-align: right;\n",
       "    }\n",
       "</style>\n",
       "<table border=\"1\" class=\"dataframe\">\n",
       "  <thead>\n",
       "    <tr style=\"text-align: right;\">\n",
       "      <th></th>\n",
       "      <th>[0, 0.2]</th>\n",
       "      <th>(0.2, 0.4]</th>\n",
       "      <th>(0.4, 0.6]</th>\n",
       "      <th>(0.6, 0.8]</th>\n",
       "      <th>(0.8, 1.0]</th>\n",
       "    </tr>\n",
       "    <tr>\n",
       "      <th>model</th>\n",
       "      <th></th>\n",
       "      <th></th>\n",
       "      <th></th>\n",
       "      <th></th>\n",
       "      <th></th>\n",
       "    </tr>\n",
       "  </thead>\n",
       "  <tbody>\n",
       "    <tr>\n",
       "      <th>cart_vcra</th>\n",
       "      <td>0.179458</td>\n",
       "      <td>0.066316</td>\n",
       "      <td>0.067501</td>\n",
       "      <td>0.058542</td>\n",
       "      <td>0.038912</td>\n",
       "    </tr>\n",
       "    <tr>\n",
       "      <th>mlp_vcra</th>\n",
       "      <td>0.086902</td>\n",
       "      <td>0.075979</td>\n",
       "      <td>0.049615</td>\n",
       "      <td>0.031168</td>\n",
       "      <td>0.021532</td>\n",
       "    </tr>\n",
       "  </tbody>\n",
       "</table>\n",
       "</div>"
      ],
      "text/plain": [
       "           [0, 0.2]  (0.2, 0.4]  (0.4, 0.6]  (0.6, 0.8]  (0.8, 1.0]\n",
       "model                                                              \n",
       "cart_vcra  0.179458    0.066316    0.067501    0.058542    0.038912\n",
       "mlp_vcra   0.086902    0.075979    0.049615    0.031168    0.021532"
      ]
     },
     "execution_count": 80,
     "metadata": {},
     "output_type": "execute_result"
    }
   ],
   "source": [
    "Out[71]"
   ]
  },
  {
   "cell_type": "code",
   "execution_count": null,
   "metadata": {},
   "outputs": [],
   "source": []
  }
 ],
 "metadata": {
  "interpreter": {
   "hash": "26a0fb21edfd8898ccaa2d3be90ad05e47a6ebc73217c056c6f09f953e946973"
  },
  "kernelspec": {
   "display_name": "Python (VesselAI)",
   "language": "python",
   "name": "vesai"
  },
  "language_info": {
   "codemirror_mode": {
    "name": "ipython",
    "version": 3
   },
   "file_extension": ".py",
   "mimetype": "text/x-python",
   "name": "python",
   "nbconvert_exporter": "python",
   "pygments_lexer": "ipython3",
   "version": "3.9.9"
  }
 },
 "nbformat": 4,
 "nbformat_minor": 4
}

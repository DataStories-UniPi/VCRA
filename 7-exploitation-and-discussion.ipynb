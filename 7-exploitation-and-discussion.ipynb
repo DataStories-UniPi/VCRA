{
 "cells": [
  {
   "cell_type": "code",
   "execution_count": 1,
   "id": "c71a7e24",
   "metadata": {},
   "outputs": [],
   "source": [
    "import numpy as np\n",
    "import pandas as pd\n",
    "import geopandas as gpd\n",
    "import contextily as ctx\n",
    "\n",
    "import sys, os\n",
    "import datetime\n",
    "\n",
    "import importlib\n",
    "from tqdm import tqdm\n",
    "\n",
    "import matplotlib.pyplot as plt"
   ]
  },
  {
   "cell_type": "code",
   "execution_count": 3,
   "id": "2995f03f",
   "metadata": {},
   "outputs": [],
   "source": [
    "import st_toolkit as geohl\n",
    "importlib.reload(geohl);\n",
    "\n",
    "import cri_calc as cri\n",
    "importlib.reload(cri);\n",
    "\n",
    "import cri_helper as helper\n",
    "importlib.reload(helper);"
   ]
  },
  {
   "cell_type": "code",
   "execution_count": null,
   "id": "7209502f",
   "metadata": {},
   "outputs": [],
   "source": []
  },
  {
   "cell_type": "markdown",
   "id": "8319c2e5",
   "metadata": {},
   "source": [
    "# Loading Dataset"
   ]
  },
  {
   "cell_type": "code",
   "execution_count": 4,
   "id": "01d77cd4",
   "metadata": {},
   "outputs": [
    {
     "name": "stderr",
     "output_type": "stream",
     "text": [
      "/home/andrewt/miniconda3/envs/vesai/lib/python3.8/site-packages/pandas/core/dtypes/cast.py:122: ShapelyDeprecationWarning: The array interface is deprecated and will no longer work in Shapely 2.0. Convert the '.coords' to a numpy array instead.\n",
      "  arr = construct_1d_object_array_from_listlike(values)\n"
     ]
    }
   ],
   "source": [
    "df = pd.read_csv('./data/unipi_ais_dynamic_jul2018_1w_algn_linear_v2_w_lens.csv', parse_dates=['datetime'])\n",
    "gdf = geohl.getGeoDataFrame_v2(df, crs='epsg:4326')\n",
    "\n",
    "gdf2 = gdf.loc[gdf.datetime.dt.date.between(datetime.date(2018, 7, 3), datetime.date(2018, 7, 3), inclusive='both')].copy()\n",
    "gdf_sub_moving = gdf2.loc[gdf2.speed.between(1, 50, inclusive='neither')].copy()"
   ]
  },
  {
   "cell_type": "code",
   "execution_count": 6,
   "id": "27891f0e",
   "metadata": {},
   "outputs": [],
   "source": [
    "gdf_vcra = pd.read_pickle('./data/unipi_ais_dynamic_jul2018_1w_vcra_dataset_v3.pickle')"
   ]
  },
  {
   "cell_type": "code",
   "execution_count": 7,
   "id": "750480d9",
   "metadata": {},
   "outputs": [
    {
     "name": "stderr",
     "output_type": "stream",
     "text": [
      "Adding Vessels' Length...: 100%|██████████| 960268/960268 [01:43<00:00, 9248.04it/s]\n",
      "Adding Vessels' Length...: 100%|██████████| 960268/960268 [01:41<00:00, 9436.13it/s]\n",
      "Adding Vessels' Length...: 100%|██████████| 960268/960268 [01:44<00:00, 9213.71it/s]\n"
     ]
    }
   ],
   "source": [
    "tqdm.pandas(desc='Adding Vessels\\' Length...')\n",
    "\n",
    "mlp_input = gdf_vcra.loc[gdf_vcra.own_Index.isin(gdf_sub_moving.index.values)].copy()\n",
    "mlp_input.loc[:, 'own_length'] = mlp_input.own_Index.progress_apply(lambda l: gdf_sub_moving.loc[l].length)\n",
    "mlp_input.loc[:, 'own_type'] = mlp_input.own_Index.progress_apply(lambda l: gdf_sub_moving.loc[l].type)\n",
    "mlp_input.loc[:, 'target_type'] = mlp_input.target_Index.progress_apply(lambda l: gdf_sub_moving.loc[l].type)"
   ]
  },
  {
   "cell_type": "code",
   "execution_count": null,
   "id": "d1ecbfc5",
   "metadata": {},
   "outputs": [],
   "source": []
  },
  {
   "cell_type": "markdown",
   "id": "ec62e485",
   "metadata": {},
   "source": [
    "# Getting Test Set"
   ]
  },
  {
   "cell_type": "code",
   "execution_count": 8,
   "id": "854c8c9a",
   "metadata": {},
   "outputs": [],
   "source": [
    "from sklearn.model_selection import train_test_split\n",
    "\n",
    "X = mlp_input[['own_Index', 'own_type', 'dist_euclid', 'own_speed', 'target_speed', 'own_course', 'target_course', 'own_length']].values\n",
    "y = mlp_input[['cri']].values.ravel()\n",
    "\n",
    "X_train, X_test, y_train, y_test = train_test_split(X, y, test_size=0.2, random_state=10)"
   ]
  },
  {
   "cell_type": "code",
   "execution_count": null,
   "id": "29167f23",
   "metadata": {},
   "outputs": [],
   "source": []
  },
  {
   "cell_type": "markdown",
   "id": "41c33347",
   "metadata": {},
   "source": [
    "# Loading Model"
   ]
  },
  {
   "cell_type": "code",
   "execution_count": 9,
   "id": "2627bb23",
   "metadata": {},
   "outputs": [],
   "source": [
    "from joblib import dump, load\n",
    "\n",
    "regr = load('./data/vcra-1w-mlp-hidden_256_32-with_own_length.model.joblib')\n",
    "scaler = load('./data/vcra-1w-mlp-hidden_256_32-with_own_length.scaler.joblib')"
   ]
  },
  {
   "cell_type": "code",
   "execution_count": 15,
   "id": "20466238",
   "metadata": {},
   "outputs": [],
   "source": [
    "mask_cargos = X_test[:, 1] == 'Container Ship'\n",
    "mask_passenger = X_test[:, 1] == 'Ro-Ro/Passenger Ship'\n",
    "\n",
    "X_test_cargos = X_test[mask_cargos]\n",
    "X_test_passenger = X_test[mask_passenger]"
   ]
  },
  {
   "cell_type": "code",
   "execution_count": null,
   "id": "09eff3c1",
   "metadata": {},
   "outputs": [],
   "source": []
  },
  {
   "cell_type": "code",
   "execution_count": 18,
   "id": "ec78b77b",
   "metadata": {},
   "outputs": [],
   "source": [
    "cri_pred_cargos = pd.Series(regr.predict(scaler.transform(X_test_cargos[:, 2:])), name='Predicted CRI').clip(0, 1)\n",
    "cri_pred_passenger = pd.Series(regr.predict(scaler.transform(X_test_passenger[:, 2:])), name='Predicted CRI').clip(0, 1)"
   ]
  },
  {
   "cell_type": "code",
   "execution_count": 19,
   "id": "2ef5d3bb",
   "metadata": {},
   "outputs": [],
   "source": [
    "collisions_cargos = pd.concat((gdf_sub_moving.loc[X_test_cargos[:, 0], ['mmsi', 'timestamp', 'geom', 'type']].reset_index(drop=True), cri_pred_cargos), axis=1)\n",
    "collisions_cargos = gpd.GeoDataFrame(collisions_cargos, geometry='geom', crs='epsg:4326')\n",
    "collisions_cargos.rename({0:'cri'}, axis=1, inplace=True)"
   ]
  },
  {
   "cell_type": "code",
   "execution_count": 20,
   "id": "d9a8f222",
   "metadata": {},
   "outputs": [],
   "source": [
    "collisions_passenger = pd.concat((gdf_sub_moving.loc[X_test_passenger[:, 0], ['mmsi', 'timestamp', 'geom', 'type']].reset_index(drop=True), cri_pred_passenger), axis=1)\n",
    "collisions_passenger = gpd.GeoDataFrame(collisions_passenger, geometry='geom', crs='epsg:4326')\n",
    "collisions_passenger.rename({0:'cri'}, axis=1, inplace=True)"
   ]
  },
  {
   "cell_type": "code",
   "execution_count": null,
   "id": "c3cdc53b",
   "metadata": {},
   "outputs": [],
   "source": []
  },
  {
   "cell_type": "code",
   "execution_count": 23,
   "id": "3166c52c",
   "metadata": {},
   "outputs": [
    {
     "name": "stderr",
     "output_type": "stream",
     "text": [
      "/home/andrewt/miniconda3/envs/vesai/lib/python3.8/site-packages/pyproj/crs/crs.py:131: FutureWarning: '+init=<authority>:<code>' syntax is deprecated. '<authority>:<code>' is the preferred initialization method. When making the change, be mindful of axis order changes: https://pyproj4.github.io/pyproj/stable/gotchas.html#axis-order-changes-in-proj-6\n",
      "  in_crs_string = _prepare_from_proj_string(in_crs_string)\n",
      "/home/andrewt/miniconda3/envs/vesai/lib/python3.8/site-packages/pyproj/crs/crs.py:131: FutureWarning: '+init=<authority>:<code>' syntax is deprecated. '<authority>:<code>' is the preferred initialization method. When making the change, be mindful of axis order changes: https://pyproj4.github.io/pyproj/stable/gotchas.html#axis-order-changes-in-proj-6\n",
      "  in_crs_string = _prepare_from_proj_string(in_crs_string)\n",
      "<timed exec>:35: ShapelyDeprecationWarning: __len__ for multi-part geometries is deprecated and will be removed in Shapely 2.0. Check the length of the `geoms` property instead to get the  number of parts of a multi-part geometry.\n",
      "<timed exec>:35: ShapelyDeprecationWarning: Iteration over multi-part geometries is deprecated and will be removed in Shapely 2.0. Use the `geoms` property to access the constituent parts of a multi-part geometry.\n",
      "/home/andrewt/miniconda3/envs/vesai/lib/python3.8/site-packages/pyproj/crs/crs.py:131: FutureWarning: '+init=<authority>:<code>' syntax is deprecated. '<authority>:<code>' is the preferred initialization method. When making the change, be mindful of axis order changes: https://pyproj4.github.io/pyproj/stable/gotchas.html#axis-order-changes-in-proj-6\n",
      "  in_crs_string = _prepare_from_proj_string(in_crs_string)\n"
     ]
    },
    {
     "name": "stdout",
     "output_type": "stream",
     "text": [
      "CPU times: user 1.47 s, sys: 24.7 ms, total: 1.5 s\n",
      "Wall time: 1.51 s\n"
     ]
    },
    {
     "name": "stderr",
     "output_type": "stream",
     "text": [
      "<timed exec>:35: ShapelyDeprecationWarning: __len__ for multi-part geometries is deprecated and will be removed in Shapely 2.0. Check the length of the `geoms` property instead to get the  number of parts of a multi-part geometry.\n",
      "<timed exec>:35: ShapelyDeprecationWarning: Iteration over multi-part geometries is deprecated and will be removed in Shapely 2.0. Use the `geoms` property to access the constituent parts of a multi-part geometry.\n",
      "/home/andrewt/miniconda3/envs/vesai/lib/python3.8/site-packages/pyproj/crs/crs.py:131: FutureWarning: '+init=<authority>:<code>' syntax is deprecated. '<authority>:<code>' is the preferred initialization method. When making the change, be mindful of axis order changes: https://pyproj4.github.io/pyproj/stable/gotchas.html#axis-order-changes-in-proj-6\n",
      "  in_crs_string = _prepare_from_proj_string(in_crs_string)\n"
     ]
    }
   ],
   "source": [
    "%%time \n",
    "\n",
    "import osmnx as ox\n",
    "from shapely.ops import transform\n",
    "from functools import partial\n",
    "import shapely as shp\n",
    "import pyproj \n",
    "\n",
    "spatial_coverage_cargos = shp.geometry.box(*[*collisions_cargos.total_bounds])\n",
    "spatial_coverage_passenger = shp.geometry.box(*[*collisions_passenger.total_bounds])\n",
    "\n",
    "project = partial(\n",
    "    pyproj.transform,\n",
    "    pyproj.Proj(init='epsg:4326'), # source coordinate system\n",
    "    pyproj.Proj(init='epsg:3857')  # destination coordinate system\n",
    ") \n",
    "\n",
    "# spatial_coverage_grid = create_area_grid(spatial_coverage, crs={'init':'epsg:4326'}, quadrat_width=0.01) # Angular\n",
    "spatial_coverage_grid_cargos = geohl.create_area_grid(transform(project, spatial_coverage_cargos), crs={'init':'epsg:3857'}, quadrat_width=1500) # Meters\n",
    "spatial_coverage_grid_passenger = geohl.create_area_grid(transform(project, spatial_coverage_passenger), crs={'init':'epsg:3857'}, quadrat_width=1500) # Meters"
   ]
  },
  {
   "cell_type": "code",
   "execution_count": 24,
   "id": "9eae3bfc",
   "metadata": {},
   "outputs": [],
   "source": [
    "plt_fontsize = 8\n",
    "\n",
    "\n",
    "def get_heatmap(subplot_ax, spatial_area_heatmap, cmap_name='YlOrRd', vmin=None, vmax=None):\n",
    "    style = \"light_all\"\n",
    "#     cartodb_url_retina = 'https://a.basemaps.cartocdn.com/%s/{z}/{x}/{y}@2x.png' % style\n",
    "    \n",
    "    west, south, east, north = spatial_area_heatmap.to_crs(epsg=3857).total_bounds\n",
    "        \n",
    "    subplot_ax.set_xlim(west, east)\n",
    "    subplot_ax.set_ylim(south, north)\n",
    "\n",
    "     \n",
    "    spatial_area_heatmap.to_crs(epsg=3857).plot(column='no_of_pts', cmap=cmap_name, alpha=0.4, zorder=2, legend=False, ax=subplot_ax)\n",
    "\n",
    "    sm = plt.cm.ScalarMappable(cmap=cmap_name, norm=plt.Normalize(vmin=np.round(spatial_area_heatmap['no_of_pts'].min()) if vmin is None else vmin,\n",
    "                                                                  vmax=np.round(spatial_area_heatmap['no_of_pts'].max()) if vmax is None else vmax))\n",
    "    # empty array for the data range\n",
    "    sm._A = []\n",
    "    # add the colorbar to the figure\n",
    "    cbar = fig.colorbar(sm, orientation='vertical', shrink=0.94, pad=0.02, ax=subplot_ax)\n",
    "\n",
    "#     cax = plt.gcf().get_axes()[1]\n",
    "    #and we can modify it, i.e.:\n",
    "    cbar.ax.tick_params(labelsize=plt_fontsize)\n",
    "    cbar.ax.set_ylabel(r'CRI', fontsize=plt_fontsize, labelpad=5)\n",
    "    \n",
    "#     cbar.ax.set_yticklabels([f'$10^{{\\, {np.int64(label)} }}$' if label.is_integer() else '' for label in cbar.ax.get_yticks()])  # horizontal colorbar\n",
    "    cbar.ax.tick_params(labelsize=plt_fontsize)\n",
    "    cbar.ax.xaxis.set_ticks_position(\"bottom\")\n",
    "\n",
    "    subplot_ax.margins(0)\n",
    "    subplot_ax.tick_params(left=False, labelleft=False, bottom=False, labelbottom=False)\n",
    "\n",
    "    subplot_ax.grid(False)\n",
    "    subplot_ax.ticklabel_format(useOffset=False, style='plain')\n",
    "    \n",
    "    return subplot_ax"
   ]
  },
  {
   "cell_type": "code",
   "execution_count": 25,
   "id": "50b020e2",
   "metadata": {},
   "outputs": [
    {
     "name": "stdout",
     "output_type": "stream",
     "text": [
      "Creating Spatial Index...\n",
      "Classifying Spatial Proximity...\n",
      "Gathering Results...\n"
     ]
    },
    {
     "data": {
      "image/png": "[encoded data removed]",
      "text/plain": [
       "<Figure size 432x288 with 2 Axes>"
      ]
     },
     "metadata": {
      "needs_background": "light"
     },
     "output_type": "display_data"
    }
   ],
   "source": [
    "fig, ax = plt.subplots(nrows=1, ncols=1)\n",
    "target_filename = f'vcra-containers-density-map.jpeg'\n",
    "\n",
    "\n",
    "cluster_tp, trajectories_gdf, cmap_name = 'label', collisions_cargos, 'YlOrRd'\n",
    "\n",
    "cargos_trajectories_gdf_classified = geohl.classify_area_proximity(trajectories_gdf.copy(), spatial_coverage_grid_cargos.to_crs(epsg=4326).copy(), \n",
    "                                                    o_id_column='mmsi', ts_column='timestamp')\n",
    "\n",
    "spatial_coverage_grid_heatmap = spatial_coverage_grid_cargos.copy()\n",
    "\n",
    "\n",
    "\n",
    "spatial_coverage_grid_heatmap['no_of_pts'] = cargos_trajectories_gdf_classified.groupby('area_id').apply(lambda l: l['Predicted CRI'].mean())    \n",
    "get_heatmap(ax, spatial_coverage_grid_heatmap, cmap_name, 0, 1)    \n",
    "\n",
    "ax.set_xlim(2.60e6, 2.65e6)\n",
    "ax.set_ylim(4.53e6, 4.58e6)\n",
    "    \n",
    "ax.xaxis.set_tick_params(labelbottom=True, rotation=45)\n",
    "ax.yaxis.set_tick_params(labelbottom=True)\n",
    "fig.patch.set_visible(False)\n",
    "ax.axis('off')\n",
    "    \n",
    "ctx.add_basemap(ax, attribution='', source=ctx.providers.CartoDB.Positron, zorder=0)\n",
    "\n",
    "\n",
    "plt.savefig(os.path.join(target_filename), dpi=300, bbox_inches='tight')\n",
    "plt.show()  "
   ]
  },
  {
   "cell_type": "code",
   "execution_count": null,
   "id": "0fa1392b",
   "metadata": {},
   "outputs": [],
   "source": []
  },
  {
   "cell_type": "code",
   "execution_count": 26,
   "id": "a506628b",
   "metadata": {},
   "outputs": [
    {
     "name": "stdout",
     "output_type": "stream",
     "text": [
      "Creating Spatial Index...\n",
      "Classifying Spatial Proximity...\n",
      "Gathering Results...\n"
     ]
    },
    {
     "data": {
      "image/png": "[encoded data removed]",
      "text/plain": [
       "<Figure size 432x288 with 2 Axes>"
      ]
     },
     "metadata": {
      "needs_background": "light"
     },
     "output_type": "display_data"
    }
   ],
   "source": [
    "fig, ax = plt.subplots(nrows=1, ncols=1)\n",
    "target_filename = f'vcra-passengers-density-map.jpeg'\n",
    "    \n",
    "\n",
    "cluster_tp, trajectories_gdf, cmap_name = 'label', collisions_passenger, 'YlOrRd'\n",
    "\n",
    "passenger_trajectories_gdf_classified = geohl.classify_area_proximity(trajectories_gdf.copy(), spatial_coverage_grid_passenger.to_crs(epsg=4326).copy(), \n",
    "                                                    o_id_column='mmsi', ts_column='timestamp')\n",
    "\n",
    "spatial_coverage_grid_heatmap = spatial_coverage_grid_passenger.copy()\n",
    "\n",
    "\n",
    "\n",
    "spatial_coverage_grid_heatmap['no_of_pts'] = passenger_trajectories_gdf_classified.groupby('area_id').apply(lambda l: l['Predicted CRI'].mean())    \n",
    "get_heatmap(ax, spatial_coverage_grid_heatmap, cmap_name, 0, 1)    \n",
    "\n",
    "ax.set_xlim(2.60e6, 2.65e6)\n",
    "ax.set_ylim(4.53e6, 4.58e6)\n",
    "    \n",
    "# ax.xaxis.set_tick_params(labelbottom=True, rotation=45)\n",
    "# ax.yaxis.set_tick_params(labelbottom=True)\n",
    "fig.patch.set_visible(False)\n",
    "ax.axis('off')\n",
    "    \n",
    "ctx.add_basemap(ax, attribution='', source=ctx.providers.CartoDB.Positron, zorder=0)\n",
    "\n",
    "\n",
    "plt.savefig(os.path.join(target_filename), dpi=300, bbox_inches='tight')\n",
    "plt.show()  "
   ]
  },
  {
   "cell_type": "code",
   "execution_count": null,
   "id": "a495fe94",
   "metadata": {},
   "outputs": [],
   "source": []
  }
 ],
 "metadata": {
  "kernelspec": {
   "display_name": "Python 3.8.9 64-bit",
   "language": "python",
   "name": "python3"
  },
  "language_info": {
   "codemirror_mode": {
    "name": "ipython",
    "version": 3
   },
   "file_extension": ".py",
   "mimetype": "text/x-python",
   "name": "python",
   "nbconvert_exporter": "python",
   "pygments_lexer": "ipython3",
   "version": "3.8.9"
  },
  "vscode": {
   "interpreter": {
    "hash": "31f2aee4e71d21fbe5cf8b01ff0e069b9275f58929596ceb00d14d90e3e16cd6"
   }
  }
 },
 "nbformat": 4,
 "nbformat_minor": 5
}
